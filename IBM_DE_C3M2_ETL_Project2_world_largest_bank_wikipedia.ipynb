{
  "nbformat": 4,
  "nbformat_minor": 0,
  "metadata": {
    "colab": {
      "provenance": [],
      "collapsed_sections": [
        "x90F0NK4afN-",
        "WEHVG22jeESa"
      ]
    },
    "kernelspec": {
      "name": "python3",
      "display_name": "Python 3"
    },
    "language_info": {
      "name": "python"
    }
  },
  "cells": [
    {
      "cell_type": "markdown",
      "source": [
        "#Scraping information (Sample)"
      ],
      "metadata": {
        "id": "x90F0NK4afN-"
      }
    },
    {
      "cell_type": "code",
      "source": [
        "import requests\n",
        "import sqlite3\n",
        "import pandas as pd\n",
        "from bs4 import BeautifulSoup\n",
        "url = 'https://web.archive.org/web/20230908091635 /https://en.wikipedia.org/wiki/List_of_largest_banks'\n",
        "db_name = 'Banks.db'\n",
        "table_name = 'Largest_banks'\n",
        "csv_path = 'https://cf-courses-data.s3.us.cloud-object-storage.appdomain.cloud/IBMSkillsNetwork-PY0221EN-Coursera/labs/v2/exchange_rate.csv'\n",
        "df = pd.DataFrame(columns=[\"Rank\",\"Bank name\",\"Market cap\"])\n",
        "count = 0\n",
        "html_page = requests.get(url).text\n",
        "data = BeautifulSoup(html_page, 'html.parser')\n",
        "tables = data.find_all('tbody')\n",
        "rows = tables[0].find_all('tr')\n",
        "\n",
        "for row in rows:\n",
        "    if count < 50 :\n",
        "        col = row.find_all('td')\n",
        "        if len(col)!=0:\n",
        "            data_dict = {\"Rank\": int(col[0].contents[0]),\n",
        "                         \"Bank name\": col[1].text.strip(),\n",
        "                         \"Market cap\": float(col[2].contents[0].strip())} # Convert to float and strip newline\n",
        "            df1 = pd.DataFrame(data_dict, index=[0])\n",
        "            df = pd.concat([df,df1], ignore_index=True)\n",
        "            count+=1\n",
        "    else:\n",
        "        break\n",
        "print(df)"
      ],
      "metadata": {
        "colab": {
          "base_uri": "https://localhost:8080/"
        },
        "id": "MFOk4t19aiys",
        "outputId": "02b85071-ca44-4d56-801d-d7be2cd64c3a"
      },
      "execution_count": 151,
      "outputs": [
        {
          "output_type": "stream",
          "name": "stdout",
          "text": [
            "  Rank                                Bank name  Market cap\n",
            "0    1                           JPMorgan Chase      432.92\n",
            "1    2                          Bank of America      231.52\n",
            "2    3  Industrial and Commercial Bank of China      194.56\n",
            "3    4               Agricultural Bank of China      160.68\n",
            "4    5                                HDFC Bank      157.91\n",
            "5    6                              Wells Fargo      155.87\n",
            "6    7                        HSBC Holdings PLC      148.90\n",
            "7    8                           Morgan Stanley      140.83\n",
            "8    9                  China Construction Bank      139.82\n",
            "9   10                            Bank of China      136.81\n"
          ]
        },
        {
          "output_type": "stream",
          "name": "stderr",
          "text": [
            "/var/folders/v5/_jm3xwg16gn354cp70dxvl180000gn/T/ipykernel_42590/1554874126.py:24: FutureWarning: The behavior of DataFrame concatenation with empty or all-NA entries is deprecated. In a future version, this will no longer exclude empty or all-NA columns when determining the result dtypes. To retain the old behavior, exclude the relevant entries before the concat operation.\n",
            "  df = pd.concat([df,df1], ignore_index=True)\n"
          ]
        }
      ]
    },
    {
      "cell_type": "markdown",
      "source": [
        "# **Scenario**"
      ],
      "metadata": {
        "id": "7r8O4bFR_N0r"
      }
    },
    {
      "cell_type": "markdown",
      "source": [
        "As a data engineer, you have to compile the list of the top 10 largest banks in the world ranked by market capitalization in billion USD. Further, you need to transform the data and store it in USD, GBP, EUR, and INR per the exchange rate information made available to you as a CSV file. You should save the processed information table locally in a CSV format and as a database table. Managers from different countries will query the database table to extract the list and note the market capitalization value in their own currency."
      ],
      "metadata": {
        "id": "BVVkzr-w_Q8k"
      }
    },
    {
      "cell_type": "markdown",
      "source": [
        "Directions:\n",
        "\n",
        "1. Write a function to extract the tabular information from the given URL under the heading By Market Capitalization, and save it to a data frame.\n",
        "2. Write a function to transform the data frame by adding columns for Market Capitalization in GBP, EUR, and INR, rounded to 2 decimal places, based on the exchange rate information shared as a CSV file.\n",
        "3. Write a function to load the transformed data frame to an output CSV file.\n",
        "4. Write a function to load the transformed data frame to an SQL database server as a table.\n",
        "5. Write a function to run queries on the database table.\n",
        "6. Run the following queries on the database table:\n",
        "- Extract the information for the London office, that is Name and MC_GBP_Billion\n",
        "- Extract the information for the Berlin office, that is Name and MC_EUR_Billion\n",
        "- Extract the information for New Delhi office, that is Name and MC_INR_Billion\n",
        "7. Write a function to log the progress of the code.\n",
        "8. While executing the data initialization commands and function calls, maintain appropriate log entries."
      ],
      "metadata": {
        "id": "FPySIsb5_cIk"
      }
    },
    {
      "cell_type": "markdown",
      "source": [
        "###Tasks:"
      ],
      "metadata": {
        "id": "tKfhJ12jAfxZ"
      }
    },
    {
      "cell_type": "markdown",
      "source": [
        "\n",
        "Task 1:\n",
        "Write a function log_progress() to log the progress of the code at different stages in a file code_log.txt. Use the list of log points provided to create log entries as every stage of the code.\n",
        "\n",
        "Task 2:\n",
        "Extract the tabular information from the given URL under the heading 'By market capitalization' and save it to a dataframe.\n",
        "a. Inspect the webpage and identify the position and pattern of the tabular information in the HTML code\n",
        "b. Write the code for a function extract() to perform the required data extraction.\n",
        "c. Execute a function call to extract() to verify the output.\n",
        "\n",
        "Task 3:\n",
        "Transform the dataframe by adding columns for Market Capitalization in GBP, EUR and INR, rounded to 2 decimal places, based on the exchange rate information shared as a CSV file.\n",
        "a. Write the code for a function transform() to perform the said task.\n",
        "b. Execute a function call to transform() and verify the output.\n",
        "\n",
        "Task 4:\n",
        "Load the transformed dataframe to an output CSV file. Write a function load_to_csv(), execute a function call and verify the output.\n",
        "\n",
        "Task 5:\n",
        "Load the transformed dataframe to an SQL database server as a table. Write a function load_to_db(), execute a function call and verify the output.\n",
        "\n",
        "Task 6:\n",
        "Run queries on the database table. Write a function run_queries(), execute a given set of queries and verify the output.\n",
        "\n",
        "Task 7:\n",
        "Verify that the log entries have been completed at all stages by checking the contents of the file code_log.txt."
      ],
      "metadata": {
        "id": "FGZKQz0LAWdt"
      }
    },
    {
      "cell_type": "markdown",
      "source": [
        "#Libraries"
      ],
      "metadata": {
        "id": "adXuChLZJw2B"
      }
    },
    {
      "cell_type": "code",
      "execution_count": 152,
      "metadata": {
        "id": "hwpqbO4-9xRU"
      },
      "outputs": [],
      "source": [
        "# Import libraries\n",
        "import requests\n",
        "from bs4 import BeautifulSoup\n",
        "import pandas as pd\n",
        "import numpy as np\n",
        "from datetime import datetime"
      ]
    },
    {
      "cell_type": "markdown",
      "source": [
        "# **Scraping Information**"
      ],
      "metadata": {
        "id": "WEHVG22jeESa"
      }
    },
    {
      "cell_type": "code",
      "source": [
        "import requests\n",
        "import sqlite3\n",
        "import pandas as pd\n",
        "from bs4 import BeautifulSoup\n",
        "url = 'https://web.archive.org/web/20230908091635 /https://en.wikipedia.org/wiki/List_of_largest_banks'\n",
        "db_name = 'Banks.db'\n",
        "table_name = 'Largest_banks'\n",
        "csv_path = 'https://cf-courses-data.s3.us.cloud-object-storage.appdomain.cloud/IBMSkillsNetwork-PY0221EN-Coursera/labs/v2/exchange_rate.csv'\n",
        "df = pd.DataFrame(columns=[\"Rank\",\"Bank name\",\"Market cap\"])\n",
        "count = 0\n",
        "html_page = requests.get(url).text\n",
        "data = BeautifulSoup(html_page, 'html.parser')\n",
        "tables = data.find_all('tbody')\n",
        "rows = tables[0].find_all('tr')\n",
        "\n",
        "for row in rows:\n",
        "    if count < 50 :\n",
        "        col = row.find_all('td')\n",
        "        if len(col)!=0:\n",
        "            data_dict = {\"Rank\": int(col[0].contents[0]),\n",
        "                         \"Bank name\": col[1].text.strip(),\n",
        "                         \"Market cap\": float(col[2].contents[0].strip())} # Convert to float and strip newline\n",
        "            df1 = pd.DataFrame(data_dict, index=[0])\n",
        "            df = pd.concat([df,df1], ignore_index=True)\n",
        "            count+=1\n",
        "    else:\n",
        "        break\n",
        "print(df)"
      ],
      "metadata": {
        "colab": {
          "base_uri": "https://localhost:8080/"
        },
        "id": "ljs2LPvoeJ17",
        "outputId": "4b0ed924-9626-4162-97c5-9763a4bdc222"
      },
      "execution_count": 153,
      "outputs": [
        {
          "output_type": "stream",
          "name": "stdout",
          "text": [
            "  Rank                                Bank name  Market cap\n",
            "0    1                           JPMorgan Chase      432.92\n",
            "1    2                          Bank of America      231.52\n",
            "2    3  Industrial and Commercial Bank of China      194.56\n",
            "3    4               Agricultural Bank of China      160.68\n",
            "4    5                                HDFC Bank      157.91\n",
            "5    6                              Wells Fargo      155.87\n",
            "6    7                        HSBC Holdings PLC      148.90\n",
            "7    8                           Morgan Stanley      140.83\n",
            "8    9                  China Construction Bank      139.82\n",
            "9   10                            Bank of China      136.81\n"
          ]
        },
        {
          "output_type": "stream",
          "name": "stderr",
          "text": [
            "/var/folders/v5/_jm3xwg16gn354cp70dxvl180000gn/T/ipykernel_42590/1554874126.py:24: FutureWarning: The behavior of DataFrame concatenation with empty or all-NA entries is deprecated. In a future version, this will no longer exclude empty or all-NA columns when determining the result dtypes. To retain the old behavior, exclude the relevant entries before the concat operation.\n",
            "  df = pd.concat([df,df1], ignore_index=True)\n"
          ]
        }
      ]
    },
    {
      "cell_type": "markdown",
      "source": [
        "# **Full Code**"
      ],
      "metadata": {
        "id": "yUD_t900emv5"
      }
    },
    {
      "cell_type": "code",
      "source": [
        "# Code for ETL operations on Country-GDP data\n",
        "\n",
        "# Importing the required libraries\n",
        "\n",
        "\n",
        "url = 'https://web.archive.org/web/20230908091635 /https://en.wikipedia.org/wiki/List_of_largest_banks'\n",
        "\n",
        "\n",
        "#Extraction\n",
        "def extract(url, table_attribs):\n",
        "    ''' The purpose of this function is to extract the required\n",
        "    information from the website and save it to a dataframe. The\n",
        "    function returns the dataframe for further processing. '''\n",
        "    page = requests.get(url).text\n",
        "    data = BeautifulSoup(page,'html.parser')\n",
        "    df = pd.DataFrame(columns=table_attribs)\n",
        "    tables = data.find_all('tbody')\n",
        "    rows = tables[0].find_all('tr')\n",
        "    count = 0 # Initialize count here\n",
        "    for row in rows:\n",
        "      if count < 10 :\n",
        "        col = row.find_all('td')\n",
        "        if len(col)!=0:\n",
        "            data_dict = {\"Rank\": int(col[0].contents[0]),\n",
        "                         \"Bank name\": col[1].text.strip(),\n",
        "                         \"Market cap\": float(col[2].contents[0].strip())} # Convert to float and strip newline\n",
        "            df1 = pd.DataFrame(data_dict, index=[0])\n",
        "            df = pd.concat([df,df1], ignore_index=True)\n",
        "            count+=1\n",
        "      else:\n",
        "          break\n",
        "    return df # Return the dataframe"
      ],
      "metadata": {
        "id": "Olm1hSDHemG0"
      },
      "execution_count": 154,
      "outputs": []
    },
    {
      "cell_type": "code",
      "source": [
        "df"
      ],
      "metadata": {
        "colab": {
          "base_uri": "https://localhost:8080/",
          "height": 362
        },
        "id": "Zqae8d_Xkurx",
        "outputId": "102fade6-d00d-488e-b4e0-9b62684baf49"
      },
      "execution_count": 155,
      "outputs": [
        {
          "output_type": "execute_result",
          "data": {
            "text/plain": [
              "  Rank                                Bank name  Market cap\n",
              "0    1                           JPMorgan Chase      432.92\n",
              "1    2                          Bank of America      231.52\n",
              "2    3  Industrial and Commercial Bank of China      194.56\n",
              "3    4               Agricultural Bank of China      160.68\n",
              "4    5                                HDFC Bank      157.91\n",
              "5    6                              Wells Fargo      155.87\n",
              "6    7                        HSBC Holdings PLC      148.90\n",
              "7    8                           Morgan Stanley      140.83\n",
              "8    9                  China Construction Bank      139.82\n",
              "9   10                            Bank of China      136.81"
            ],
            "text/html": [
              "<div>\n",
              "<style scoped>\n",
              "    .dataframe tbody tr th:only-of-type {\n",
              "        vertical-align: middle;\n",
              "    }\n",
              "\n",
              "    .dataframe tbody tr th {\n",
              "        vertical-align: top;\n",
              "    }\n",
              "\n",
              "    .dataframe thead th {\n",
              "        text-align: right;\n",
              "    }\n",
              "</style>\n",
              "<table border=\"1\" class=\"dataframe\">\n",
              "  <thead>\n",
              "    <tr style=\"text-align: right;\">\n",
              "      <th></th>\n",
              "      <th>Rank</th>\n",
              "      <th>Bank name</th>\n",
              "      <th>Market cap</th>\n",
              "    </tr>\n",
              "  </thead>\n",
              "  <tbody>\n",
              "    <tr>\n",
              "      <th>0</th>\n",
              "      <td>1</td>\n",
              "      <td>JPMorgan Chase</td>\n",
              "      <td>432.92</td>\n",
              "    </tr>\n",
              "    <tr>\n",
              "      <th>1</th>\n",
              "      <td>2</td>\n",
              "      <td>Bank of America</td>\n",
              "      <td>231.52</td>\n",
              "    </tr>\n",
              "    <tr>\n",
              "      <th>2</th>\n",
              "      <td>3</td>\n",
              "      <td>Industrial and Commercial Bank of China</td>\n",
              "      <td>194.56</td>\n",
              "    </tr>\n",
              "    <tr>\n",
              "      <th>3</th>\n",
              "      <td>4</td>\n",
              "      <td>Agricultural Bank of China</td>\n",
              "      <td>160.68</td>\n",
              "    </tr>\n",
              "    <tr>\n",
              "      <th>4</th>\n",
              "      <td>5</td>\n",
              "      <td>HDFC Bank</td>\n",
              "      <td>157.91</td>\n",
              "    </tr>\n",
              "    <tr>\n",
              "      <th>5</th>\n",
              "      <td>6</td>\n",
              "      <td>Wells Fargo</td>\n",
              "      <td>155.87</td>\n",
              "    </tr>\n",
              "    <tr>\n",
              "      <th>6</th>\n",
              "      <td>7</td>\n",
              "      <td>HSBC Holdings PLC</td>\n",
              "      <td>148.90</td>\n",
              "    </tr>\n",
              "    <tr>\n",
              "      <th>7</th>\n",
              "      <td>8</td>\n",
              "      <td>Morgan Stanley</td>\n",
              "      <td>140.83</td>\n",
              "    </tr>\n",
              "    <tr>\n",
              "      <th>8</th>\n",
              "      <td>9</td>\n",
              "      <td>China Construction Bank</td>\n",
              "      <td>139.82</td>\n",
              "    </tr>\n",
              "    <tr>\n",
              "      <th>9</th>\n",
              "      <td>10</td>\n",
              "      <td>Bank of China</td>\n",
              "      <td>136.81</td>\n",
              "    </tr>\n",
              "  </tbody>\n",
              "</table>\n",
              "</div>"
            ]
          },
          "metadata": {},
          "execution_count": 155
        }
      ]
    },
    {
      "cell_type": "code",
      "source": [
        "#Transformation\n",
        "def transform(df):\n",
        "    df.rename(columns={'Market cap': 'MC_USD_Billion'}, inplace=True)\n",
        "    exchange_rates = {\n",
        "        'GBP': 0.79,  # 1 USD = 0.79 GBP\n",
        "        'EUR': 0.92,  # 1 USD = 0.92 EUR\n",
        "        'INR': 83.20  # 1 USD = 83.20 INR\n",
        "    }\n",
        "    df['MC_GBP_Billion'] = np.round(df['MC_USD_Billion'] * exchange_rates['GBP'], 2)\n",
        "    df['MC_EUR_Billion'] = np.round(df['MC_USD_Billion'] * exchange_rates['EUR'], 2)\n",
        "    df['MC_INR_Billion'] = np.round(df['MC_USD_Billion'] * exchange_rates['INR'], 2)\n",
        "\n",
        "    return df\n",
        "\n",
        "print(df)"
      ],
      "metadata": {
        "colab": {
          "base_uri": "https://localhost:8080/"
        },
        "id": "pwL4nXkveosV",
        "outputId": "6eb44bcc-c3c9-42d4-fff6-5750e77f4163"
      },
      "execution_count": 156,
      "outputs": [
        {
          "output_type": "stream",
          "name": "stdout",
          "text": [
            "  Rank                                Bank name  Market cap\n",
            "0    1                           JPMorgan Chase      432.92\n",
            "1    2                          Bank of America      231.52\n",
            "2    3  Industrial and Commercial Bank of China      194.56\n",
            "3    4               Agricultural Bank of China      160.68\n",
            "4    5                                HDFC Bank      157.91\n",
            "5    6                              Wells Fargo      155.87\n",
            "6    7                        HSBC Holdings PLC      148.90\n",
            "7    8                           Morgan Stanley      140.83\n",
            "8    9                  China Construction Bank      139.82\n",
            "9   10                            Bank of China      136.81\n"
          ]
        }
      ]
    },
    {
      "cell_type": "code",
      "source": [
        "#Transformation\n",
        "def transform(df):\n",
        "    # Read exchange rate CSV file\n",
        "    exchange_rate_url = 'https://cf-courses-data.s3.us.cloud-object-storage.appdomain.cloud/IBMSkillsNetwork-PY0221EN-Coursera/labs/v2/exchange_rate.csv'\n",
        "    exchange_rates = pd.read_csv(exchange_rate_url).set_index('Currency')['Rate'].to_dict()\n",
        "\n",
        "    # Rename the columns\n",
        "    df = df.rename(columns={'Market cap': 'MC_USD_Billion', 'Bank name': 'Name'})\n",
        "\n",
        "    # Add 3 different columns for different currencies\n",
        "    df['MC_GBP_Billion'] = [np.round(x * exchange_rates['GBP'], 2) for x in df['MC_USD_Billion']]\n",
        "    df['MC_EUR_Billion'] = [np.round(x * exchange_rates['EUR'], 2) for x in df['MC_USD_Billion']]\n",
        "    df['MC_INR_Billion'] = [np.round(x * exchange_rates['INR'], 2) for x in df['MC_USD_Billion']]\n",
        "\n",
        "    return df"
      ],
      "metadata": {
        "id": "5RHiys1WloQC"
      },
      "execution_count": 157,
      "outputs": []
    },
    {
      "cell_type": "code",
      "source": [
        "transformation_df = transform(df)\n",
        "transformation_df"
      ],
      "metadata": {
        "colab": {
          "base_uri": "https://localhost:8080/",
          "height": 626
        },
        "id": "fn2k7UvZe3-Q",
        "outputId": "fd230ea7-a23b-4206-a21d-b2d5c4067507"
      },
      "execution_count": 158,
      "outputs": [
        {
          "output_type": "execute_result",
          "data": {
            "text/plain": [
              "  Rank                                     Name  MC_USD_Billion  \\\n",
              "0    1                           JPMorgan Chase          432.92   \n",
              "1    2                          Bank of America          231.52   \n",
              "2    3  Industrial and Commercial Bank of China          194.56   \n",
              "3    4               Agricultural Bank of China          160.68   \n",
              "4    5                                HDFC Bank          157.91   \n",
              "5    6                              Wells Fargo          155.87   \n",
              "6    7                        HSBC Holdings PLC          148.90   \n",
              "7    8                           Morgan Stanley          140.83   \n",
              "8    9                  China Construction Bank          139.82   \n",
              "9   10                            Bank of China          136.81   \n",
              "\n",
              "   MC_GBP_Billion  MC_EUR_Billion  MC_INR_Billion  \n",
              "0          346.34          402.62        35910.71  \n",
              "1          185.22          215.31        19204.58  \n",
              "2          155.65          180.94        16138.75  \n",
              "3          128.54          149.43        13328.41  \n",
              "4          126.33          146.86        13098.63  \n",
              "5          124.70          144.96        12929.42  \n",
              "6          119.12          138.48        12351.26  \n",
              "7          112.66          130.97        11681.85  \n",
              "8          111.86          130.03        11598.07  \n",
              "9          109.45          127.23        11348.39  "
            ],
            "text/html": [
              "<div>\n",
              "<style scoped>\n",
              "    .dataframe tbody tr th:only-of-type {\n",
              "        vertical-align: middle;\n",
              "    }\n",
              "\n",
              "    .dataframe tbody tr th {\n",
              "        vertical-align: top;\n",
              "    }\n",
              "\n",
              "    .dataframe thead th {\n",
              "        text-align: right;\n",
              "    }\n",
              "</style>\n",
              "<table border=\"1\" class=\"dataframe\">\n",
              "  <thead>\n",
              "    <tr style=\"text-align: right;\">\n",
              "      <th></th>\n",
              "      <th>Rank</th>\n",
              "      <th>Name</th>\n",
              "      <th>MC_USD_Billion</th>\n",
              "      <th>MC_GBP_Billion</th>\n",
              "      <th>MC_EUR_Billion</th>\n",
              "      <th>MC_INR_Billion</th>\n",
              "    </tr>\n",
              "  </thead>\n",
              "  <tbody>\n",
              "    <tr>\n",
              "      <th>0</th>\n",
              "      <td>1</td>\n",
              "      <td>JPMorgan Chase</td>\n",
              "      <td>432.92</td>\n",
              "      <td>346.34</td>\n",
              "      <td>402.62</td>\n",
              "      <td>35910.71</td>\n",
              "    </tr>\n",
              "    <tr>\n",
              "      <th>1</th>\n",
              "      <td>2</td>\n",
              "      <td>Bank of America</td>\n",
              "      <td>231.52</td>\n",
              "      <td>185.22</td>\n",
              "      <td>215.31</td>\n",
              "      <td>19204.58</td>\n",
              "    </tr>\n",
              "    <tr>\n",
              "      <th>2</th>\n",
              "      <td>3</td>\n",
              "      <td>Industrial and Commercial Bank of China</td>\n",
              "      <td>194.56</td>\n",
              "      <td>155.65</td>\n",
              "      <td>180.94</td>\n",
              "      <td>16138.75</td>\n",
              "    </tr>\n",
              "    <tr>\n",
              "      <th>3</th>\n",
              "      <td>4</td>\n",
              "      <td>Agricultural Bank of China</td>\n",
              "      <td>160.68</td>\n",
              "      <td>128.54</td>\n",
              "      <td>149.43</td>\n",
              "      <td>13328.41</td>\n",
              "    </tr>\n",
              "    <tr>\n",
              "      <th>4</th>\n",
              "      <td>5</td>\n",
              "      <td>HDFC Bank</td>\n",
              "      <td>157.91</td>\n",
              "      <td>126.33</td>\n",
              "      <td>146.86</td>\n",
              "      <td>13098.63</td>\n",
              "    </tr>\n",
              "    <tr>\n",
              "      <th>5</th>\n",
              "      <td>6</td>\n",
              "      <td>Wells Fargo</td>\n",
              "      <td>155.87</td>\n",
              "      <td>124.70</td>\n",
              "      <td>144.96</td>\n",
              "      <td>12929.42</td>\n",
              "    </tr>\n",
              "    <tr>\n",
              "      <th>6</th>\n",
              "      <td>7</td>\n",
              "      <td>HSBC Holdings PLC</td>\n",
              "      <td>148.90</td>\n",
              "      <td>119.12</td>\n",
              "      <td>138.48</td>\n",
              "      <td>12351.26</td>\n",
              "    </tr>\n",
              "    <tr>\n",
              "      <th>7</th>\n",
              "      <td>8</td>\n",
              "      <td>Morgan Stanley</td>\n",
              "      <td>140.83</td>\n",
              "      <td>112.66</td>\n",
              "      <td>130.97</td>\n",
              "      <td>11681.85</td>\n",
              "    </tr>\n",
              "    <tr>\n",
              "      <th>8</th>\n",
              "      <td>9</td>\n",
              "      <td>China Construction Bank</td>\n",
              "      <td>139.82</td>\n",
              "      <td>111.86</td>\n",
              "      <td>130.03</td>\n",
              "      <td>11598.07</td>\n",
              "    </tr>\n",
              "    <tr>\n",
              "      <th>9</th>\n",
              "      <td>10</td>\n",
              "      <td>Bank of China</td>\n",
              "      <td>136.81</td>\n",
              "      <td>109.45</td>\n",
              "      <td>127.23</td>\n",
              "      <td>11348.39</td>\n",
              "    </tr>\n",
              "  </tbody>\n",
              "</table>\n",
              "</div>"
            ]
          },
          "metadata": {},
          "execution_count": 158
        }
      ]
    },
    {
      "cell_type": "code",
      "source": [
        "def load_to_csv(df, csv_path):\n",
        "    ''' This function saves the final dataframe as a `CSV` file\n",
        "    in the provided path. Function returns nothing.'''\n",
        "\n",
        "    df.to_csv(csv_path)\n",
        "\n",
        "def load_to_db(df, sql_connection, table_name):\n",
        "    ''' This function saves the final dataframe to as a database table\n",
        "    with the provided name. Function returns nothing.'''\n",
        "\n",
        "    df.to_sql(table_name, sql_connection, if_exists='replace', index=False)\n",
        "\n",
        "def run_query(query_statements, sql_connection):\n",
        "    ''' This function runs the stated queries on the database table and\n",
        "    prints the output on the terminal. Function returns nothing. '''\n",
        "    for query_statement in query_statements:\n",
        "        print(query_statement)\n",
        "        query_output = pd.read_sql(query_statement, sql_connection)\n",
        "        print(query_output)\n",
        "\n",
        "def log_progress(message):\n",
        "    ''' This function logs the mentioned message at a given stage of the\n",
        "    code execution to a log file. Function returns nothing.'''\n",
        "\n",
        "    timestamp_format = '%Y-%h-%d-%H:%M:%S' # Year-Monthname-Day-Hour-Minute-Second\n",
        "    now = datetime.now() # get current timestamp\n",
        "    timestamp = now.strftime(timestamp_format)\n",
        "    with open(\"./code_log.txt\",\"a\") as f:\n",
        "        f.write(timestamp + ' : ' + message + '\\n')\n",
        "\n",
        "''' Here, you define the required entities and call the relevant\n",
        "functions in the correct order to complete the project. Note that this\n",
        "portion is not inside any function.'''\n",
        "\n",
        "url = 'https://web.archive.org/web/20230908091635/https://en.wikipedia.org/wiki/List_of_largest_banks'\n",
        "table_attribs = [\"Rank\", \"Bank name\", \"Market cap\"] # Initial attributes for extraction\n",
        "\n",
        "db_name = 'Banks.db'\n",
        "table_name = 'Largest_banks'\n",
        "csv_path = './Largest_banks_data.csv'\n",
        "\n",
        "log_progress('Preliminaries complete. Initiating ETL process')\n",
        "\n",
        "df = extract(url, table_attribs)\n",
        "\n",
        "log_progress('Data extraction complete. Initiating Transformation process')\n",
        "\n",
        "df = transform(df)\n",
        "\n",
        "# The column names should be correct after transform, this line is kept for clarity but may be redundant\n",
        "df.columns = ['Rank', 'Name', 'MC_USD_Billion', 'MC_GBP_Billion', 'MC_EUR_Billion', 'MC_INR_Billion']\n",
        "\n",
        "\n",
        "log_progress('Data transformation complete. Initiating loading process')\n",
        "\n",
        "load_to_csv(df, csv_path)\n",
        "\n",
        "log_progress('Data saved to CSV file')\n",
        "\n",
        "sql_connection = sqlite3.connect('Banks.db')\n",
        "\n",
        "log_progress('SQL Connection initiated.')\n",
        "\n",
        "load_to_db(df, sql_connection, table_name)\n",
        "\n",
        "log_progress('Data loaded to Database as table. Running the query')\n",
        "\n",
        "query_statements = [\n",
        "    f\"SELECT * FROM Largest_banks;\",\n",
        "    f\"SELECT AVG(MC_GBP_Billion) FROM Largest_banks;\",\n",
        "    f\"SELECT Name FROM Largest_banks LIMIT 5;\" # Using 'Name' as the column name\n",
        "]\n",
        "\n",
        "run_query(query_statements, sql_connection)\n",
        "\n",
        "log_progress('Process Complete.')\n",
        "\n",
        "sql_connection.close()"
      ],
      "metadata": {
        "colab": {
          "base_uri": "https://localhost:8080/"
        },
        "id": "4Am98Spdfcde",
        "outputId": "2abacb60-019f-443f-a7f1-1358afe07ef4"
      },
      "execution_count": 159,
      "outputs": [
        {
          "output_type": "stream",
          "name": "stderr",
          "text": [
            "/var/folders/v5/_jm3xwg16gn354cp70dxvl180000gn/T/ipykernel_42590/713267843.py:28: FutureWarning: The behavior of DataFrame concatenation with empty or all-NA entries is deprecated. In a future version, this will no longer exclude empty or all-NA columns when determining the result dtypes. To retain the old behavior, exclude the relevant entries before the concat operation.\n",
            "  df = pd.concat([df,df1], ignore_index=True)\n"
          ]
        },
        {
          "output_type": "stream",
          "name": "stdout",
          "text": [
            "SELECT * FROM Largest_banks;\n",
            "   Rank                                     Name  MC_USD_Billion  \\\n",
            "0     1                           JPMorgan Chase          432.92   \n",
            "1     2                          Bank of America          231.52   \n",
            "2     3  Industrial and Commercial Bank of China          194.56   \n",
            "3     4               Agricultural Bank of China          160.68   \n",
            "4     5                                HDFC Bank          157.91   \n",
            "5     6                              Wells Fargo          155.87   \n",
            "6     7                        HSBC Holdings PLC          148.90   \n",
            "7     8                           Morgan Stanley          140.83   \n",
            "8     9                  China Construction Bank          139.82   \n",
            "9    10                            Bank of China          136.81   \n",
            "\n",
            "   MC_GBP_Billion  MC_EUR_Billion  MC_INR_Billion  \n",
            "0          346.34          402.62        35910.71  \n",
            "1          185.22          215.31        19204.58  \n",
            "2          155.65          180.94        16138.75  \n",
            "3          128.54          149.43        13328.41  \n",
            "4          126.33          146.86        13098.63  \n",
            "5          124.70          144.96        12929.42  \n",
            "6          119.12          138.48        12351.26  \n",
            "7          112.66          130.97        11681.85  \n",
            "8          111.86          130.03        11598.07  \n",
            "9          109.45          127.23        11348.39  \n",
            "SELECT AVG(MC_GBP_Billion) FROM Largest_banks;\n",
            "   AVG(MC_GBP_Billion)\n",
            "0              151.987\n",
            "SELECT Name FROM Largest_banks LIMIT 5;\n",
            "                                      Name\n",
            "0                           JPMorgan Chase\n",
            "1                          Bank of America\n",
            "2  Industrial and Commercial Bank of China\n",
            "3               Agricultural Bank of China\n",
            "4                                HDFC Bank\n"
          ]
        }
      ]
    },
    {
      "cell_type": "code",
      "source": [
        "#rm code_log.txt"
      ],
      "metadata": {
        "id": "LpNXPokznSj9"
      },
      "execution_count": 160,
      "outputs": []
    },
    {
      "cell_type": "code",
      "source": [],
      "metadata": {
        "id": "85iGUGQHpJ93"
      },
      "execution_count": 160,
      "outputs": []
    }
  ]
}