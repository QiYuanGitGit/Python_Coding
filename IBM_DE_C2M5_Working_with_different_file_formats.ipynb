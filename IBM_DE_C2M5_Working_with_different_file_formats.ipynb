{
  "nbformat": 4,
  "nbformat_minor": 0,
  "metadata": {
    "colab": {
      "provenance": []
    },
    "kernelspec": {
      "name": "python3",
      "display_name": "Python 3"
    },
    "language_info": {
      "name": "python"
    }
  },
  "cells": [
    {
      "cell_type": "markdown",
      "source": [
        "Data Engineering Process:\n",
        "\n",
        "1.  **Extract** - Data extraction is getting data from multiple sources. Ex. Data extraction from a website using Web scraping or gathering information from the data that are stored in different formats(JSON, CSV, XLSX etc.).\n",
        "\n",
        "2.  **Transform** - Transforming the data means removing the data that we don't need for further analysis and converting the data in the format that all the data from the multiple sources is in the same format.\n",
        "\n",
        "3.  **Load** - Loading the data inside a data warehouse. Data warehouse essentially contains large volumes of data that are accessed to gather insights."
      ],
      "metadata": {
        "id": "xXttTPdpHjNX"
      }
    },
    {
      "cell_type": "markdown",
      "source": [
        "#1. Comma-separated values (CSV) file format"
      ],
      "metadata": {
        "id": "GU0rx5ysSiAr"
      }
    },
    {
      "cell_type": "markdown",
      "source": [
        "- The Comma-separated values file format falls under a spreadsheet file format.\n",
        "\n",
        "- In a spreadsheet file format, data is stored in cells. Each cell is organized in rows and columns. A column in the spreadsheet file can have different types. For example, a column can be of string type, a date type, or an integer type.\n",
        "\n",
        "- Each line in CSV file represents an observation, or commonly called a record. Each record may contain one or more fields which are separated by a comma.\n"
      ],
      "metadata": {
        "id": "a_Z_crNBStfU"
      }
    },
    {
      "cell_type": "markdown",
      "source": [
        "##Reading data CSV"
      ],
      "metadata": {
        "id": "Jj8xOUp4S2rp"
      }
    },
    {
      "cell_type": "code",
      "source": [
        "#!pip install seaborn lxml openpyxl"
      ],
      "metadata": {
        "id": "hfdVwFDsW6kL"
      },
      "execution_count": 3,
      "outputs": []
    },
    {
      "cell_type": "code",
      "source": [
        "import pandas as pd\n",
        "\n",
        "filename = \"https://cf-courses-data.s3.us.cloud-object-storage.appdomain.cloud/IBMDeveloperSkillsNetwork-PY0101EN-SkillsNetwork/labs/Module%205/data/addresses.csv\"\n",
        "\n",
        "df = pd.read_csv(filename, header=None)\n",
        "display(df.head())"
      ],
      "metadata": {
        "colab": {
          "base_uri": "https://localhost:8080/",
          "height": 206
        },
        "id": "qq83gR-1Wzou",
        "outputId": "0881c665-e9ae-4108-a039-216fec8787db"
      },
      "execution_count": 5,
      "outputs": [
        {
          "output_type": "display_data",
          "data": {
            "text/plain": [
              "               0         1                                 2          3    4  \\\n",
              "0           John       Doe                 120 jefferson st.  Riverside   NJ   \n",
              "1           Jack  McGinnis                      220 hobo Av.      Phila   PA   \n",
              "2  John \"Da Man\"    Repici                 120 Jefferson St.  Riverside   NJ   \n",
              "3        Stephen     Tyler  7452 Terrace \"At the Plaza\" road   SomeTown   SD   \n",
              "4            NaN  Blankman                               NaN   SomeTown   SD   \n",
              "\n",
              "       5  \n",
              "0   8075  \n",
              "1   9119  \n",
              "2   8075  \n",
              "3  91234  \n",
              "4    298  "
            ],
            "text/html": [
              "<div>\n",
              "<style scoped>\n",
              "    .dataframe tbody tr th:only-of-type {\n",
              "        vertical-align: middle;\n",
              "    }\n",
              "\n",
              "    .dataframe tbody tr th {\n",
              "        vertical-align: top;\n",
              "    }\n",
              "\n",
              "    .dataframe thead th {\n",
              "        text-align: right;\n",
              "    }\n",
              "</style>\n",
              "<table border=\"1\" class=\"dataframe\">\n",
              "  <thead>\n",
              "    <tr style=\"text-align: right;\">\n",
              "      <th></th>\n",
              "      <th>0</th>\n",
              "      <th>1</th>\n",
              "      <th>2</th>\n",
              "      <th>3</th>\n",
              "      <th>4</th>\n",
              "      <th>5</th>\n",
              "    </tr>\n",
              "  </thead>\n",
              "  <tbody>\n",
              "    <tr>\n",
              "      <th>0</th>\n",
              "      <td>John</td>\n",
              "      <td>Doe</td>\n",
              "      <td>120 jefferson st.</td>\n",
              "      <td>Riverside</td>\n",
              "      <td>NJ</td>\n",
              "      <td>8075</td>\n",
              "    </tr>\n",
              "    <tr>\n",
              "      <th>1</th>\n",
              "      <td>Jack</td>\n",
              "      <td>McGinnis</td>\n",
              "      <td>220 hobo Av.</td>\n",
              "      <td>Phila</td>\n",
              "      <td>PA</td>\n",
              "      <td>9119</td>\n",
              "    </tr>\n",
              "    <tr>\n",
              "      <th>2</th>\n",
              "      <td>John \"Da Man\"</td>\n",
              "      <td>Repici</td>\n",
              "      <td>120 Jefferson St.</td>\n",
              "      <td>Riverside</td>\n",
              "      <td>NJ</td>\n",
              "      <td>8075</td>\n",
              "    </tr>\n",
              "    <tr>\n",
              "      <th>3</th>\n",
              "      <td>Stephen</td>\n",
              "      <td>Tyler</td>\n",
              "      <td>7452 Terrace \"At the Plaza\" road</td>\n",
              "      <td>SomeTown</td>\n",
              "      <td>SD</td>\n",
              "      <td>91234</td>\n",
              "    </tr>\n",
              "    <tr>\n",
              "      <th>4</th>\n",
              "      <td>NaN</td>\n",
              "      <td>Blankman</td>\n",
              "      <td>NaN</td>\n",
              "      <td>SomeTown</td>\n",
              "      <td>SD</td>\n",
              "      <td>298</td>\n",
              "    </tr>\n",
              "  </tbody>\n",
              "</table>\n",
              "</div>"
            ]
          },
          "metadata": {}
        }
      ]
    },
    {
      "cell_type": "markdown",
      "source": [
        "###Adding column name to the DataFrame"
      ],
      "metadata": {
        "id": "2osgJ3WVZUOC"
      }
    },
    {
      "cell_type": "code",
      "source": [
        "df.columns =['First Name', 'Last Name', 'Location ', 'City','State','Area Code']\n",
        "\n",
        "df.head()"
      ],
      "metadata": {
        "colab": {
          "base_uri": "https://localhost:8080/",
          "height": 206
        },
        "id": "CFIppH3nZN1z",
        "outputId": "8092e5ae-fef2-451d-ba9f-b29636206be6"
      },
      "execution_count": 8,
      "outputs": [
        {
          "output_type": "execute_result",
          "data": {
            "text/plain": [
              "      First Name Last Name                         Location        City State  \\\n",
              "0           John       Doe                 120 jefferson st.  Riverside    NJ   \n",
              "1           Jack  McGinnis                      220 hobo Av.      Phila    PA   \n",
              "2  John \"Da Man\"    Repici                 120 Jefferson St.  Riverside    NJ   \n",
              "3        Stephen     Tyler  7452 Terrace \"At the Plaza\" road   SomeTown    SD   \n",
              "4            NaN  Blankman                               NaN   SomeTown    SD   \n",
              "\n",
              "   Area Code  \n",
              "0       8075  \n",
              "1       9119  \n",
              "2       8075  \n",
              "3      91234  \n",
              "4        298  "
            ],
            "text/html": [
              "<div>\n",
              "<style scoped>\n",
              "    .dataframe tbody tr th:only-of-type {\n",
              "        vertical-align: middle;\n",
              "    }\n",
              "\n",
              "    .dataframe tbody tr th {\n",
              "        vertical-align: top;\n",
              "    }\n",
              "\n",
              "    .dataframe thead th {\n",
              "        text-align: right;\n",
              "    }\n",
              "</style>\n",
              "<table border=\"1\" class=\"dataframe\">\n",
              "  <thead>\n",
              "    <tr style=\"text-align: right;\">\n",
              "      <th></th>\n",
              "      <th>First Name</th>\n",
              "      <th>Last Name</th>\n",
              "      <th>Location</th>\n",
              "      <th>City</th>\n",
              "      <th>State</th>\n",
              "      <th>Area Code</th>\n",
              "    </tr>\n",
              "  </thead>\n",
              "  <tbody>\n",
              "    <tr>\n",
              "      <th>0</th>\n",
              "      <td>John</td>\n",
              "      <td>Doe</td>\n",
              "      <td>120 jefferson st.</td>\n",
              "      <td>Riverside</td>\n",
              "      <td>NJ</td>\n",
              "      <td>8075</td>\n",
              "    </tr>\n",
              "    <tr>\n",
              "      <th>1</th>\n",
              "      <td>Jack</td>\n",
              "      <td>McGinnis</td>\n",
              "      <td>220 hobo Av.</td>\n",
              "      <td>Phila</td>\n",
              "      <td>PA</td>\n",
              "      <td>9119</td>\n",
              "    </tr>\n",
              "    <tr>\n",
              "      <th>2</th>\n",
              "      <td>John \"Da Man\"</td>\n",
              "      <td>Repici</td>\n",
              "      <td>120 Jefferson St.</td>\n",
              "      <td>Riverside</td>\n",
              "      <td>NJ</td>\n",
              "      <td>8075</td>\n",
              "    </tr>\n",
              "    <tr>\n",
              "      <th>3</th>\n",
              "      <td>Stephen</td>\n",
              "      <td>Tyler</td>\n",
              "      <td>7452 Terrace \"At the Plaza\" road</td>\n",
              "      <td>SomeTown</td>\n",
              "      <td>SD</td>\n",
              "      <td>91234</td>\n",
              "    </tr>\n",
              "    <tr>\n",
              "      <th>4</th>\n",
              "      <td>NaN</td>\n",
              "      <td>Blankman</td>\n",
              "      <td>NaN</td>\n",
              "      <td>SomeTown</td>\n",
              "      <td>SD</td>\n",
              "      <td>298</td>\n",
              "    </tr>\n",
              "  </tbody>\n",
              "</table>\n",
              "</div>"
            ]
          },
          "metadata": {},
          "execution_count": 8
        }
      ]
    },
    {
      "cell_type": "markdown",
      "source": [
        "###Selecting a single column"
      ],
      "metadata": {
        "id": "QbL20RvQZc22"
      }
    },
    {
      "cell_type": "code",
      "source": [
        "df[\"First Name\"]"
      ],
      "metadata": {
        "colab": {
          "base_uri": "https://localhost:8080/"
        },
        "id": "IbWvZG8PZZvp",
        "outputId": "dfdc8ed6-4a48-4b05-95a0-e1b5c3350701"
      },
      "execution_count": 9,
      "outputs": [
        {
          "output_type": "execute_result",
          "data": {
            "text/plain": [
              "0                     John\n",
              "1                     Jack\n",
              "2            John \"Da Man\"\n",
              "3                  Stephen\n",
              "4                      NaN\n",
              "5    Joan \"the bone\", Anne\n",
              "Name: First Name, dtype: object"
            ]
          },
          "metadata": {},
          "execution_count": 9
        }
      ]
    },
    {
      "cell_type": "markdown",
      "source": [
        "###Selecting multiple columns"
      ],
      "metadata": {
        "id": "2ysHfH0cZg1C"
      }
    },
    {
      "cell_type": "code",
      "source": [
        "df[['First Name', 'Last Name', 'Location ', 'City','State','Area Code']]"
      ],
      "metadata": {
        "colab": {
          "base_uri": "https://localhost:8080/",
          "height": 237
        },
        "id": "Y6EiCRm5ZgVK",
        "outputId": "27b41f98-8ebe-464a-b0c5-28537eeab86a"
      },
      "execution_count": 10,
      "outputs": [
        {
          "output_type": "execute_result",
          "data": {
            "text/plain": [
              "              First Name Last Name                         Location   \\\n",
              "0                   John       Doe                 120 jefferson st.   \n",
              "1                   Jack  McGinnis                      220 hobo Av.   \n",
              "2          John \"Da Man\"    Repici                 120 Jefferson St.   \n",
              "3                Stephen     Tyler  7452 Terrace \"At the Plaza\" road   \n",
              "4                    NaN  Blankman                               NaN   \n",
              "5  Joan \"the bone\", Anne       Jet               9th, at Terrace plc   \n",
              "\n",
              "          City State  Area Code  \n",
              "0    Riverside    NJ       8075  \n",
              "1        Phila    PA       9119  \n",
              "2    Riverside    NJ       8075  \n",
              "3     SomeTown    SD      91234  \n",
              "4     SomeTown    SD        298  \n",
              "5  Desert City    CO        123  "
            ],
            "text/html": [
              "<div>\n",
              "<style scoped>\n",
              "    .dataframe tbody tr th:only-of-type {\n",
              "        vertical-align: middle;\n",
              "    }\n",
              "\n",
              "    .dataframe tbody tr th {\n",
              "        vertical-align: top;\n",
              "    }\n",
              "\n",
              "    .dataframe thead th {\n",
              "        text-align: right;\n",
              "    }\n",
              "</style>\n",
              "<table border=\"1\" class=\"dataframe\">\n",
              "  <thead>\n",
              "    <tr style=\"text-align: right;\">\n",
              "      <th></th>\n",
              "      <th>First Name</th>\n",
              "      <th>Last Name</th>\n",
              "      <th>Location</th>\n",
              "      <th>City</th>\n",
              "      <th>State</th>\n",
              "      <th>Area Code</th>\n",
              "    </tr>\n",
              "  </thead>\n",
              "  <tbody>\n",
              "    <tr>\n",
              "      <th>0</th>\n",
              "      <td>John</td>\n",
              "      <td>Doe</td>\n",
              "      <td>120 jefferson st.</td>\n",
              "      <td>Riverside</td>\n",
              "      <td>NJ</td>\n",
              "      <td>8075</td>\n",
              "    </tr>\n",
              "    <tr>\n",
              "      <th>1</th>\n",
              "      <td>Jack</td>\n",
              "      <td>McGinnis</td>\n",
              "      <td>220 hobo Av.</td>\n",
              "      <td>Phila</td>\n",
              "      <td>PA</td>\n",
              "      <td>9119</td>\n",
              "    </tr>\n",
              "    <tr>\n",
              "      <th>2</th>\n",
              "      <td>John \"Da Man\"</td>\n",
              "      <td>Repici</td>\n",
              "      <td>120 Jefferson St.</td>\n",
              "      <td>Riverside</td>\n",
              "      <td>NJ</td>\n",
              "      <td>8075</td>\n",
              "    </tr>\n",
              "    <tr>\n",
              "      <th>3</th>\n",
              "      <td>Stephen</td>\n",
              "      <td>Tyler</td>\n",
              "      <td>7452 Terrace \"At the Plaza\" road</td>\n",
              "      <td>SomeTown</td>\n",
              "      <td>SD</td>\n",
              "      <td>91234</td>\n",
              "    </tr>\n",
              "    <tr>\n",
              "      <th>4</th>\n",
              "      <td>NaN</td>\n",
              "      <td>Blankman</td>\n",
              "      <td>NaN</td>\n",
              "      <td>SomeTown</td>\n",
              "      <td>SD</td>\n",
              "      <td>298</td>\n",
              "    </tr>\n",
              "    <tr>\n",
              "      <th>5</th>\n",
              "      <td>Joan \"the bone\", Anne</td>\n",
              "      <td>Jet</td>\n",
              "      <td>9th, at Terrace plc</td>\n",
              "      <td>Desert City</td>\n",
              "      <td>CO</td>\n",
              "      <td>123</td>\n",
              "    </tr>\n",
              "  </tbody>\n",
              "</table>\n",
              "</div>"
            ]
          },
          "metadata": {},
          "execution_count": 10
        }
      ]
    },
    {
      "cell_type": "markdown",
      "source": [
        "###.loc"
      ],
      "metadata": {
        "id": "eE6KZi9LaLBP"
      }
    },
    {
      "cell_type": "code",
      "source": [
        "# To select the first row\n",
        "df.loc[0]"
      ],
      "metadata": {
        "colab": {
          "base_uri": "https://localhost:8080/"
        },
        "id": "T62RoZk4aGz6",
        "outputId": "da569695-f813-4060-cd59-90cb30a41647"
      },
      "execution_count": 23,
      "outputs": [
        {
          "output_type": "execute_result",
          "data": {
            "text/plain": [
              "First Name                 John\n",
              "Last Name                   Doe\n",
              "Location      120 jefferson st.\n",
              "City                  Riverside\n",
              "State                        NJ\n",
              "Area Code                  8075\n",
              "Name: 0, dtype: object"
            ]
          },
          "metadata": {},
          "execution_count": 23
        }
      ]
    },
    {
      "cell_type": "code",
      "source": [
        "# To select the 0th,1st and 2nd row of \"First Name\" column only\n",
        "df.loc[[0,1,2], \"First Name\" ]"
      ],
      "metadata": {
        "colab": {
          "base_uri": "https://localhost:8080/"
        },
        "id": "KK14u7B6aVYC",
        "outputId": "01b859c4-3e0f-4567-c086-262ee70e2e8f"
      },
      "execution_count": 24,
      "outputs": [
        {
          "output_type": "execute_result",
          "data": {
            "text/plain": [
              "0             John\n",
              "1             Jack\n",
              "2    John \"Da Man\"\n",
              "Name: First Name, dtype: object"
            ]
          },
          "metadata": {},
          "execution_count": 24
        }
      ]
    },
    {
      "cell_type": "markdown",
      "source": [
        "###.iloc"
      ],
      "metadata": {
        "id": "SKPQ9yX0avI5"
      }
    },
    {
      "cell_type": "code",
      "source": [
        "# To select the 0th,1st and 2nd row of \"First Name\" column only\n",
        "df.iloc[[0,1,2], 0]"
      ],
      "metadata": {
        "colab": {
          "base_uri": "https://localhost:8080/"
        },
        "id": "9i4VjjWqas8L",
        "outputId": "6800f04f-e5f7-4233-d367-31c78019cc0a"
      },
      "execution_count": 25,
      "outputs": [
        {
          "output_type": "execute_result",
          "data": {
            "text/plain": [
              "0             John\n",
              "1             Jack\n",
              "2    John \"Da Man\"\n",
              "Name: First Name, dtype: object"
            ]
          },
          "metadata": {},
          "execution_count": 25
        }
      ]
    },
    {
      "cell_type": "markdown",
      "source": [
        "##.transform(func = ) in Pandas"
      ],
      "metadata": {
        "id": "e9zS6STDayxN"
      }
    },
    {
      "cell_type": "code",
      "source": [
        "#import library\n",
        "import pandas as pd\n",
        "import numpy as np"
      ],
      "metadata": {
        "id": "BoItoWpFaxTO"
      },
      "execution_count": 26,
      "outputs": []
    },
    {
      "cell_type": "code",
      "source": [
        "#creating a dataframe\n",
        "df=pd.DataFrame(np.array([[1, 2, 3], [4, 5, 6], [7, 8, 9]]), columns=['a', 'b', 'c'])\n",
        "df"
      ],
      "metadata": {
        "colab": {
          "base_uri": "https://localhost:8080/",
          "height": 143
        },
        "id": "ZfD7z5lNa3Xh",
        "outputId": "b98e7d9d-c2ae-43a4-abd6-9f957d0345e8"
      },
      "execution_count": 27,
      "outputs": [
        {
          "output_type": "execute_result",
          "data": {
            "text/plain": [
              "   a  b  c\n",
              "0  1  2  3\n",
              "1  4  5  6\n",
              "2  7  8  9"
            ],
            "text/html": [
              "<div>\n",
              "<style scoped>\n",
              "    .dataframe tbody tr th:only-of-type {\n",
              "        vertical-align: middle;\n",
              "    }\n",
              "\n",
              "    .dataframe tbody tr th {\n",
              "        vertical-align: top;\n",
              "    }\n",
              "\n",
              "    .dataframe thead th {\n",
              "        text-align: right;\n",
              "    }\n",
              "</style>\n",
              "<table border=\"1\" class=\"dataframe\">\n",
              "  <thead>\n",
              "    <tr style=\"text-align: right;\">\n",
              "      <th></th>\n",
              "      <th>a</th>\n",
              "      <th>b</th>\n",
              "      <th>c</th>\n",
              "    </tr>\n",
              "  </thead>\n",
              "  <tbody>\n",
              "    <tr>\n",
              "      <th>0</th>\n",
              "      <td>1</td>\n",
              "      <td>2</td>\n",
              "      <td>3</td>\n",
              "    </tr>\n",
              "    <tr>\n",
              "      <th>1</th>\n",
              "      <td>4</td>\n",
              "      <td>5</td>\n",
              "      <td>6</td>\n",
              "    </tr>\n",
              "    <tr>\n",
              "      <th>2</th>\n",
              "      <td>7</td>\n",
              "      <td>8</td>\n",
              "      <td>9</td>\n",
              "    </tr>\n",
              "  </tbody>\n",
              "</table>\n",
              "</div>"
            ]
          },
          "metadata": {},
          "execution_count": 27
        }
      ]
    },
    {
      "cell_type": "code",
      "source": [
        "#applying the transform function\n",
        "df = df.transform(func = lambda x : x + 10)\n",
        "df"
      ],
      "metadata": {
        "colab": {
          "base_uri": "https://localhost:8080/",
          "height": 143
        },
        "id": "suNicDSRa9mP",
        "outputId": "0ceb16f0-7446-45ab-94ad-82628f430ee8"
      },
      "execution_count": 28,
      "outputs": [
        {
          "output_type": "execute_result",
          "data": {
            "text/plain": [
              "    a   b   c\n",
              "0  11  12  13\n",
              "1  14  15  16\n",
              "2  17  18  19"
            ],
            "text/html": [
              "<div>\n",
              "<style scoped>\n",
              "    .dataframe tbody tr th:only-of-type {\n",
              "        vertical-align: middle;\n",
              "    }\n",
              "\n",
              "    .dataframe tbody tr th {\n",
              "        vertical-align: top;\n",
              "    }\n",
              "\n",
              "    .dataframe thead th {\n",
              "        text-align: right;\n",
              "    }\n",
              "</style>\n",
              "<table border=\"1\" class=\"dataframe\">\n",
              "  <thead>\n",
              "    <tr style=\"text-align: right;\">\n",
              "      <th></th>\n",
              "      <th>a</th>\n",
              "      <th>b</th>\n",
              "      <th>c</th>\n",
              "    </tr>\n",
              "  </thead>\n",
              "  <tbody>\n",
              "    <tr>\n",
              "      <th>0</th>\n",
              "      <td>11</td>\n",
              "      <td>12</td>\n",
              "      <td>13</td>\n",
              "    </tr>\n",
              "    <tr>\n",
              "      <th>1</th>\n",
              "      <td>14</td>\n",
              "      <td>15</td>\n",
              "      <td>16</td>\n",
              "    </tr>\n",
              "    <tr>\n",
              "      <th>2</th>\n",
              "      <td>17</td>\n",
              "      <td>18</td>\n",
              "      <td>19</td>\n",
              "    </tr>\n",
              "  </tbody>\n",
              "</table>\n",
              "</div>"
            ]
          },
          "metadata": {},
          "execution_count": 28
        }
      ]
    },
    {
      "cell_type": "code",
      "source": [
        "result = df.transform(func = ['sqrt'])\n",
        "display(result)"
      ],
      "metadata": {
        "colab": {
          "base_uri": "https://localhost:8080/",
          "height": 174
        },
        "id": "CZWh_mIvbjzm",
        "outputId": "aa32d8fa-773c-4fc9-de8d-91bd63016d93"
      },
      "execution_count": 32,
      "outputs": [
        {
          "output_type": "display_data",
          "data": {
            "text/plain": [
              "          a         b         c\n",
              "       sqrt      sqrt      sqrt\n",
              "0  3.316625  3.464102  3.605551\n",
              "1  3.741657  3.872983  4.000000\n",
              "2  4.123106  4.242641  4.358899"
            ],
            "text/html": [
              "<div>\n",
              "<style scoped>\n",
              "    .dataframe tbody tr th:only-of-type {\n",
              "        vertical-align: middle;\n",
              "    }\n",
              "\n",
              "    .dataframe tbody tr th {\n",
              "        vertical-align: top;\n",
              "    }\n",
              "\n",
              "    .dataframe thead tr th {\n",
              "        text-align: left;\n",
              "    }\n",
              "</style>\n",
              "<table border=\"1\" class=\"dataframe\">\n",
              "  <thead>\n",
              "    <tr>\n",
              "      <th></th>\n",
              "      <th>a</th>\n",
              "      <th>b</th>\n",
              "      <th>c</th>\n",
              "    </tr>\n",
              "    <tr>\n",
              "      <th></th>\n",
              "      <th>sqrt</th>\n",
              "      <th>sqrt</th>\n",
              "      <th>sqrt</th>\n",
              "    </tr>\n",
              "  </thead>\n",
              "  <tbody>\n",
              "    <tr>\n",
              "      <th>0</th>\n",
              "      <td>3.316625</td>\n",
              "      <td>3.464102</td>\n",
              "      <td>3.605551</td>\n",
              "    </tr>\n",
              "    <tr>\n",
              "      <th>1</th>\n",
              "      <td>3.741657</td>\n",
              "      <td>3.872983</td>\n",
              "      <td>4.000000</td>\n",
              "    </tr>\n",
              "    <tr>\n",
              "      <th>2</th>\n",
              "      <td>4.123106</td>\n",
              "      <td>4.242641</td>\n",
              "      <td>4.358899</td>\n",
              "    </tr>\n",
              "  </tbody>\n",
              "</table>\n",
              "</div>"
            ]
          },
          "metadata": {}
        }
      ]
    },
    {
      "cell_type": "markdown",
      "source": [
        "##Save Data"
      ],
      "metadata": {
        "id": "I9Wqkn6Yjp68"
      }
    },
    {
      "cell_type": "markdown",
      "source": [
        "dataframe.to_csv() method"
      ],
      "metadata": {
        "id": "C2dwrb-ojtkn"
      }
    },
    {
      "cell_type": "code",
      "source": [
        "datatframe.to_csv(\"employee.csv\", index=False)"
      ],
      "metadata": {
        "id": "SjnZ-urmjqzB"
      },
      "execution_count": 52,
      "outputs": []
    },
    {
      "cell_type": "markdown",
      "source": [
        "<h2>Read/Save Other Data Formats</h2>\n",
        "\n",
        "| Data Formate |        Read       |            Save |\n",
        "| ------------ | :---------------: | --------------: |\n",
        "| csv          |  `pd.read_csv()`  |   `df.to_csv()` |\n",
        "| json         |  `pd.read_json()` |  `df.to_json()` |\n",
        "| excel        | `pd.read_excel()` | `df.to_excel()` |\n",
        "| hdf          |  `pd.read_hdf()`  |   `df.to_hdf()` |\n",
        "| sql          |  `pd.read_sql()`  |   `df.to_sql()` |\n",
        "| ...          |        ...        |             ... |"
      ],
      "metadata": {
        "id": "El89SFxRjznD"
      }
    },
    {
      "cell_type": "markdown",
      "source": [
        "#JSON"
      ],
      "metadata": {
        "id": "7BVV3ULgbwMx"
      }
    },
    {
      "cell_type": "markdown",
      "source": [
        "**JSON (JavaScript Object Notation)** is a lightweight data-interchange format. It is easy for humans to read and write.\n",
        "\n",
        "JSON is built on two structures:\n",
        "\n",
        "1.  A collection of name/value pairs. In various languages, this is realized as an object, record, struct, dictionary, hash table, keyed list, or associative array.\n",
        "\n",
        "2.  An ordered list of values. In most languages, this is realized as an array, vector, list, or sequence.\n",
        "\n",
        "JSON is a language-independent data format. It was derived from JavaScript, but many modern programming languages include code to generate and parse JSON-format data. It is a very common data format with a diverse range of applications.\n"
      ],
      "metadata": {
        "id": "3IvltfLKb4jp"
      }
    },
    {
      "cell_type": "markdown",
      "source": [
        "Python supports JSON through a built-in package called json, import the json package in Python script."
      ],
      "metadata": {
        "id": "PVcnzAnIb_Ab"
      }
    },
    {
      "cell_type": "code",
      "source": [
        "import json"
      ],
      "metadata": {
        "id": "lhX_D-CjbnxW"
      },
      "execution_count": 33,
      "outputs": []
    },
    {
      "cell_type": "markdown",
      "source": [
        "##Writing JSON to a File (called serialization)"
      ],
      "metadata": {
        "id": "UCHN8VKncIh2"
      }
    },
    {
      "cell_type": "markdown",
      "source": [
        "Process of converting an object into a special format which is suitable for transmitting over the network or storing in file or database, uses the **dump() or dumps()** function to convert the Python objects into their respective JSON object. This makes it easy to write data to files."
      ],
      "metadata": {
        "id": "F8KAzJRBcR3h"
      }
    },
    {
      "cell_type": "code",
      "source": [
        "import json\n",
        "person = {\n",
        "    'first_name' : 'Mark',\n",
        "    'last_name' : 'abc',\n",
        "    'age' : 27,\n",
        "    'address': {\n",
        "        \"streetAddress\": \"21 2nd Street\",\n",
        "        \"city\": \"New York\",\n",
        "        \"state\": \"NY\",\n",
        "        \"postalCode\": \"10021-3100\"\n",
        "    }\n",
        "}"
      ],
      "metadata": {
        "id": "E-rItAuWcGdy"
      },
      "execution_count": 34,
      "outputs": []
    },
    {
      "cell_type": "markdown",
      "source": [
        "####serialization using dump() function"
      ],
      "metadata": {
        "id": "nprwR6pJdOAq"
      }
    },
    {
      "cell_type": "markdown",
      "source": [
        "**json.dump()** method can be used for writing to JSON file.\n",
        "\n",
        "Syntax: json.dump(dict, file_pointer)\n",
        "\n",
        "Parameters:\n",
        "\n",
        "1.  **dictionary** – name of the dictionary which should be converted to JSON object.\n",
        "2.  **file pointer** – pointer of the file opened in write or append mode.\n"
      ],
      "metadata": {
        "id": "JO5wmxfodRXZ"
      }
    },
    {
      "cell_type": "code",
      "source": [
        "with open('person.json', 'w') as f:  # writing JSON object\n",
        "    json.dump(person, f)"
      ],
      "metadata": {
        "id": "mFyHlQA8dHjM"
      },
      "execution_count": 36,
      "outputs": []
    },
    {
      "cell_type": "code",
      "source": [
        "# Serializing json\n",
        "json_object = json.dumps(person, indent = 4)\n",
        "\n",
        "# Writing to sample.json\n",
        "with open(\"sample.json\", \"w\") as outfile:\n",
        "    outfile.write(json_object)"
      ],
      "metadata": {
        "id": "KeP7y2G9dq8x"
      },
      "execution_count": 37,
      "outputs": []
    },
    {
      "cell_type": "code",
      "source": [
        "print(json_object)"
      ],
      "metadata": {
        "colab": {
          "base_uri": "https://localhost:8080/"
        },
        "id": "zw5c-9obd0qx",
        "outputId": "a1cbdfe5-e4f0-4c63-c5e8-564e99017a21"
      },
      "execution_count": 40,
      "outputs": [
        {
          "output_type": "stream",
          "name": "stdout",
          "text": [
            "{\n",
            "    \"first_name\": \"Mark\",\n",
            "    \"last_name\": \"abc\",\n",
            "    \"age\": 27,\n",
            "    \"address\": {\n",
            "        \"streetAddress\": \"21 2nd Street\",\n",
            "        \"city\": \"New York\",\n",
            "        \"state\": \"NY\",\n",
            "        \"postalCode\": \"10021-3100\"\n",
            "    }\n",
            "}\n"
          ]
        }
      ]
    },
    {
      "cell_type": "markdown",
      "source": [
        "##Reading JSON to a File (Deserialization)"
      ],
      "metadata": {
        "id": "4twjEzFDeE6g"
      }
    },
    {
      "cell_type": "markdown",
      "source": [
        "It converts the special format returned by the serialization back into a usable object."
      ],
      "metadata": {
        "id": "JpuBNhndeNBK"
      }
    },
    {
      "cell_type": "markdown",
      "source": [
        "### Using json.load()\n",
        "\n",
        "The JSON package has json.load() function that loads the json content from a json file into a dictionary.\n",
        "\n",
        "It takes one parameter:\n",
        "\n",
        "**File pointer** : A file pointer that points to a JSON file.\n"
      ],
      "metadata": {
        "id": "ZyA_HfRZeN1a"
      }
    },
    {
      "cell_type": "code",
      "source": [
        "import json\n",
        "\n",
        "# Opening JSON file\n",
        "with open('sample.json', 'r') as openfile:\n",
        "\n",
        "    # Reading from json file\n",
        "    json_object = json.load(openfile)\n",
        "\n",
        "print(json_object)"
      ],
      "metadata": {
        "colab": {
          "base_uri": "https://localhost:8080/"
        },
        "id": "cURrTEMHd4Yf",
        "outputId": "7965a0e6-cf3b-4a0e-fe59-4ff68e939bc5"
      },
      "execution_count": 41,
      "outputs": [
        {
          "output_type": "stream",
          "name": "stdout",
          "text": [
            "{'first_name': 'Mark', 'last_name': 'abc', 'age': 27, 'address': {'streetAddress': '21 2nd Street', 'city': 'New York', 'state': 'NY', 'postalCode': '10021-3100'}}\n"
          ]
        }
      ]
    },
    {
      "cell_type": "code",
      "source": [
        "json_object"
      ],
      "metadata": {
        "colab": {
          "base_uri": "https://localhost:8080/"
        },
        "id": "BBjE-SdveZRq",
        "outputId": "05ffe2c2-3b3b-4a03-83f3-b8064db85fb2"
      },
      "execution_count": 43,
      "outputs": [
        {
          "output_type": "execute_result",
          "data": {
            "text/plain": [
              "{'first_name': 'Mark',\n",
              " 'last_name': 'abc',\n",
              " 'age': 27,\n",
              " 'address': {'streetAddress': '21 2nd Street',\n",
              "  'city': 'New York',\n",
              "  'state': 'NY',\n",
              "  'postalCode': '10021-3100'}}"
            ]
          },
          "metadata": {},
          "execution_count": 43
        }
      ]
    },
    {
      "cell_type": "code",
      "source": [
        "print(type(json_object))"
      ],
      "metadata": {
        "colab": {
          "base_uri": "https://localhost:8080/"
        },
        "id": "4cpqhkGjeV_o",
        "outputId": "79b334ef-4c91-4547-adf4-2e4fba35b629"
      },
      "execution_count": 42,
      "outputs": [
        {
          "output_type": "stream",
          "name": "stdout",
          "text": [
            "<class 'dict'>\n"
          ]
        }
      ]
    },
    {
      "cell_type": "markdown",
      "source": [
        "#XLSX"
      ],
      "metadata": {
        "id": "rkrS2u-IfNXy"
      }
    },
    {
      "cell_type": "markdown",
      "source": [
        "**XLSX** is a Microsoft Excel Open XML file format. It is another type of Spreadsheet file format.\n",
        "\n",
        "In XLSX data is organized under the cells and columns in a sheet.\n"
      ],
      "metadata": {
        "id": "6SUZCedQfTfk"
      }
    },
    {
      "cell_type": "markdown",
      "source": [
        "###Reading the data from XLSX file"
      ],
      "metadata": {
        "id": "cy9GYdz6fWEn"
      }
    },
    {
      "cell_type": "code",
      "source": [
        "filename = \"https://cf-courses-data.s3.us.cloud-object-storage.appdomain.cloud/IBMDeveloperSkillsNetwork-PY0101EN-SkillsNetwork/labs/Module%205/data/file_example_XLSX_10.xlsx\"\n",
        "\n",
        "df = pd.read_excel(\"file_example_XLSX_10.xlsx\")"
      ],
      "metadata": {
        "id": "p_t6ZG9UeWTi"
      },
      "execution_count": 44,
      "outputs": []
    },
    {
      "cell_type": "code",
      "source": [
        "df"
      ],
      "metadata": {
        "colab": {
          "base_uri": "https://localhost:8080/",
          "height": 331
        },
        "id": "UM8tcXKPfsH8",
        "outputId": "35629e47-051c-4d45-acf9-a14f8dfc34c3"
      },
      "execution_count": 45,
      "outputs": [
        {
          "output_type": "execute_result",
          "data": {
            "text/plain": [
              "   0 First Name  Last Name  Gender        Country  Age        Date    Id\n",
              "0  1      Dulce      Abril  Female  United States   32  15/10/2017  1562\n",
              "1  2       Mara  Hashimoto  Female  Great Britain   25  16/08/2016  1582\n",
              "2  3     Philip       Gent    Male         France   36  21/05/2015  2587\n",
              "3  4   Kathleen     Hanner  Female  United States   25  15/10/2017  3549\n",
              "4  5    Nereida    Magwood  Female  United States   58  16/08/2016  2468\n",
              "5  6     Gaston      Brumm    Male  United States   24  21/05/2015  2554\n",
              "6  7       Etta       Hurn  Female  Great Britain   56  15/10/2017  3598\n",
              "7  8    Earlean     Melgar  Female  United States   27  16/08/2016  2456\n",
              "8  9   Vincenza    Weiland  Female  United States   40  21/05/2015  6548"
            ],
            "text/html": [
              "<div>\n",
              "<style scoped>\n",
              "    .dataframe tbody tr th:only-of-type {\n",
              "        vertical-align: middle;\n",
              "    }\n",
              "\n",
              "    .dataframe tbody tr th {\n",
              "        vertical-align: top;\n",
              "    }\n",
              "\n",
              "    .dataframe thead th {\n",
              "        text-align: right;\n",
              "    }\n",
              "</style>\n",
              "<table border=\"1\" class=\"dataframe\">\n",
              "  <thead>\n",
              "    <tr style=\"text-align: right;\">\n",
              "      <th></th>\n",
              "      <th>0</th>\n",
              "      <th>First Name</th>\n",
              "      <th>Last Name</th>\n",
              "      <th>Gender</th>\n",
              "      <th>Country</th>\n",
              "      <th>Age</th>\n",
              "      <th>Date</th>\n",
              "      <th>Id</th>\n",
              "    </tr>\n",
              "  </thead>\n",
              "  <tbody>\n",
              "    <tr>\n",
              "      <th>0</th>\n",
              "      <td>1</td>\n",
              "      <td>Dulce</td>\n",
              "      <td>Abril</td>\n",
              "      <td>Female</td>\n",
              "      <td>United States</td>\n",
              "      <td>32</td>\n",
              "      <td>15/10/2017</td>\n",
              "      <td>1562</td>\n",
              "    </tr>\n",
              "    <tr>\n",
              "      <th>1</th>\n",
              "      <td>2</td>\n",
              "      <td>Mara</td>\n",
              "      <td>Hashimoto</td>\n",
              "      <td>Female</td>\n",
              "      <td>Great Britain</td>\n",
              "      <td>25</td>\n",
              "      <td>16/08/2016</td>\n",
              "      <td>1582</td>\n",
              "    </tr>\n",
              "    <tr>\n",
              "      <th>2</th>\n",
              "      <td>3</td>\n",
              "      <td>Philip</td>\n",
              "      <td>Gent</td>\n",
              "      <td>Male</td>\n",
              "      <td>France</td>\n",
              "      <td>36</td>\n",
              "      <td>21/05/2015</td>\n",
              "      <td>2587</td>\n",
              "    </tr>\n",
              "    <tr>\n",
              "      <th>3</th>\n",
              "      <td>4</td>\n",
              "      <td>Kathleen</td>\n",
              "      <td>Hanner</td>\n",
              "      <td>Female</td>\n",
              "      <td>United States</td>\n",
              "      <td>25</td>\n",
              "      <td>15/10/2017</td>\n",
              "      <td>3549</td>\n",
              "    </tr>\n",
              "    <tr>\n",
              "      <th>4</th>\n",
              "      <td>5</td>\n",
              "      <td>Nereida</td>\n",
              "      <td>Magwood</td>\n",
              "      <td>Female</td>\n",
              "      <td>United States</td>\n",
              "      <td>58</td>\n",
              "      <td>16/08/2016</td>\n",
              "      <td>2468</td>\n",
              "    </tr>\n",
              "    <tr>\n",
              "      <th>5</th>\n",
              "      <td>6</td>\n",
              "      <td>Gaston</td>\n",
              "      <td>Brumm</td>\n",
              "      <td>Male</td>\n",
              "      <td>United States</td>\n",
              "      <td>24</td>\n",
              "      <td>21/05/2015</td>\n",
              "      <td>2554</td>\n",
              "    </tr>\n",
              "    <tr>\n",
              "      <th>6</th>\n",
              "      <td>7</td>\n",
              "      <td>Etta</td>\n",
              "      <td>Hurn</td>\n",
              "      <td>Female</td>\n",
              "      <td>Great Britain</td>\n",
              "      <td>56</td>\n",
              "      <td>15/10/2017</td>\n",
              "      <td>3598</td>\n",
              "    </tr>\n",
              "    <tr>\n",
              "      <th>7</th>\n",
              "      <td>8</td>\n",
              "      <td>Earlean</td>\n",
              "      <td>Melgar</td>\n",
              "      <td>Female</td>\n",
              "      <td>United States</td>\n",
              "      <td>27</td>\n",
              "      <td>16/08/2016</td>\n",
              "      <td>2456</td>\n",
              "    </tr>\n",
              "    <tr>\n",
              "      <th>8</th>\n",
              "      <td>9</td>\n",
              "      <td>Vincenza</td>\n",
              "      <td>Weiland</td>\n",
              "      <td>Female</td>\n",
              "      <td>United States</td>\n",
              "      <td>40</td>\n",
              "      <td>21/05/2015</td>\n",
              "      <td>6548</td>\n",
              "    </tr>\n",
              "  </tbody>\n",
              "</table>\n",
              "</div>"
            ]
          },
          "metadata": {},
          "execution_count": 45
        }
      ]
    },
    {
      "cell_type": "markdown",
      "source": [
        "#XML"
      ],
      "metadata": {
        "id": "LCVtNtuuiTqx"
      }
    },
    {
      "cell_type": "markdown",
      "source": [
        "**XML is also known as Extensible Markup Language**. As the name suggests, it is a markup language. It has certain rules for encoding data. XML file format is a human-readable and machine-readable file format."
      ],
      "metadata": {
        "id": "YUCip77QiXj1"
      }
    },
    {
      "cell_type": "markdown",
      "source": [
        "##Writing with xml.etree.ElementTree"
      ],
      "metadata": {
        "id": "35j4sBaMibiG"
      }
    },
    {
      "cell_type": "code",
      "source": [
        "import xml.etree.ElementTree as ET\n",
        "\n",
        "# create the file structure\n",
        "employee = ET.Element('employee')\n",
        "details = ET.SubElement(employee, 'details')\n",
        "first = ET.SubElement(details, 'firstname')\n",
        "second = ET.SubElement(details, 'lastname')\n",
        "third = ET.SubElement(details, 'age')\n",
        "first.text = 'Shiv'\n",
        "second.text = 'Mishra'\n",
        "third.text = '23'\n",
        "\n",
        "# create a new XML file with the results\n",
        "mydata1 = ET.ElementTree(employee)\n",
        "# myfile = open(\"items2.xml\", \"wb\")\n",
        "# myfile.write(mydata)\n",
        "with open(\"new_sample.xml\", \"wb\") as files:\n",
        "    mydata1.write(files)"
      ],
      "metadata": {
        "id": "11aMAIwViQHc"
      },
      "execution_count": 46,
      "outputs": []
    },
    {
      "cell_type": "markdown",
      "source": [
        "##Reading with xml.etree.ElementTree"
      ],
      "metadata": {
        "id": "CGKnv5Luinlu"
      }
    },
    {
      "cell_type": "markdown",
      "source": [
        "Way to read XML data and put it in a Pandas DataFrame."
      ],
      "metadata": {
        "id": "KYzMwPdditWf"
      }
    },
    {
      "cell_type": "code",
      "source": [
        "import xml.etree.ElementTree as etree\n",
        "\n",
        "filename = \"https://cf-courses-data.s3.us.cloud-object-storage.appdomain.cloud/IBMDeveloperSkillsNetwork-PY0101EN-SkillsNetwork/labs/Module%205/data/Sample-employee-XML-file.xml\"\n"
      ],
      "metadata": {
        "id": "R6yLYDFPilA4"
      },
      "execution_count": 47,
      "outputs": []
    },
    {
      "cell_type": "markdown",
      "source": [
        "Firstly parse an XML file and create a list of columns for data frame, then extract useful information from the XML file and add to a pandas data frame."
      ],
      "metadata": {
        "id": "ALnDY36SjE8r"
      }
    },
    {
      "cell_type": "code",
      "source": [
        "# Parse the XML file\n",
        "tree = etree.parse(\"Sample-employee-XML-file.xml\")\n",
        "\n",
        "# Get the root of the XML tree\n",
        "root = tree.getroot()\n",
        "\n",
        "# Define the columns for the DataFrame\n",
        "columns = [\"firstname\", \"lastname\", \"title\", \"division\", \"building\", \"room\"]\n",
        "\n",
        "# Initialize an empty DataFrame\n",
        "datatframe = pd.DataFrame(columns=columns)\n",
        "\n",
        "# Iterate through each node in the XML root\n",
        "for node in root:\n",
        "    # Extract text from each element\n",
        "    firstname = node.find(\"firstname\").text\n",
        "    lastname = node.find(\"lastname\").text\n",
        "    title = node.find(\"title\").text\n",
        "    division = node.find(\"division\").text\n",
        "    building = node.find(\"building\").text\n",
        "    room = node.find(\"room\").text\n",
        "\n",
        "    # Create a DataFrame for the current row\n",
        "    row_df = pd.DataFrame([[firstname, lastname, title, division, building, room]], columns=columns)\n",
        "\n",
        "    # Concatenate with the existing DataFrame\n",
        "    datatframe = pd.concat([datatframe, row_df], ignore_index=True)"
      ],
      "metadata": {
        "id": "Ap8DinoxjKRl"
      },
      "execution_count": 48,
      "outputs": []
    },
    {
      "cell_type": "code",
      "source": [
        "datatframe"
      ],
      "metadata": {
        "colab": {
          "base_uri": "https://localhost:8080/",
          "height": 174
        },
        "id": "pz6E16mGjMk1",
        "outputId": "d0410b04-053c-4d94-9278-a390493f29dd"
      },
      "execution_count": 49,
      "outputs": [
        {
          "output_type": "execute_result",
          "data": {
            "text/plain": [
              "  firstname lastname      title  division building room\n",
              "0      Shiv   Mishra   Engineer  Computer      301   11\n",
              "1       Yuh    Datta  developer  Computer      303   02\n",
              "2     Rahil     Khan     Tester  Computer      304   10\n",
              "3      Deep   Parekh   Designer  Computer      305   14"
            ],
            "text/html": [
              "<div>\n",
              "<style scoped>\n",
              "    .dataframe tbody tr th:only-of-type {\n",
              "        vertical-align: middle;\n",
              "    }\n",
              "\n",
              "    .dataframe tbody tr th {\n",
              "        vertical-align: top;\n",
              "    }\n",
              "\n",
              "    .dataframe thead th {\n",
              "        text-align: right;\n",
              "    }\n",
              "</style>\n",
              "<table border=\"1\" class=\"dataframe\">\n",
              "  <thead>\n",
              "    <tr style=\"text-align: right;\">\n",
              "      <th></th>\n",
              "      <th>firstname</th>\n",
              "      <th>lastname</th>\n",
              "      <th>title</th>\n",
              "      <th>division</th>\n",
              "      <th>building</th>\n",
              "      <th>room</th>\n",
              "    </tr>\n",
              "  </thead>\n",
              "  <tbody>\n",
              "    <tr>\n",
              "      <th>0</th>\n",
              "      <td>Shiv</td>\n",
              "      <td>Mishra</td>\n",
              "      <td>Engineer</td>\n",
              "      <td>Computer</td>\n",
              "      <td>301</td>\n",
              "      <td>11</td>\n",
              "    </tr>\n",
              "    <tr>\n",
              "      <th>1</th>\n",
              "      <td>Yuh</td>\n",
              "      <td>Datta</td>\n",
              "      <td>developer</td>\n",
              "      <td>Computer</td>\n",
              "      <td>303</td>\n",
              "      <td>02</td>\n",
              "    </tr>\n",
              "    <tr>\n",
              "      <th>2</th>\n",
              "      <td>Rahil</td>\n",
              "      <td>Khan</td>\n",
              "      <td>Tester</td>\n",
              "      <td>Computer</td>\n",
              "      <td>304</td>\n",
              "      <td>10</td>\n",
              "    </tr>\n",
              "    <tr>\n",
              "      <th>3</th>\n",
              "      <td>Deep</td>\n",
              "      <td>Parekh</td>\n",
              "      <td>Designer</td>\n",
              "      <td>Computer</td>\n",
              "      <td>305</td>\n",
              "      <td>14</td>\n",
              "    </tr>\n",
              "  </tbody>\n",
              "</table>\n",
              "</div>"
            ]
          },
          "metadata": {},
          "execution_count": 49
        }
      ]
    },
    {
      "cell_type": "markdown",
      "source": [
        "##Reading xml file using pandas.read_xml function"
      ],
      "metadata": {
        "id": "cHBaj8P_jUv8"
      }
    },
    {
      "cell_type": "markdown",
      "source": [
        "Read the downloaded xml file using the read_xml function present in the pandas library which returns a Dataframe object."
      ],
      "metadata": {
        "id": "e2JXlwaTja4V"
      }
    },
    {
      "cell_type": "code",
      "source": [
        "df=pd.read_xml(\"Sample-employee-XML-file.xml\", xpath=\"/employees/details\")\n",
        "print(df)"
      ],
      "metadata": {
        "colab": {
          "base_uri": "https://localhost:8080/"
        },
        "id": "itscJRWQjR-B",
        "outputId": "b865d3cf-7491-4eba-ce11-2e4d4ab4bace"
      },
      "execution_count": 51,
      "outputs": [
        {
          "output_type": "stream",
          "name": "stdout",
          "text": [
            "  firstname lastname      title  division  building  room\n",
            "0      Shiv   Mishra   Engineer  Computer       301    11\n",
            "1       Yuh    Datta  developer  Computer       303     2\n",
            "2     Rahil     Khan     Tester  Computer       304    10\n",
            "3      Deep   Parekh   Designer  Computer       305    14\n"
          ]
        }
      ]
    },
    {
      "cell_type": "markdown",
      "source": [
        "#Binary File Format"
      ],
      "metadata": {
        "id": "2R6FCguGjmcT"
      }
    },
    {
      "cell_type": "markdown",
      "source": [
        "Format isn't made up of readable characters. It contain formatting information that only certain applications or processors can understand. While humans can read text files, binary files must be run on the appropriate software or processor before humans can read them.\n",
        "\n",
        "Binary files can range from image files like JPEGs or GIFs, audio files like MP3s or binary document formats like Word or PDF."
      ],
      "metadata": {
        "id": "rLPntQWej9o3"
      }
    },
    {
      "cell_type": "markdown",
      "source": [
        "##Reading the Image file (Use PIL)"
      ],
      "metadata": {
        "id": "4rxrGP9moqCs"
      }
    },
    {
      "cell_type": "code",
      "source": [
        "# importing PIL\n",
        "from PIL import Image\n",
        "\n",
        "filename = \"https://hips.hearstapps.com/hmg-prod.s3.amazonaws.com/images/dog-puppy-on-garden-royalty-free-image-1586966191.jpg\"\n",
        "\n",
        "# Read image\n",
        "img = Image.open('./dog.jpg','r')\n",
        "\n",
        "# Output Images\n",
        "img.show()"
      ],
      "metadata": {
        "id": "YBbiGrWzjaUr"
      },
      "execution_count": 53,
      "outputs": []
    },
    {
      "cell_type": "markdown",
      "source": [
        "#Data Analysis Steps"
      ],
      "metadata": {
        "id": "L7uscQZwpESB"
      }
    },
    {
      "cell_type": "markdown",
      "source": [
        "have 768 rows and 9 columns. The first 8 columns represent the features and the last column represent the target/label."
      ],
      "metadata": {
        "id": "IDYWU0R1peLq"
      }
    },
    {
      "cell_type": "code",
      "source": [
        "filename = \"https://cf-courses-data.s3.us.cloud-object-storage.appdomain.cloud/IBMDeveloperSkillsNetwork-PY0101EN-SkillsNetwork/labs/Module%205/data/diabetes.csv\"\n",
        "\n",
        "df = pd.read_csv(\"diabetes.csv\")\n",
        "df.head()"
      ],
      "metadata": {
        "colab": {
          "base_uri": "https://localhost:8080/",
          "height": 206
        },
        "id": "w4JUji-5o-VZ",
        "outputId": "1b4fb9ec-bdd7-4908-bf3f-f8dfb7564336"
      },
      "execution_count": 55,
      "outputs": [
        {
          "output_type": "execute_result",
          "data": {
            "text/plain": [
              "   Pregnancies  Glucose  BloodPressure  SkinThickness  Insulin   BMI  \\\n",
              "0            6      148             72             35        0  33.6   \n",
              "1            1       85             66             29        0  26.6   \n",
              "2            8      183             64              0        0  23.3   \n",
              "3            1       89             66             23       94  28.1   \n",
              "4            0      137             40             35      168  43.1   \n",
              "\n",
              "   DiabetesPedigreeFunction  Age  Outcome  \n",
              "0                     0.627   50        1  \n",
              "1                     0.351   31        0  \n",
              "2                     0.672   32        1  \n",
              "3                     0.167   21        0  \n",
              "4                     2.288   33        1  "
            ],
            "text/html": [
              "<div>\n",
              "<style scoped>\n",
              "    .dataframe tbody tr th:only-of-type {\n",
              "        vertical-align: middle;\n",
              "    }\n",
              "\n",
              "    .dataframe tbody tr th {\n",
              "        vertical-align: top;\n",
              "    }\n",
              "\n",
              "    .dataframe thead th {\n",
              "        text-align: right;\n",
              "    }\n",
              "</style>\n",
              "<table border=\"1\" class=\"dataframe\">\n",
              "  <thead>\n",
              "    <tr style=\"text-align: right;\">\n",
              "      <th></th>\n",
              "      <th>Pregnancies</th>\n",
              "      <th>Glucose</th>\n",
              "      <th>BloodPressure</th>\n",
              "      <th>SkinThickness</th>\n",
              "      <th>Insulin</th>\n",
              "      <th>BMI</th>\n",
              "      <th>DiabetesPedigreeFunction</th>\n",
              "      <th>Age</th>\n",
              "      <th>Outcome</th>\n",
              "    </tr>\n",
              "  </thead>\n",
              "  <tbody>\n",
              "    <tr>\n",
              "      <th>0</th>\n",
              "      <td>6</td>\n",
              "      <td>148</td>\n",
              "      <td>72</td>\n",
              "      <td>35</td>\n",
              "      <td>0</td>\n",
              "      <td>33.6</td>\n",
              "      <td>0.627</td>\n",
              "      <td>50</td>\n",
              "      <td>1</td>\n",
              "    </tr>\n",
              "    <tr>\n",
              "      <th>1</th>\n",
              "      <td>1</td>\n",
              "      <td>85</td>\n",
              "      <td>66</td>\n",
              "      <td>29</td>\n",
              "      <td>0</td>\n",
              "      <td>26.6</td>\n",
              "      <td>0.351</td>\n",
              "      <td>31</td>\n",
              "      <td>0</td>\n",
              "    </tr>\n",
              "    <tr>\n",
              "      <th>2</th>\n",
              "      <td>8</td>\n",
              "      <td>183</td>\n",
              "      <td>64</td>\n",
              "      <td>0</td>\n",
              "      <td>0</td>\n",
              "      <td>23.3</td>\n",
              "      <td>0.672</td>\n",
              "      <td>32</td>\n",
              "      <td>1</td>\n",
              "    </tr>\n",
              "    <tr>\n",
              "      <th>3</th>\n",
              "      <td>1</td>\n",
              "      <td>89</td>\n",
              "      <td>66</td>\n",
              "      <td>23</td>\n",
              "      <td>94</td>\n",
              "      <td>28.1</td>\n",
              "      <td>0.167</td>\n",
              "      <td>21</td>\n",
              "      <td>0</td>\n",
              "    </tr>\n",
              "    <tr>\n",
              "      <th>4</th>\n",
              "      <td>0</td>\n",
              "      <td>137</td>\n",
              "      <td>40</td>\n",
              "      <td>35</td>\n",
              "      <td>168</td>\n",
              "      <td>43.1</td>\n",
              "      <td>2.288</td>\n",
              "      <td>33</td>\n",
              "      <td>1</td>\n",
              "    </tr>\n",
              "  </tbody>\n",
              "</table>\n",
              "</div>"
            ]
          },
          "metadata": {},
          "execution_count": 55
        }
      ]
    },
    {
      "cell_type": "code",
      "source": [
        "df.shape"
      ],
      "metadata": {
        "colab": {
          "base_uri": "https://localhost:8080/"
        },
        "id": "Mo_5FfV4pOwo",
        "outputId": "9b744d8a-743f-432e-a0a2-85e7fffecb4d"
      },
      "execution_count": 56,
      "outputs": [
        {
          "output_type": "execute_result",
          "data": {
            "text/plain": [
              "(768, 9)"
            ]
          },
          "metadata": {},
          "execution_count": 56
        }
      ]
    },
    {
      "cell_type": "markdown",
      "source": [
        "##Statistical Overview of dataset"
      ],
      "metadata": {
        "id": "m-69y1oDphzq"
      }
    },
    {
      "cell_type": "code",
      "source": [
        "df.info()"
      ],
      "metadata": {
        "colab": {
          "base_uri": "https://localhost:8080/"
        },
        "id": "1aco9xKqpb5_",
        "outputId": "cfdf7401-282e-4ec4-cd02-30a3684cefe8"
      },
      "execution_count": 57,
      "outputs": [
        {
          "output_type": "stream",
          "name": "stdout",
          "text": [
            "<class 'pandas.core.frame.DataFrame'>\n",
            "RangeIndex: 768 entries, 0 to 767\n",
            "Data columns (total 9 columns):\n",
            " #   Column                    Non-Null Count  Dtype  \n",
            "---  ------                    --------------  -----  \n",
            " 0   Pregnancies               768 non-null    int64  \n",
            " 1   Glucose                   768 non-null    int64  \n",
            " 2   BloodPressure             768 non-null    int64  \n",
            " 3   SkinThickness             768 non-null    int64  \n",
            " 4   Insulin                   768 non-null    int64  \n",
            " 5   BMI                       768 non-null    float64\n",
            " 6   DiabetesPedigreeFunction  768 non-null    float64\n",
            " 7   Age                       768 non-null    int64  \n",
            " 8   Outcome                   768 non-null    int64  \n",
            "dtypes: float64(2), int64(7)\n",
            "memory usage: 54.1 KB\n"
          ]
        }
      ]
    },
    {
      "cell_type": "markdown",
      "source": [
        "This method prints information about a DataFrame including the index dtype and columns, non-null values and memory usage."
      ],
      "metadata": {
        "id": "czT3WlNwpq3l"
      }
    },
    {
      "cell_type": "code",
      "source": [
        "df.describe()"
      ],
      "metadata": {
        "colab": {
          "base_uri": "https://localhost:8080/",
          "height": 300
        },
        "id": "FIRjW_RipkbT",
        "outputId": "deab6e1e-f01d-43cb-8294-701ec5c4fe4a"
      },
      "execution_count": 58,
      "outputs": [
        {
          "output_type": "execute_result",
          "data": {
            "text/plain": [
              "       Pregnancies     Glucose  BloodPressure  SkinThickness     Insulin  \\\n",
              "count   768.000000  768.000000     768.000000     768.000000  768.000000   \n",
              "mean      3.845052  120.894531      69.105469      20.536458   79.799479   \n",
              "std       3.369578   31.972618      19.355807      15.952218  115.244002   \n",
              "min       0.000000    0.000000       0.000000       0.000000    0.000000   \n",
              "25%       1.000000   99.000000      62.000000       0.000000    0.000000   \n",
              "50%       3.000000  117.000000      72.000000      23.000000   30.500000   \n",
              "75%       6.000000  140.250000      80.000000      32.000000  127.250000   \n",
              "max      17.000000  199.000000     122.000000      99.000000  846.000000   \n",
              "\n",
              "              BMI  DiabetesPedigreeFunction         Age     Outcome  \n",
              "count  768.000000                768.000000  768.000000  768.000000  \n",
              "mean    31.992578                  0.471876   33.240885    0.348958  \n",
              "std      7.884160                  0.331329   11.760232    0.476951  \n",
              "min      0.000000                  0.078000   21.000000    0.000000  \n",
              "25%     27.300000                  0.243750   24.000000    0.000000  \n",
              "50%     32.000000                  0.372500   29.000000    0.000000  \n",
              "75%     36.600000                  0.626250   41.000000    1.000000  \n",
              "max     67.100000                  2.420000   81.000000    1.000000  "
            ],
            "text/html": [
              "<div>\n",
              "<style scoped>\n",
              "    .dataframe tbody tr th:only-of-type {\n",
              "        vertical-align: middle;\n",
              "    }\n",
              "\n",
              "    .dataframe tbody tr th {\n",
              "        vertical-align: top;\n",
              "    }\n",
              "\n",
              "    .dataframe thead th {\n",
              "        text-align: right;\n",
              "    }\n",
              "</style>\n",
              "<table border=\"1\" class=\"dataframe\">\n",
              "  <thead>\n",
              "    <tr style=\"text-align: right;\">\n",
              "      <th></th>\n",
              "      <th>Pregnancies</th>\n",
              "      <th>Glucose</th>\n",
              "      <th>BloodPressure</th>\n",
              "      <th>SkinThickness</th>\n",
              "      <th>Insulin</th>\n",
              "      <th>BMI</th>\n",
              "      <th>DiabetesPedigreeFunction</th>\n",
              "      <th>Age</th>\n",
              "      <th>Outcome</th>\n",
              "    </tr>\n",
              "  </thead>\n",
              "  <tbody>\n",
              "    <tr>\n",
              "      <th>count</th>\n",
              "      <td>768.000000</td>\n",
              "      <td>768.000000</td>\n",
              "      <td>768.000000</td>\n",
              "      <td>768.000000</td>\n",
              "      <td>768.000000</td>\n",
              "      <td>768.000000</td>\n",
              "      <td>768.000000</td>\n",
              "      <td>768.000000</td>\n",
              "      <td>768.000000</td>\n",
              "    </tr>\n",
              "    <tr>\n",
              "      <th>mean</th>\n",
              "      <td>3.845052</td>\n",
              "      <td>120.894531</td>\n",
              "      <td>69.105469</td>\n",
              "      <td>20.536458</td>\n",
              "      <td>79.799479</td>\n",
              "      <td>31.992578</td>\n",
              "      <td>0.471876</td>\n",
              "      <td>33.240885</td>\n",
              "      <td>0.348958</td>\n",
              "    </tr>\n",
              "    <tr>\n",
              "      <th>std</th>\n",
              "      <td>3.369578</td>\n",
              "      <td>31.972618</td>\n",
              "      <td>19.355807</td>\n",
              "      <td>15.952218</td>\n",
              "      <td>115.244002</td>\n",
              "      <td>7.884160</td>\n",
              "      <td>0.331329</td>\n",
              "      <td>11.760232</td>\n",
              "      <td>0.476951</td>\n",
              "    </tr>\n",
              "    <tr>\n",
              "      <th>min</th>\n",
              "      <td>0.000000</td>\n",
              "      <td>0.000000</td>\n",
              "      <td>0.000000</td>\n",
              "      <td>0.000000</td>\n",
              "      <td>0.000000</td>\n",
              "      <td>0.000000</td>\n",
              "      <td>0.078000</td>\n",
              "      <td>21.000000</td>\n",
              "      <td>0.000000</td>\n",
              "    </tr>\n",
              "    <tr>\n",
              "      <th>25%</th>\n",
              "      <td>1.000000</td>\n",
              "      <td>99.000000</td>\n",
              "      <td>62.000000</td>\n",
              "      <td>0.000000</td>\n",
              "      <td>0.000000</td>\n",
              "      <td>27.300000</td>\n",
              "      <td>0.243750</td>\n",
              "      <td>24.000000</td>\n",
              "      <td>0.000000</td>\n",
              "    </tr>\n",
              "    <tr>\n",
              "      <th>50%</th>\n",
              "      <td>3.000000</td>\n",
              "      <td>117.000000</td>\n",
              "      <td>72.000000</td>\n",
              "      <td>23.000000</td>\n",
              "      <td>30.500000</td>\n",
              "      <td>32.000000</td>\n",
              "      <td>0.372500</td>\n",
              "      <td>29.000000</td>\n",
              "      <td>0.000000</td>\n",
              "    </tr>\n",
              "    <tr>\n",
              "      <th>75%</th>\n",
              "      <td>6.000000</td>\n",
              "      <td>140.250000</td>\n",
              "      <td>80.000000</td>\n",
              "      <td>32.000000</td>\n",
              "      <td>127.250000</td>\n",
              "      <td>36.600000</td>\n",
              "      <td>0.626250</td>\n",
              "      <td>41.000000</td>\n",
              "      <td>1.000000</td>\n",
              "    </tr>\n",
              "    <tr>\n",
              "      <th>max</th>\n",
              "      <td>17.000000</td>\n",
              "      <td>199.000000</td>\n",
              "      <td>122.000000</td>\n",
              "      <td>99.000000</td>\n",
              "      <td>846.000000</td>\n",
              "      <td>67.100000</td>\n",
              "      <td>2.420000</td>\n",
              "      <td>81.000000</td>\n",
              "      <td>1.000000</td>\n",
              "    </tr>\n",
              "  </tbody>\n",
              "</table>\n",
              "</div>"
            ]
          },
          "metadata": {},
          "execution_count": 58
        }
      ]
    },
    {
      "cell_type": "markdown",
      "source": [
        "describe() is used to view some basic statistical details like percentile, mean, standard deviation, etc. of a data frame or a series of numeric values. When this method is applied to a series of strings, it returns a different output"
      ],
      "metadata": {
        "id": "fnAKNReiprvu"
      }
    },
    {
      "cell_type": "markdown",
      "source": [
        "##Identify and handle missing values"
      ],
      "metadata": {
        "id": "xiTBNvVmp0RF"
      }
    },
    {
      "cell_type": "markdown",
      "source": [
        "There are two methods to detect missing data:\n",
        "\n",
        "**.isnull()**\n",
        "\n",
        "**.notnull()**\n",
        "\n",
        "The output is a boolean value indicating whether the value that is passed into the argument is in fact missing data."
      ],
      "metadata": {
        "id": "gSiYiQw2p-iI"
      }
    },
    {
      "cell_type": "code",
      "source": [
        "missing_data = df.isnull()\n",
        "missing_data.head(5)"
      ],
      "metadata": {
        "colab": {
          "base_uri": "https://localhost:8080/",
          "height": 206
        },
        "id": "FTJ8O_C1pm5I",
        "outputId": "f1f72c1d-e54e-4067-a1ae-08d345d4a451"
      },
      "execution_count": 60,
      "outputs": [
        {
          "output_type": "execute_result",
          "data": {
            "text/plain": [
              "   Pregnancies  Glucose  BloodPressure  SkinThickness  Insulin    BMI  \\\n",
              "0        False    False          False          False    False  False   \n",
              "1        False    False          False          False    False  False   \n",
              "2        False    False          False          False    False  False   \n",
              "3        False    False          False          False    False  False   \n",
              "4        False    False          False          False    False  False   \n",
              "\n",
              "   DiabetesPedigreeFunction    Age  Outcome  \n",
              "0                     False  False    False  \n",
              "1                     False  False    False  \n",
              "2                     False  False    False  \n",
              "3                     False  False    False  \n",
              "4                     False  False    False  "
            ],
            "text/html": [
              "<div>\n",
              "<style scoped>\n",
              "    .dataframe tbody tr th:only-of-type {\n",
              "        vertical-align: middle;\n",
              "    }\n",
              "\n",
              "    .dataframe tbody tr th {\n",
              "        vertical-align: top;\n",
              "    }\n",
              "\n",
              "    .dataframe thead th {\n",
              "        text-align: right;\n",
              "    }\n",
              "</style>\n",
              "<table border=\"1\" class=\"dataframe\">\n",
              "  <thead>\n",
              "    <tr style=\"text-align: right;\">\n",
              "      <th></th>\n",
              "      <th>Pregnancies</th>\n",
              "      <th>Glucose</th>\n",
              "      <th>BloodPressure</th>\n",
              "      <th>SkinThickness</th>\n",
              "      <th>Insulin</th>\n",
              "      <th>BMI</th>\n",
              "      <th>DiabetesPedigreeFunction</th>\n",
              "      <th>Age</th>\n",
              "      <th>Outcome</th>\n",
              "    </tr>\n",
              "  </thead>\n",
              "  <tbody>\n",
              "    <tr>\n",
              "      <th>0</th>\n",
              "      <td>False</td>\n",
              "      <td>False</td>\n",
              "      <td>False</td>\n",
              "      <td>False</td>\n",
              "      <td>False</td>\n",
              "      <td>False</td>\n",
              "      <td>False</td>\n",
              "      <td>False</td>\n",
              "      <td>False</td>\n",
              "    </tr>\n",
              "    <tr>\n",
              "      <th>1</th>\n",
              "      <td>False</td>\n",
              "      <td>False</td>\n",
              "      <td>False</td>\n",
              "      <td>False</td>\n",
              "      <td>False</td>\n",
              "      <td>False</td>\n",
              "      <td>False</td>\n",
              "      <td>False</td>\n",
              "      <td>False</td>\n",
              "    </tr>\n",
              "    <tr>\n",
              "      <th>2</th>\n",
              "      <td>False</td>\n",
              "      <td>False</td>\n",
              "      <td>False</td>\n",
              "      <td>False</td>\n",
              "      <td>False</td>\n",
              "      <td>False</td>\n",
              "      <td>False</td>\n",
              "      <td>False</td>\n",
              "      <td>False</td>\n",
              "    </tr>\n",
              "    <tr>\n",
              "      <th>3</th>\n",
              "      <td>False</td>\n",
              "      <td>False</td>\n",
              "      <td>False</td>\n",
              "      <td>False</td>\n",
              "      <td>False</td>\n",
              "      <td>False</td>\n",
              "      <td>False</td>\n",
              "      <td>False</td>\n",
              "      <td>False</td>\n",
              "    </tr>\n",
              "    <tr>\n",
              "      <th>4</th>\n",
              "      <td>False</td>\n",
              "      <td>False</td>\n",
              "      <td>False</td>\n",
              "      <td>False</td>\n",
              "      <td>False</td>\n",
              "      <td>False</td>\n",
              "      <td>False</td>\n",
              "      <td>False</td>\n",
              "      <td>False</td>\n",
              "    </tr>\n",
              "  </tbody>\n",
              "</table>\n",
              "</div>"
            ]
          },
          "metadata": {},
          "execution_count": 60
        }
      ]
    },
    {
      "cell_type": "markdown",
      "source": [
        "###Count missing values in each column"
      ],
      "metadata": {
        "id": "BvFQ8G7uqE4f"
      }
    },
    {
      "cell_type": "markdown",
      "source": [
        "\"True\" represents a missing value, \"False\" means the value is present in the dataset."
      ],
      "metadata": {
        "id": "0yPXpZcHqL-y"
      }
    },
    {
      "cell_type": "code",
      "source": [
        "for column in missing_data.columns.values.tolist():\n",
        "    print(column)\n",
        "    print (missing_data[column].value_counts())\n",
        "    print(\"\")"
      ],
      "metadata": {
        "colab": {
          "base_uri": "https://localhost:8080/"
        },
        "id": "0VmihqCup9ws",
        "outputId": "9e33bfab-a024-4fca-c7f9-098c2f980ea9"
      },
      "execution_count": 61,
      "outputs": [
        {
          "output_type": "stream",
          "name": "stdout",
          "text": [
            "Pregnancies\n",
            "Pregnancies\n",
            "False    768\n",
            "Name: count, dtype: int64\n",
            "\n",
            "Glucose\n",
            "Glucose\n",
            "False    768\n",
            "Name: count, dtype: int64\n",
            "\n",
            "BloodPressure\n",
            "BloodPressure\n",
            "False    768\n",
            "Name: count, dtype: int64\n",
            "\n",
            "SkinThickness\n",
            "SkinThickness\n",
            "False    768\n",
            "Name: count, dtype: int64\n",
            "\n",
            "Insulin\n",
            "Insulin\n",
            "False    768\n",
            "Name: count, dtype: int64\n",
            "\n",
            "BMI\n",
            "BMI\n",
            "False    768\n",
            "Name: count, dtype: int64\n",
            "\n",
            "DiabetesPedigreeFunction\n",
            "DiabetesPedigreeFunction\n",
            "False    768\n",
            "Name: count, dtype: int64\n",
            "\n",
            "Age\n",
            "Age\n",
            "False    768\n",
            "Name: count, dtype: int64\n",
            "\n",
            "Outcome\n",
            "Outcome\n",
            "False    768\n",
            "Name: count, dtype: int64\n",
            "\n"
          ]
        }
      ]
    },
    {
      "cell_type": "markdown",
      "source": [
        "there is no missing values in the dataset."
      ],
      "metadata": {
        "id": "FSPyHbC0qWSQ"
      }
    },
    {
      "cell_type": "markdown",
      "source": [
        "##Check data format"
      ],
      "metadata": {
        "id": "g2GoPx3hqavd"
      }
    },
    {
      "cell_type": "markdown",
      "source": [
        "<p><b>.dtype()</b> to check the data type</p>\n",
        "<p><b>.astype()</b> to change the data type</p>\n",
        "\n",
        "Numerical variables should have type **'float'** or **'int'**."
      ],
      "metadata": {
        "id": "M0V_iQLyqx8B"
      }
    },
    {
      "cell_type": "code",
      "source": [
        "df.dtypes"
      ],
      "metadata": {
        "colab": {
          "base_uri": "https://localhost:8080/"
        },
        "id": "3Kw2NGSKquT1",
        "outputId": "ac8b6cfa-6199-43ff-d0d7-26add032b303"
      },
      "execution_count": 62,
      "outputs": [
        {
          "output_type": "execute_result",
          "data": {
            "text/plain": [
              "Pregnancies                   int64\n",
              "Glucose                       int64\n",
              "BloodPressure                 int64\n",
              "SkinThickness                 int64\n",
              "Insulin                       int64\n",
              "BMI                         float64\n",
              "DiabetesPedigreeFunction    float64\n",
              "Age                           int64\n",
              "Outcome                       int64\n",
              "dtype: object"
            ]
          },
          "metadata": {},
          "execution_count": 62
        }
      ]
    },
    {
      "cell_type": "markdown",
      "source": [
        "##Visualization"
      ],
      "metadata": {
        "id": "8bn1jP0vq51o"
      }
    },
    {
      "cell_type": "markdown",
      "source": [
        "To get insights from the dataset. **Seaborn** and **Matplotlib**"
      ],
      "metadata": {
        "id": "DIWimM0Yq_in"
      }
    },
    {
      "cell_type": "code",
      "source": [
        "# import libraries\n",
        "import matplotlib.pyplot as plt\n",
        "import seaborn as sns"
      ],
      "metadata": {
        "id": "be-wCO89q5J_"
      },
      "execution_count": 63,
      "outputs": []
    },
    {
      "cell_type": "code",
      "source": [
        "labels= 'Not Diabetic','Diabetic'\n",
        "plt.pie(df['Outcome'].value_counts(),labels=labels,autopct='%0.02f%%')\n",
        "plt.legend()\n",
        "plt.show()"
      ],
      "metadata": {
        "colab": {
          "base_uri": "https://localhost:8080/",
          "height": 406
        },
        "id": "WXeZ0ZUHrC9E",
        "outputId": "d47be60c-6638-478b-94e2-fa011e0665cf"
      },
      "execution_count": 64,
      "outputs": [
        {
          "output_type": "display_data",
          "data": {
            "text/plain": [
              "<Figure size 640x480 with 1 Axes>"
            ],
            "image/png": "[encoded data removed]"
          },
          "metadata": {}
        }
      ]
    },
    {
      "cell_type": "code",
      "source": [],
      "metadata": {
        "id": "F83dtnNxrFKt"
      },
      "execution_count": null,
      "outputs": []
    }
  ]
}