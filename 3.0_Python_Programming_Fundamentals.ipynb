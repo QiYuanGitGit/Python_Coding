{
  "nbformat": 4,
  "nbformat_minor": 0,
  "metadata": {
    "colab": {
      "provenance": []
    },
    "kernelspec": {
      "name": "python3",
      "display_name": "Python 3"
    },
    "language_info": {
      "name": "python"
    }
  },
  "cells": [
    {
      "cell_type": "markdown",
      "source": [
        "#Conditions"
      ],
      "metadata": {
        "id": "argWvgLRVEQq"
      }
    },
    {
      "cell_type": "markdown",
      "source": [
        "<ul>\n",
        "    <li>equal: <b>==</b></li>\n",
        "    <li>not equal: <b>!=</b></li>\n",
        "    <li>greater than: <b>></b></li>\n",
        "    <li>less than: <b>&lt;</b></li>\n",
        "    <li>greater than or equal to: <b>>=</b></li>\n",
        "    <li>less than or equal to: <b>&lt;=</b></li>\n",
        "</ul>"
      ],
      "metadata": {
        "id": "b8PJhxD_VKsF"
      }
    },
    {
      "cell_type": "code",
      "execution_count": 1,
      "metadata": {
        "colab": {
          "base_uri": "https://localhost:8080/"
        },
        "id": "Wqp6wxA9UymK",
        "outputId": "f2518201-4449-48bb-adc6-2e737bacf6e8"
      },
      "outputs": [
        {
          "output_type": "execute_result",
          "data": {
            "text/plain": [
              "True"
            ]
          },
          "metadata": {},
          "execution_count": 1
        }
      ],
      "source": [
        "# Compare characters\n",
        "\n",
        "'BA' > 'AB'"
      ]
    },
    {
      "cell_type": "markdown",
      "source": [
        "#Branching"
      ],
      "metadata": {
        "id": "tnk5w7lnVwPW"
      }
    },
    {
      "cell_type": "code",
      "source": [
        "# Else statement example\n",
        "\n",
        "age = 18\n",
        "# age = 19\n",
        "\n",
        "if age > 18:\n",
        "    print(\"you can enter\" )\n",
        "else:\n",
        "    print(\"go see Meat Loaf\" )"
      ],
      "metadata": {
        "colab": {
          "base_uri": "https://localhost:8080/"
        },
        "id": "BtzoEwLeVd67",
        "outputId": "c1c7675d-e2ab-404b-8b07-0b00928ba7b4"
      },
      "execution_count": 2,
      "outputs": [
        {
          "output_type": "stream",
          "name": "stdout",
          "text": [
            "go see Meat Loaf\n"
          ]
        }
      ]
    },
    {
      "cell_type": "markdown",
      "source": [
        "<img src=\"https://cf-courses-data.s3.us.cloud-object-storage.appdomain.cloud/IBMDeveloperSkillsNetwork-PY0101EN-SkillsNetwork/labs/Module%203/images/CondsElse.gif\" width=\"650\">\n"
      ],
      "metadata": {
        "id": "Fh8qM_0BV0Fv"
      }
    },
    {
      "cell_type": "code",
      "source": [
        "# Elif statment example\n",
        "\n",
        "age = 18\n",
        "\n",
        "if age > 18:\n",
        "    print(\"you can enter\" )\n",
        "elif age == 18:\n",
        "    print(\"go see Pink Floyd\")\n",
        "else:\n",
        "    print(\"go see Meat Loaf\" )\n",
        "\n",
        "print(\"move on\")"
      ],
      "metadata": {
        "colab": {
          "base_uri": "https://localhost:8080/"
        },
        "id": "eauhejVkVx54",
        "outputId": "ed2e8a36-5bce-4e79-ea0d-48dea39438c2"
      },
      "execution_count": 3,
      "outputs": [
        {
          "output_type": "stream",
          "name": "stdout",
          "text": [
            "go see Pink Floyd\n",
            "move on\n"
          ]
        }
      ]
    },
    {
      "cell_type": "markdown",
      "source": [
        "<img src=\"https://cf-courses-data.s3.us.cloud-object-storage.appdomain.cloud/IBMDeveloperSkillsNetwork-PY0101EN-SkillsNetwork/labs/Module%203/images/CondsElif.gif\" width=\"650\">\n"
      ],
      "metadata": {
        "id": "82FZjP3CWE5_"
      }
    },
    {
      "cell_type": "markdown",
      "source": [
        "##Logical operators"
      ],
      "metadata": {
        "id": "91zz9UPHWPX-"
      }
    },
    {
      "cell_type": "markdown",
      "source": [
        "<ul>\n",
        "    <li><code>and</code></li>\n",
        "    <li><code>or</code></li>\n",
        "    <li><code>not</code></li>\n",
        "</ul>"
      ],
      "metadata": {
        "id": "jLBybE3PWRnm"
      }
    },
    {
      "cell_type": "markdown",
      "source": [
        "##Quiz"
      ],
      "metadata": {
        "id": "mqGTyxwtSlMj"
      }
    },
    {
      "cell_type": "markdown",
      "source": [
        "1. Write a Python program to check if a player Lionel Messi has more than 10 achievements. If the condition is true, print the player's name, sport, and achievements else print does not have more than 10 achievements."
      ],
      "metadata": {
        "id": "VuSSLJLkSn-i"
      }
    },
    {
      "cell_type": "code",
      "source": [
        "player=\"Lionel Messi\"\n",
        "sport='Soccer'\n",
        "achievements=7\n",
        "\n",
        "if achievements > 10:\n",
        "  print(f\"{player} plays {sport} and has {achievements} achievements.\")\n",
        "else:\n",
        "  print(f\"{player} does not have more than 10 achievements.\")"
      ],
      "metadata": {
        "colab": {
          "base_uri": "https://localhost:8080/"
        },
        "id": "B5iqQ2bWWEZV",
        "outputId": "7f4dc4e2-5bfc-4f41-8412-7b204fcecfc4"
      },
      "execution_count": 4,
      "outputs": [
        {
          "output_type": "stream",
          "name": "stdout",
          "text": [
            "Lionel Messi does not have more than 10 achievements.\n"
          ]
        }
      ]
    },
    {
      "cell_type": "markdown",
      "source": [
        "2. Write a Python program to check if a player belongs to the sport Tennis or has exactly 20 achievements. If the condition is true, print a success message."
      ],
      "metadata": {
        "id": "4PmRys_tTN9C"
      }
    },
    {
      "cell_type": "code",
      "source": [
        "player2='QiYuan'\n",
        "sport='Tennis'\n",
        "achievements\n",
        "\n",
        "if sport == 'Tennis' or achievements == 20:\n",
        "  print(f\"{player2} meet the criteria! He plays {sport} and have {achievements} achievements.\")\n",
        "else:\n",
        "  print(f\"{player2} does not meet the criteria.\")"
      ],
      "metadata": {
        "colab": {
          "base_uri": "https://localhost:8080/"
        },
        "id": "dsJjUaCGTMpD",
        "outputId": "ed232138-9921-45d1-f401-a665027f521e"
      },
      "execution_count": 6,
      "outputs": [
        {
          "output_type": "stream",
          "name": "stdout",
          "text": [
            "QiYuan meet the criteria! He play Tennis and have 7 achievements.\n"
          ]
        }
      ]
    },
    {
      "cell_type": "markdown",
      "source": [
        " 3. Write a Python program to check if a player has less than 10 achievements and does not play Soccer. Print their details if they meet the criteria."
      ],
      "metadata": {
        "id": "iMtif3yZT9N_"
      }
    },
    {
      "cell_type": "code",
      "source": [
        "player3='QiyuanGitGit'\n",
        "sport=\"Soccer\"\n",
        "achievements=9\n",
        "\n",
        "if achievements < 10 and player3 != sport:\n",
        "  print(f\"{player3} plays {sport} and has only {achievements} achievements.\")\n",
        "else:\n",
        "  print(f\"{player3} does not meet the criteria.\")"
      ],
      "metadata": {
        "colab": {
          "base_uri": "https://localhost:8080/"
        },
        "id": "e27Zl8SAT6Cy",
        "outputId": "71b372fe-e3eb-48fa-ef4f-ab7f53aa1c96"
      },
      "execution_count": 7,
      "outputs": [
        {
          "output_type": "stream",
          "name": "stdout",
          "text": [
            "QiyuanGitGit plays Soccer and has only 9 achievements.\n"
          ]
        }
      ]
    },
    {
      "cell_type": "markdown",
      "source": [
        "#Loops"
      ],
      "metadata": {
        "id": "oOh0sNfRVbzv"
      }
    },
    {
      "cell_type": "code",
      "source": [
        "range(3)"
      ],
      "metadata": {
        "colab": {
          "base_uri": "https://localhost:8080/"
        },
        "id": "2hYMM-pbVO9G",
        "outputId": "89de93b6-ee56-44c1-bca5-55724cc8c2a7"
      },
      "execution_count": 8,
      "outputs": [
        {
          "output_type": "execute_result",
          "data": {
            "text/plain": [
              "range(0, 3)"
            ]
          },
          "metadata": {},
          "execution_count": 8
        }
      ]
    },
    {
      "cell_type": "markdown",
      "source": [
        "## for loop"
      ],
      "metadata": {
        "id": "mny6WBl7V2ca"
      }
    },
    {
      "cell_type": "code",
      "source": [
        "dates = [1997, 1990, 1996]\n",
        "n = len(dates)\n",
        "\n",
        "for i in range(n):\n",
        "  print(dates[i])"
      ],
      "metadata": {
        "colab": {
          "base_uri": "https://localhost:8080/"
        },
        "id": "soebqoGcVqJ5",
        "outputId": "9d6434cb-2566-4b0c-fca8-2f86ccad1bf4"
      },
      "execution_count": 9,
      "outputs": [
        {
          "output_type": "stream",
          "name": "stdout",
          "text": [
            "1997\n",
            "1990\n",
            "1996\n"
          ]
        }
      ]
    },
    {
      "cell_type": "code",
      "source": [
        "# Use for loop to change the elements in list\n",
        "\n",
        "color=['red', 'orange', 'yellow', 'green', 'blue']\n",
        "\n",
        "for i in range(0,5):\n",
        "  print(\"Before:\", i, \"is\", color[i])\n",
        "  color[i]='White'\n",
        "  print('After:', i, 'is', color[i])"
      ],
      "metadata": {
        "colab": {
          "base_uri": "https://localhost:8080/"
        },
        "id": "xi1OXAUTV09M",
        "outputId": "b7f021a4-1136-4019-ed8e-33e253e5d351"
      },
      "execution_count": 12,
      "outputs": [
        {
          "output_type": "stream",
          "name": "stdout",
          "text": [
            "Before: 0 is red\n",
            "After: 0 is White\n",
            "Before: 1 is orange\n",
            "After: 1 is White\n",
            "Before: 2 is yellow\n",
            "After: 2 is White\n",
            "Before: 3 is green\n",
            "After: 3 is White\n",
            "Before: 4 is blue\n",
            "After: 4 is White\n"
          ]
        }
      ]
    },
    {
      "cell_type": "code",
      "source": [
        "color=['red', 'orange', 'yellow', 'green', 'blue']\n",
        "\n",
        "for i, colour in enumerate(color):\n",
        "  print(i, colour)"
      ],
      "metadata": {
        "colab": {
          "base_uri": "https://localhost:8080/"
        },
        "id": "7NR0AVcKWBJ8",
        "outputId": "90d306fc-912e-4053-ee85-d09b0aa1f6b6"
      },
      "execution_count": 13,
      "outputs": [
        {
          "output_type": "stream",
          "name": "stdout",
          "text": [
            "0 red\n",
            "1 orange\n",
            "2 yellow\n",
            "3 green\n",
            "4 blue\n"
          ]
        }
      ]
    },
    {
      "cell_type": "markdown",
      "source": [
        "##while loop"
      ],
      "metadata": {
        "id": "KJm5hKf_W2bO"
      }
    },
    {
      "cell_type": "code",
      "source": [
        "date = [1997, 1990, 1996]\n",
        "\n",
        "i=0\n",
        "year=date[0]\n",
        "\n",
        "while (year != 1996):\n",
        "  print(year)\n",
        "  i+=1\n",
        "  year=date[i]\n",
        "\n",
        "print('It tooks', i, 'repetitions to get out of loop.')"
      ],
      "metadata": {
        "colab": {
          "base_uri": "https://localhost:8080/"
        },
        "id": "YZZns9N4W5lS",
        "outputId": "d20a9639-9671-45ab-d1b4-9754a8c1c025"
      },
      "execution_count": 21,
      "outputs": [
        {
          "output_type": "stream",
          "name": "stdout",
          "text": [
            "1997\n",
            "1990\n",
            "It tooks 2 repetitions to get out of loop.\n"
          ]
        }
      ]
    },
    {
      "cell_type": "code",
      "source": [
        "color=['orange', 'orange', 'yellow', 'green', 'blue']\n",
        "\n",
        "new_color=[]\n",
        "i=0\n",
        "\n",
        "while(i<len(color) and color[i] == 'orange'):\n",
        "  new_color.append(color[i])\n",
        "  i+=1\n",
        "\n",
        "print(new_color)"
      ],
      "metadata": {
        "colab": {
          "base_uri": "https://localhost:8080/"
        },
        "id": "bcL3LA9qW-cn",
        "outputId": "e862c870-82c9-4c04-99e7-de1c325d7411"
      },
      "execution_count": 23,
      "outputs": [
        {
          "output_type": "stream",
          "name": "stdout",
          "text": [
            "['orange', 'orange']\n"
          ]
        }
      ]
    },
    {
      "cell_type": "markdown",
      "source": [
        "#Functions"
      ],
      "metadata": {
        "id": "lWyiSAuFZuy7"
      }
    },
    {
      "cell_type": "markdown",
      "source": [
        " A function is a reusable block of code which performs operations specified in the function."
      ],
      "metadata": {
        "id": "t0KdE6zcZwWa"
      }
    },
    {
      "cell_type": "code",
      "source": [
        "def add(a):\n",
        "  \"\"\"\n",
        "  add 1 to a\n",
        "  \"\"\"\n",
        "  b=a+1\n",
        "  print(a, \"after add one become\", b)\n",
        "  return(b)"
      ],
      "metadata": {
        "id": "aJB2V6EdYV3K"
      },
      "execution_count": 25,
      "outputs": []
    },
    {
      "cell_type": "code",
      "source": [
        "help(add)"
      ],
      "metadata": {
        "colab": {
          "base_uri": "https://localhost:8080/"
        },
        "id": "qUW4WYptaIhD",
        "outputId": "b314bb1d-256c-4312-a3d2-449bc633227a"
      },
      "execution_count": 26,
      "outputs": [
        {
          "output_type": "stream",
          "name": "stdout",
          "text": [
            "Help on function add in module __main__:\n",
            "\n",
            "add(a)\n",
            "    add 1 to a\n",
            "\n"
          ]
        }
      ]
    },
    {
      "cell_type": "code",
      "source": [
        "add(2)"
      ],
      "metadata": {
        "colab": {
          "base_uri": "https://localhost:8080/"
        },
        "id": "Th5qgVyxaPiT",
        "outputId": "94056c00-b0f6-444d-cbfb-8d065f2f3a4b"
      },
      "execution_count": 27,
      "outputs": [
        {
          "output_type": "stream",
          "name": "stdout",
          "text": [
            "2 after add one become 3\n"
          ]
        },
        {
          "output_type": "execute_result",
          "data": {
            "text/plain": [
              "3"
            ]
          },
          "metadata": {},
          "execution_count": 27
        }
      ]
    },
    {
      "cell_type": "code",
      "source": [
        "add(3)"
      ],
      "metadata": {
        "colab": {
          "base_uri": "https://localhost:8080/"
        },
        "id": "9xQFpvMCaR1e",
        "outputId": "23fd6da2-eccc-42e8-f99f-dd8c7e792ebb"
      },
      "execution_count": 28,
      "outputs": [
        {
          "output_type": "stream",
          "name": "stdout",
          "text": [
            "3 after add one become 4\n"
          ]
        },
        {
          "output_type": "execute_result",
          "data": {
            "text/plain": [
              "4"
            ]
          },
          "metadata": {},
          "execution_count": 28
        }
      ]
    },
    {
      "cell_type": "code",
      "source": [
        "def mult(a,b):\n",
        "  \"\"\"\n",
        "  def for multiple number\n",
        "  \"\"\"\n",
        "  c = a*b\n",
        "  return(c)\n",
        "  print('This is not printed')\n",
        "\n",
        "result=mult(2,3)\n",
        "result"
      ],
      "metadata": {
        "colab": {
          "base_uri": "https://localhost:8080/"
        },
        "id": "_f6OlEnzaTt1",
        "outputId": "7bdf47a6-0478-4145-bf18-c13dbff135a8"
      },
      "execution_count": 29,
      "outputs": [
        {
          "output_type": "execute_result",
          "data": {
            "text/plain": [
              "6"
            ]
          },
          "metadata": {},
          "execution_count": 29
        }
      ]
    },
    {
      "cell_type": "code",
      "source": [
        "mult(4,6)"
      ],
      "metadata": {
        "colab": {
          "base_uri": "https://localhost:8080/"
        },
        "id": "bKA7yGjDaoc4",
        "outputId": "c51e0bb8-3364-4b5f-9c06-c58048c55ce0"
      },
      "execution_count": 30,
      "outputs": [
        {
          "output_type": "execute_result",
          "data": {
            "text/plain": [
              "24"
            ]
          },
          "metadata": {},
          "execution_count": 30
        }
      ]
    },
    {
      "cell_type": "markdown",
      "source": [
        "###Local Variable"
      ],
      "metadata": {
        "id": "-DtQzJXLax-O"
      }
    },
    {
      "cell_type": "code",
      "source": [
        "def square(a):\n",
        "\n",
        "  #Local variable\n",
        "  b=1\n",
        "  c=a*a+b\n",
        "  print(a,'if you square +1', c)\n",
        "  return(c)"
      ],
      "metadata": {
        "id": "8pDB4u-Naz4_"
      },
      "execution_count": 32,
      "outputs": []
    },
    {
      "cell_type": "code",
      "source": [
        "#Initialize global variable\n",
        "\n",
        "x=3\n",
        "y=square(x)\n",
        "y"
      ],
      "metadata": {
        "colab": {
          "base_uri": "https://localhost:8080/"
        },
        "id": "KlYhJ4tCbJ_J",
        "outputId": "e7e76d5b-3b6a-4c41-b87d-393838a6f5bb"
      },
      "execution_count": 33,
      "outputs": [
        {
          "output_type": "stream",
          "name": "stdout",
          "text": [
            "3 if you square +1 10\n"
          ]
        },
        {
          "output_type": "execute_result",
          "data": {
            "text/plain": [
              "10"
            ]
          },
          "metadata": {},
          "execution_count": 33
        }
      ]
    },
    {
      "cell_type": "code",
      "source": [
        "square(4)"
      ],
      "metadata": {
        "colab": {
          "base_uri": "https://localhost:8080/"
        },
        "id": "1EyhAbJWbSIf",
        "outputId": "e612654b-72d8-421f-f6dd-a2d458f947fd"
      },
      "execution_count": 34,
      "outputs": [
        {
          "output_type": "stream",
          "name": "stdout",
          "text": [
            "4 if you square +1 17\n"
          ]
        },
        {
          "output_type": "execute_result",
          "data": {
            "text/plain": [
              "17"
            ]
          },
          "metadata": {},
          "execution_count": 34
        }
      ]
    },
    {
      "cell_type": "markdown",
      "source": [
        "If there is no return statement, the function returns None. Both functions MJ and MJ1 are same."
      ],
      "metadata": {
        "id": "wmVSXG2rbeAB"
      }
    },
    {
      "cell_type": "code",
      "source": [
        "def MJ():\n",
        "  print(\"Qiyuan GitGit\")\n",
        "\n",
        "def MJ1():\n",
        "  print('Qiyuan gitgit')\n",
        "  return(None)"
      ],
      "metadata": {
        "id": "aPkHKfwsbYA5"
      },
      "execution_count": 36,
      "outputs": []
    },
    {
      "cell_type": "code",
      "source": [
        "MJ()"
      ],
      "metadata": {
        "colab": {
          "base_uri": "https://localhost:8080/"
        },
        "id": "ubHmjFhubrNZ",
        "outputId": "5358bf11-cf4b-4baa-9d28-824cfec539ba"
      },
      "execution_count": 37,
      "outputs": [
        {
          "output_type": "stream",
          "name": "stdout",
          "text": [
            "Qiyuan GitGit\n"
          ]
        }
      ]
    },
    {
      "cell_type": "code",
      "source": [
        "MJ1()"
      ],
      "metadata": {
        "colab": {
          "base_uri": "https://localhost:8080/"
        },
        "id": "6yM6WCqEbvWr",
        "outputId": "ab81ffc5-d404-432e-860f-281c5347eea5"
      },
      "execution_count": 38,
      "outputs": [
        {
          "output_type": "stream",
          "name": "stdout",
          "text": [
            "Qiyuan gitgit\n"
          ]
        }
      ]
    },
    {
      "cell_type": "code",
      "source": [
        "def con(a, b):\n",
        "    return(a + b)\n",
        "\n",
        "con(\"This \", \"is\")"
      ],
      "metadata": {
        "colab": {
          "base_uri": "https://localhost:8080/"
        },
        "id": "MLdWWbk0bxxI",
        "outputId": "5e44c56f-8783-418f-d6ec-3f73ccc35bc3"
      },
      "execution_count": 42,
      "outputs": [
        {
          "output_type": "execute_result",
          "data": {
            "text/plain": [
              "'This is'"
            ]
          },
          "metadata": {},
          "execution_count": 42
        }
      ]
    },
    {
      "cell_type": "markdown",
      "source": [
        "###Pre-defined functions"
      ],
      "metadata": {
        "id": "MLXSBLyacUWd"
      }
    },
    {
      "cell_type": "code",
      "source": [
        "album_ratings = [10.0, 8.5, 9.5, 7.0, 7.0, 9.5, 9.0, 9.5]\n",
        "print(album_ratings)\n",
        "sum(album_ratings)"
      ],
      "metadata": {
        "colab": {
          "base_uri": "https://localhost:8080/"
        },
        "id": "NCi74zG5cBLI",
        "outputId": "25fbb96d-5172-4eb2-c828-1c286737fb1c"
      },
      "execution_count": 45,
      "outputs": [
        {
          "output_type": "stream",
          "name": "stdout",
          "text": [
            "[10.0, 8.5, 9.5, 7.0, 7.0, 9.5, 9.0, 9.5]\n"
          ]
        },
        {
          "output_type": "execute_result",
          "data": {
            "text/plain": [
              "70.0"
            ]
          },
          "metadata": {},
          "execution_count": 45
        }
      ]
    },
    {
      "cell_type": "code",
      "source": [
        "len(album_ratings)"
      ],
      "metadata": {
        "colab": {
          "base_uri": "https://localhost:8080/"
        },
        "id": "e3MlqM8_caSV",
        "outputId": "fd2e590a-1ea5-47bd-855e-e10c77c97649"
      },
      "execution_count": 46,
      "outputs": [
        {
          "output_type": "execute_result",
          "data": {
            "text/plain": [
              "8"
            ]
          },
          "metadata": {},
          "execution_count": 46
        }
      ]
    },
    {
      "cell_type": "markdown",
      "source": [
        "###In Built Functions"
      ],
      "metadata": {
        "id": "arAFTl0HclXU"
      }
    },
    {
      "cell_type": "markdown",
      "source": [
        "An in-built function is a pre-defined function that is always available for use, providing common functionality without requiring any imports."
      ],
      "metadata": {
        "id": "3uS5YF2CcrwD"
      }
    },
    {
      "cell_type": "code",
      "source": [
        "a = (1,2)\n",
        "\n",
        "b=sum(a)\n",
        "\n",
        "print(f\"The sum of elements in tuple {a} is {b}.\")"
      ],
      "metadata": {
        "colab": {
          "base_uri": "https://localhost:8080/"
        },
        "id": "Yq4jKt8Fch80",
        "outputId": "b510817b-68fa-4edf-f939-11cea60687bc"
      },
      "execution_count": 48,
      "outputs": [
        {
          "output_type": "stream",
          "name": "stdout",
          "text": [
            "The sum of elements in tuple (1, 2) is 3.\n"
          ]
        }
      ]
    },
    {
      "cell_type": "code",
      "source": [
        "a = [1,2]\n",
        "\n",
        "b=sum(a)\n",
        "\n",
        "print(f\"The sum of elements in tuple {a} is {b}.\")"
      ],
      "metadata": {
        "colab": {
          "base_uri": "https://localhost:8080/"
        },
        "id": "N8eZdqHnc6Bn",
        "outputId": "85824ea6-4a5b-4dbc-e00e-8109ac7c3bc4"
      },
      "execution_count": 49,
      "outputs": [
        {
          "output_type": "stream",
          "name": "stdout",
          "text": [
            "The sum of elements in tuple [1, 2] is 3.\n"
          ]
        }
      ]
    },
    {
      "cell_type": "markdown",
      "source": [
        "###if/else"
      ],
      "metadata": {
        "id": "qLt0SVgPdH8x"
      }
    },
    {
      "cell_type": "code",
      "source": [
        "def type_of_album(album, year_of_released):\n",
        "  print(album, year_of_released)\n",
        "\n",
        "  if year_of_released > 1980:\n",
        "    return \"Modern\"\n",
        "  else:\n",
        "    return \"Oldie\"\n",
        "\n",
        "x=type_of_album(\"QYGG\", 1997)\n",
        "x"
      ],
      "metadata": {
        "colab": {
          "base_uri": "https://localhost:8080/"
        },
        "id": "IVbr9lw3c-cx",
        "outputId": "3c39e233-e19a-4d4c-bc4b-36f0a3d4d872"
      },
      "execution_count": 51,
      "outputs": [
        {
          "output_type": "stream",
          "name": "stdout",
          "text": [
            "QYGG 1997\n"
          ]
        },
        {
          "output_type": "execute_result",
          "data": {
            "text/plain": [
              "'Modern'"
            ]
          },
          "metadata": {},
          "execution_count": 51
        }
      ]
    },
    {
      "cell_type": "code",
      "source": [
        "def printList(the_list):\n",
        "  for i in the_list:\n",
        "    print(i)"
      ],
      "metadata": {
        "id": "JaYlkOz0dRxC"
      },
      "execution_count": 52,
      "outputs": []
    },
    {
      "cell_type": "code",
      "source": [
        "printList(['2',1, 'the cat', 'Qi Yuan'])"
      ],
      "metadata": {
        "colab": {
          "base_uri": "https://localhost:8080/"
        },
        "id": "qHRZtK5-dujq",
        "outputId": "9a27ab68-767c-42bd-c845-638e4d911d2b"
      },
      "execution_count": 53,
      "outputs": [
        {
          "output_type": "stream",
          "name": "stdout",
          "text": [
            "2\n",
            "1\n",
            "the cat\n",
            "Qi Yuan\n"
          ]
        }
      ]
    },
    {
      "cell_type": "code",
      "source": [
        "string= \"The BodyGuard is the best album\"\n",
        "\n",
        "# Define a funtion\n",
        "def check_string(text):\n",
        "\n",
        "# Use if else statement and 'in' operatore to compare the string\n",
        "    if text in string:\n",
        "        return 'String matched'\n",
        "    else:\n",
        "        return 'String not matched'\n",
        "\n",
        "check_string(\"The BodyGuard is the best\")"
      ],
      "metadata": {
        "colab": {
          "base_uri": "https://localhost:8080/"
        },
        "id": "nMirfDnQd3QU",
        "outputId": "6f0af54a-eefb-4bb0-ba46-62637bdf5b88"
      },
      "execution_count": 54,
      "outputs": [
        {
          "output_type": "execute_result",
          "data": {
            "text/plain": [
              "'String matched'"
            ]
          },
          "metadata": {},
          "execution_count": 54
        }
      ]
    },
    {
      "cell_type": "code",
      "source": [
        "def freq(string):\n",
        "\n",
        "  words=[]\n",
        "  words=string.split()\n",
        "  dict={}\n",
        "\n",
        "  for i in words:\n",
        "    dict[i]=words.count(i)\n",
        "\n",
        "  print('The freq of words is:',dict)\n",
        "\n",
        "freq(\"QiYuan QiYuan QiYuan GitGit learning Python woww woww\")"
      ],
      "metadata": {
        "colab": {
          "base_uri": "https://localhost:8080/"
        },
        "id": "N97I8PH7d-5A",
        "outputId": "6b54f411-c6fa-4511-9164-fd91fecdc009"
      },
      "execution_count": 60,
      "outputs": [
        {
          "output_type": "stream",
          "name": "stdout",
          "text": [
            "The freq of words is: {'QiYuan': 3, 'GitGit': 1, 'learning': 1, 'Python': 1, 'woww': 2}\n"
          ]
        }
      ]
    },
    {
      "cell_type": "code",
      "source": [
        "def freq(string, passed_key):\n",
        "\n",
        "  words=[]\n",
        "  words=string.split()\n",
        "  dict={}\n",
        "\n",
        "  for i in words:\n",
        "    if(i == passed_key):\n",
        "      dict[i]=words.count(i)\n",
        "\n",
        "  print('Total count:',dict)\n",
        "\n",
        "freq(\"QiYuan QiYuan QiYuan GitGit learning Python woww woww\", \"woww\")"
      ],
      "metadata": {
        "colab": {
          "base_uri": "https://localhost:8080/"
        },
        "id": "ZW2x2BgGgd_N",
        "outputId": "4927b149-6954-4e3a-b13c-930f89c3a525"
      },
      "execution_count": 70,
      "outputs": [
        {
          "output_type": "stream",
          "name": "stdout",
          "text": [
            "Total count: {'woww': 2}\n"
          ]
        }
      ]
    },
    {
      "cell_type": "code",
      "source": [
        "def printAll(*args): # All the arguments are 'packed' into args which can be treated like a tuple\n",
        "    print(\"No of arguments:\", len(args))\n",
        "    for argument in args:\n",
        "        print(argument)\n",
        "#printAll with 3 arguments\n",
        "printAll('Horsefeather','Adonis','Bone', \"\\n\")\n",
        "#printAll with 4 arguments\n",
        "printAll('Sidecar','Long Island','Mudslide','Carriage')"
      ],
      "metadata": {
        "colab": {
          "base_uri": "https://localhost:8080/"
        },
        "id": "oWgrslLFezmJ",
        "outputId": "fb47291c-7501-4ca5-e1c3-6ae806ea8949"
      },
      "execution_count": 67,
      "outputs": [
        {
          "output_type": "stream",
          "name": "stdout",
          "text": [
            "No of arguments: 4\n",
            "Horsefeather\n",
            "Adonis\n",
            "Bone\n",
            "\n",
            "\n",
            "No of arguments: 4\n",
            "Sidecar\n",
            "Long Island\n",
            "Mudslide\n",
            "Carriage\n"
          ]
        }
      ]
    },
    {
      "cell_type": "code",
      "source": [],
      "metadata": {
        "id": "Jjz9jIkqf6UY"
      },
      "execution_count": null,
      "outputs": []
    }
  ]
}
