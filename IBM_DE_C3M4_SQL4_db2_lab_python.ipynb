{
  "nbformat": 4,
  "nbformat_minor": 0,
  "metadata": {
    "colab": {
      "provenance": []
    },
    "kernelspec": {
      "name": "python3",
      "display_name": "Python 3"
    },
    "language_info": {
      "name": "python"
    }
  },
  "cells": [
    {
      "cell_type": "markdown",
      "source": [
        "#Connect to Db2 database on Cloud using Python\n"
      ],
      "metadata": {
        "id": "mgj8-19PxcmY"
      }
    },
    {
      "cell_type": "code",
      "execution_count": 1,
      "metadata": {
        "colab": {
          "base_uri": "https://localhost:8080/"
        },
        "id": "6cJnRzwNtOsJ",
        "outputId": "cfda1171-021d-44b1-ccce-8bc988617925"
      },
      "outputs": [
        {
          "output_type": "stream",
          "name": "stdout",
          "text": [
            "Collecting ibm_db\n",
            "  Downloading ibm_db-3.2.7-cp312-cp312-macosx_14_0_arm64.whl.metadata (34 kB)\n",
            "Collecting ibm_db_sa\n",
            "  Downloading ibm_db_sa-0.4.2-py3-none-any.whl.metadata (5.4 kB)\n",
            "Collecting sqlalchemy>=0.7.3 (from ibm_db_sa)\n",
            "  Downloading sqlalchemy-2.0.43-cp312-cp312-macosx_11_0_arm64.whl.metadata (9.6 kB)\n",
            "Collecting typing-extensions>=4.6.0 (from sqlalchemy>=0.7.3->ibm_db_sa)\n",
            "  Downloading typing_extensions-4.15.0-py3-none-any.whl.metadata (3.3 kB)\n",
            "Downloading ibm_db-3.2.7-cp312-cp312-macosx_14_0_arm64.whl (20.4 MB)\n",
            "\u001b[2K   \u001b[90m━━━━━━━━━━━━━━━━━━━━━━━━━━━━━━━━━━━━━━━━\u001b[0m \u001b[32m20.4/20.4 MB\u001b[0m \u001b[31m1.1 MB/s\u001b[0m eta \u001b[36m0:00:00\u001b[0m\n",
            "\u001b[?25hDownloading ibm_db_sa-0.4.2-py3-none-any.whl (31 kB)\n",
            "Downloading sqlalchemy-2.0.43-cp312-cp312-macosx_11_0_arm64.whl (2.1 MB)\n",
            "\u001b[2K   \u001b[90m━━━━━━━━━━━━━━━━━━━━━━━━━━━━━━━━━━━━━━━━\u001b[0m \u001b[32m2.1/2.1 MB\u001b[0m \u001b[31m14.7 MB/s\u001b[0m eta \u001b[36m0:00:00\u001b[0m\n",
            "\u001b[?25hDownloading typing_extensions-4.15.0-py3-none-any.whl (44 kB)\n",
            "Installing collected packages: ibm_db, typing-extensions, sqlalchemy, ibm_db_sa\n",
            "  Attempting uninstall: typing-extensions\n",
            "    Found existing installation: typing_extensions 4.11.0\n",
            "    Uninstalling typing_extensions-4.11.0:\n",
            "      Successfully uninstalled typing_extensions-4.11.0\n",
            "  Attempting uninstall: sqlalchemy\n",
            "    Found existing installation: SQLAlchemy 2.0.34\n",
            "    Uninstalling SQLAlchemy-2.0.34:\n",
            "      Successfully uninstalled SQLAlchemy-2.0.34\n",
            "Successfully installed ibm_db-3.2.7 ibm_db_sa-0.4.2 sqlalchemy-2.0.43 typing-extensions-4.15.0\n"
          ]
        }
      ],
      "source": [
        "!pip install --force-reinstall ibm_db ibm_db_sa\n",
        "import ibm_db"
      ]
    },
    {
      "cell_type": "code",
      "source": [
        "#Replace the placeholder values with your actual Db2 hostname, username, and password:\n",
        "dsn_hostname = \"YourDb2Hostname\" # e.g.: \"54a2f15b-5c0f-46df-8954-7e38e612c2bd.c1ogj3sd0tgtu0lqde00.databases.appdomain.cloud\"\n",
        "dsn_uid = \"YourDb2Username\"        # e.g. \"abc12345\"\n",
        "dsn_pwd = \"YoueDb2Password\"      # e.g. \"7dBZ3wWt9XN6$o0J\"\n",
        "\n",
        "dsn_driver = \"{IBM DB2 ODBC DRIVER}\"\n",
        "dsn_database = \"BLUDB\"            # e.g. \"BLUDB\"\n",
        "dsn_port = \"YourPort\"                # e.g. \"32733\"\n",
        "dsn_protocol = \"TCPIP\"            # i.e. \"TCPIP\"\n",
        "dsn_security = \"SSL\"              #i.e. \"SSL\""
      ],
      "metadata": {
        "id": "3xtguIH_xH1S"
      },
      "execution_count": 2,
      "outputs": []
    },
    {
      "cell_type": "code",
      "source": [
        "#Create the dsn connection string\n",
        "dsn = (\n",
        "    \"DRIVER={0};\"\n",
        "    \"DATABASE={1};\"\n",
        "    \"HOSTNAME={2};\"\n",
        "    \"PORT={3};\"\n",
        "    \"PROTOCOL={4};\"\n",
        "    \"UID={5};\"\n",
        "    \"PWD={6};\"\n",
        "    \"SECURITY={7};\").format(dsn_driver, dsn_database, dsn_hostname, dsn_port, dsn_protocol, dsn_uid, dsn_pwd,dsn_security)\n",
        "\n",
        "#print the connection string to check correct values are specified\n",
        "print(dsn)"
      ],
      "metadata": {
        "colab": {
          "base_uri": "https://localhost:8080/"
        },
        "id": "qrgwFE-3xKcz",
        "outputId": "67937200-cb0d-4f0a-c146-054383e925b9"
      },
      "execution_count": 3,
      "outputs": [
        {
          "output_type": "stream",
          "name": "stdout",
          "text": [
            "DRIVER={IBM DB2 ODBC DRIVER};DATABASE=BLUDB;HOSTNAME=YourDb2Hostname;PORT=YourPort;PROTOCOL=TCPIP;UID=YourDb2Username;PWD=YoueDb2Password;SECURITY=SSL;\n"
          ]
        }
      ]
    },
    {
      "cell_type": "code",
      "source": [
        "#Create database connection\n",
        "\n",
        "try:\n",
        "    conn = ibm_db.connect(dsn, \"\", \"\")\n",
        "    print (\"Connected to database: \", dsn_database, \"as user: \", dsn_uid, \"on host: \", dsn_hostname)\n",
        "\n",
        "except:\n",
        "    print (\"Unable to connect: \", ibm_db.conn_errormsg() )\n"
      ],
      "metadata": {
        "colab": {
          "base_uri": "https://localhost:8080/"
        },
        "id": "mCRdW5lDxNK2",
        "outputId": "8c136de4-4dc4-404d-ea48-dd190cb6f5e8"
      },
      "execution_count": 4,
      "outputs": [
        {
          "output_type": "stream",
          "name": "stdout",
          "text": [
            "Unable to connect:  [IBM][CLI Driver] SQL1337N  The service \"YourPort\" was not found. SQLCODE=-1337\n"
          ]
        }
      ]
    },
    {
      "cell_type": "code",
      "source": [
        "#Retrieve Metadata for the Database Server\n",
        "server = ibm_db.server_info(conn)\n",
        "\n",
        "print (\"DBMS_NAME: \", server.DBMS_NAME)\n",
        "print (\"DBMS_VER:  \", server.DBMS_VER)\n",
        "print (\"DB_NAME:   \", server.DB_NAME)"
      ],
      "metadata": {
        "colab": {
          "base_uri": "https://localhost:8080/",
          "height": 193
        },
        "id": "REl-wanTxP1v",
        "outputId": "d18be603-456b-4daf-c515-53227da4ab45"
      },
      "execution_count": 5,
      "outputs": [
        {
          "output_type": "error",
          "ename": "NameError",
          "evalue": "name 'conn' is not defined",
          "traceback": [
            "\u001b[0;31m---------------------------------------------------------------------------\u001b[0m",
            "\u001b[0;31mNameError\u001b[0m                                 Traceback (most recent call last)",
            "Cell \u001b[0;32mIn[5], line 2\u001b[0m\n\u001b[1;32m      1\u001b[0m \u001b[38;5;66;03m#Retrieve Metadata for the Database Server\u001b[39;00m\n\u001b[0;32m----> 2\u001b[0m server \u001b[38;5;241m=\u001b[39m ibm_db\u001b[38;5;241m.\u001b[39mserver_info(conn)\n\u001b[1;32m      4\u001b[0m \u001b[38;5;28mprint\u001b[39m (\u001b[38;5;124m\"\u001b[39m\u001b[38;5;124mDBMS_NAME: \u001b[39m\u001b[38;5;124m\"\u001b[39m, server\u001b[38;5;241m.\u001b[39mDBMS_NAME)\n\u001b[1;32m      5\u001b[0m \u001b[38;5;28mprint\u001b[39m (\u001b[38;5;124m\"\u001b[39m\u001b[38;5;124mDBMS_VER:  \u001b[39m\u001b[38;5;124m\"\u001b[39m, server\u001b[38;5;241m.\u001b[39mDBMS_VER)\n",
            "\u001b[0;31mNameError\u001b[0m: name 'conn' is not defined"
          ]
        }
      ]
    },
    {
      "cell_type": "code",
      "source": [
        "#Retrieve Metadata for the Database Client / Driver\n",
        "client = ibm_db.client_info(conn)\n",
        "\n",
        "print (\"DRIVER_NAME:          \", client.DRIVER_NAME)\n",
        "print (\"DRIVER_VER:           \", client.DRIVER_VER)\n",
        "print (\"DATA_SOURCE_NAME:     \", client.DATA_SOURCE_NAME)\n",
        "print (\"DRIVER_ODBC_VER:      \", client.DRIVER_ODBC_VER)\n",
        "print (\"ODBC_VER:             \", client.ODBC_VER)\n",
        "print (\"ODBC_SQL_CONFORMANCE: \", client.ODBC_SQL_CONFORMANCE)\n",
        "print (\"APPL_CODEPAGE:        \", client.APPL_CODEPAGE)\n",
        "print (\"CONN_CODEPAGE:        \", client.CONN_CODEPAGE)"
      ],
      "metadata": {
        "id": "RwNo0okoxR_6"
      },
      "execution_count": null,
      "outputs": []
    },
    {
      "cell_type": "code",
      "source": [
        "#Close connection\n",
        "ibm_db.close(conn)"
      ],
      "metadata": {
        "colab": {
          "base_uri": "https://localhost:8080/",
          "height": 159
        },
        "id": "a68hLtPlxW74",
        "outputId": "75987c5d-06f3-450c-c24a-96efdc190ea0"
      },
      "execution_count": 6,
      "outputs": [
        {
          "output_type": "error",
          "ename": "NameError",
          "evalue": "name 'conn' is not defined",
          "traceback": [
            "\u001b[0;31m---------------------------------------------------------------------------\u001b[0m",
            "\u001b[0;31mNameError\u001b[0m                                 Traceback (most recent call last)",
            "Cell \u001b[0;32mIn[6], line 2\u001b[0m\n\u001b[1;32m      1\u001b[0m \u001b[38;5;66;03m#Close connection\u001b[39;00m\n\u001b[0;32m----> 2\u001b[0m ibm_db\u001b[38;5;241m.\u001b[39mclose(conn)\n",
            "\u001b[0;31mNameError\u001b[0m: name 'conn' is not defined"
          ]
        }
      ]
    },
    {
      "cell_type": "markdown",
      "source": [
        "#Access DB2 on Cloud using Python"
      ],
      "metadata": {
        "id": "Q_VtF6dbxUPQ"
      }
    },
    {
      "cell_type": "code",
      "source": [
        "!pip install --force-reinstall ibm_db ibm_db_sa\n",
        "import ibm_db"
      ],
      "metadata": {
        "colab": {
          "base_uri": "https://localhost:8080/"
        },
        "id": "OGaKRTcvxgDf",
        "outputId": "c6dbe6a1-04f9-4888-ceb2-7d4f8f785144"
      },
      "execution_count": 7,
      "outputs": [
        {
          "output_type": "stream",
          "name": "stdout",
          "text": [
            "Collecting ibm_db\r\n",
            "  Using cached ibm_db-3.2.7-cp312-cp312-macosx_14_0_arm64.whl.metadata (34 kB)\r\n",
            "Collecting ibm_db_sa\r\n",
            "  Using cached ibm_db_sa-0.4.2-py3-none-any.whl.metadata (5.4 kB)\n",
            "Collecting sqlalchemy>=0.7.3 (from ibm_db_sa)\n",
            "  Using cached sqlalchemy-2.0.43-cp312-cp312-macosx_11_0_arm64.whl.metadata (9.6 kB)\n",
            "Collecting typing-extensions>=4.6.0 (from sqlalchemy>=0.7.3->ibm_db_sa)\n",
            "  Using cached typing_extensions-4.15.0-py3-none-any.whl.metadata (3.3 kB)\n",
            "Using cached ibm_db-3.2.7-cp312-cp312-macosx_14_0_arm64.whl (20.4 MB)\n",
            "Using cached ibm_db_sa-0.4.2-py3-none-any.whl (31 kB)\n",
            "Using cached sqlalchemy-2.0.43-cp312-cp312-macosx_11_0_arm64.whl (2.1 MB)\n",
            "Using cached typing_extensions-4.15.0-py3-none-any.whl (44 kB)\n",
            "Installing collected packages: ibm_db, typing-extensions, sqlalchemy, ibm_db_sa\n",
            "  Attempting uninstall: ibm_db\n",
            "    Found existing installation: ibm_db 3.2.7\n",
            "    Uninstalling ibm_db-3.2.7:\n",
            "      Successfully uninstalled ibm_db-3.2.7\n",
            "  Attempting uninstall: typing-extensions\n",
            "    Found existing installation: typing_extensions 4.15.0\n",
            "    Uninstalling typing_extensions-4.15.0:\n",
            "      Successfully uninstalled typing_extensions-4.15.0\n",
            "  Attempting uninstall: sqlalchemy\n",
            "    Found existing installation: SQLAlchemy 2.0.43\n",
            "    Uninstalling SQLAlchemy-2.0.43:\n",
            "      Successfully uninstalled SQLAlchemy-2.0.43\n",
            "  Attempting uninstall: ibm_db_sa\n",
            "    Found existing installation: ibm_db_sa 0.4.2\n",
            "    Uninstalling ibm_db_sa-0.4.2:\n",
            "      Successfully uninstalled ibm_db_sa-0.4.2\n",
            "Successfully installed ibm_db-3.2.7 ibm_db_sa-0.4.2 sqlalchemy-2.0.43 typing-extensions-4.15.0\n"
          ]
        }
      ]
    },
    {
      "cell_type": "markdown",
      "source": [
        "##Identify the database connection credentials"
      ],
      "metadata": {
        "id": "j6QXVHqSxlTO"
      }
    },
    {
      "cell_type": "markdown",
      "source": [
        "Connecting to dashDB or DB2 database requires the following information:\n",
        "* Driver Name\n",
        "* Database name\n",
        "* Host DNS name or IP address\n",
        "* Host port\n",
        "* Connection protocol\n",
        "* User ID\n",
        "* User Password"
      ],
      "metadata": {
        "id": "G-dtBPaVxpWG"
      }
    },
    {
      "cell_type": "code",
      "source": [
        "#Replace the placeholder values with the actuals for your Db2 Service Credentials\n",
        "dsn_driver = \"{IBM DB2 ODBC DRIVER}\"\n",
        "dsn_database = \"database\"            # e.g. \"BLUDB\"\n",
        "dsn_hostname = \"hostname\"            # e.g.: \"dashdb-txn-sbox-yp-dal09-04.services.dal.bluemix.net\"\n",
        "dsn_port = \"port\"                    # e.g. \"50000\"\n",
        "dsn_protocol = \"protocol\"            # i.e. \"TCPIP\"\n",
        "dsn_uid = \"username\"                 # e.g. \"abc12345\"\n",
        "dsn_pwd = \"password\"                 # e.g. \"7dBZ3wWt9XN6$o0J\"\n",
        "dsn_security = \"SSL\"              #i.e. \"SSL\""
      ],
      "metadata": {
        "id": "pH9ocUFdxh1N"
      },
      "execution_count": 8,
      "outputs": []
    },
    {
      "cell_type": "markdown",
      "source": [
        "##Create the database connection"
      ],
      "metadata": {
        "id": "ueEuHhHoxtQ0"
      }
    },
    {
      "cell_type": "code",
      "source": [
        "#Create database connection\n",
        "#DO NOT MODIFY THIS CELL. Just RUN it with Shift + Enter\n",
        "dsn = (\n",
        "    \"DRIVER={0};\"\n",
        "    \"DATABASE={1};\"\n",
        "    \"HOSTNAME={2};\"\n",
        "    \"PORT={3};\"\n",
        "    \"PROTOCOL={4};\"\n",
        "    \"UID={5};\"\n",
        "    \"PWD={6};\"\n",
        "    \"SECURITY={7};\").format(dsn_driver, dsn_database, dsn_hostname, dsn_port, dsn_protocol, dsn_uid, dsn_pwd,dsn_security)\n",
        "\n",
        "try:\n",
        "    conn = ibm_db.connect(dsn, \"\", \"\")\n",
        "    print (\"Connected to database: \", dsn_database, \"as user: \", dsn_uid, \"on host: \", dsn_hostname)\n",
        "\n",
        "except:\n",
        "    print (\"Unable to connect: \", ibm_db.conn_errormsg() )\n"
      ],
      "metadata": {
        "colab": {
          "base_uri": "https://localhost:8080/"
        },
        "id": "BCK8ryNLxsbB",
        "outputId": "bc5e1490-7643-4a27-81c2-3bf125b25421"
      },
      "execution_count": 9,
      "outputs": [
        {
          "output_type": "stream",
          "name": "stdout",
          "text": [
            "Unable to connect:  [IBM][CLI Driver] SQL1013N  The database alias name or database name \"\" could not be found.  SQLSTATE=42705 SQLCODE=-1013\n"
          ]
        }
      ]
    },
    {
      "cell_type": "markdown",
      "source": [
        "##Create a table in the database"
      ],
      "metadata": {
        "id": "CHBaBv8ixxkT"
      }
    },
    {
      "cell_type": "markdown",
      "source": [
        "<img src=\"https://ibm.box.com/shared/static/ztd2cn4xkdoj5erlk4hhng39kbp63s1h.jpg\" align=\"center\">"
      ],
      "metadata": {
        "id": "TZB2TZKsx0tA"
      }
    },
    {
      "cell_type": "code",
      "source": [
        "#Lets first drop the table INSTRUCTOR in case it exists from a previous attempt\n",
        "dropQuery = \"drop table INSTRUCTOR\"\n",
        "\n",
        "#Now execute the drop statment\n",
        "dropStmt = ibm_db.exec_immediate(conn, dropQuery)"
      ],
      "metadata": {
        "colab": {
          "base_uri": "https://localhost:8080/",
          "height": 176
        },
        "id": "s2gxswRSxxAy",
        "outputId": "b8a20d11-1235-496c-cf1b-6c14b8387bc2"
      },
      "execution_count": 10,
      "outputs": [
        {
          "output_type": "error",
          "ename": "NameError",
          "evalue": "name 'conn' is not defined",
          "traceback": [
            "\u001b[0;31m---------------------------------------------------------------------------\u001b[0m",
            "\u001b[0;31mNameError\u001b[0m                                 Traceback (most recent call last)",
            "Cell \u001b[0;32mIn[10], line 5\u001b[0m\n\u001b[1;32m      2\u001b[0m dropQuery \u001b[38;5;241m=\u001b[39m \u001b[38;5;124m\"\u001b[39m\u001b[38;5;124mdrop table INSTRUCTOR\u001b[39m\u001b[38;5;124m\"\u001b[39m\n\u001b[1;32m      4\u001b[0m \u001b[38;5;66;03m#Now execute the drop statment\u001b[39;00m\n\u001b[0;32m----> 5\u001b[0m dropStmt \u001b[38;5;241m=\u001b[39m ibm_db\u001b[38;5;241m.\u001b[39mexec_immediate(conn, dropQuery)\n",
            "\u001b[0;31mNameError\u001b[0m: name 'conn' is not defined"
          ]
        }
      ]
    },
    {
      "cell_type": "markdown",
      "source": [
        "##Insert data into the table"
      ],
      "metadata": {
        "id": "3EkzBVKOx7az"
      }
    },
    {
      "cell_type": "markdown",
      "source": [
        "<img src=\"https://ibm.box.com/shared/static/j5yjassxefrjknivfpekj7698dqe4d8i.jpg\" align=\"center\">"
      ],
      "metadata": {
        "id": "bd3961v6x9lr"
      }
    },
    {
      "cell_type": "code",
      "source": [
        "#Construct the query - replace ... with the insert statement\n",
        "insertQuery = \"...\"\n",
        "\n",
        "#execute the insert statement\n",
        "insertStmt = ibm_db.exec_immediate(conn, insertQuery)"
      ],
      "metadata": {
        "colab": {
          "base_uri": "https://localhost:8080/",
          "height": 176
        },
        "id": "LPf66W1Yx5D9",
        "outputId": "00e79eea-6252-43d9-f3df-8f5fc6cd64f3"
      },
      "execution_count": 11,
      "outputs": [
        {
          "output_type": "error",
          "ename": "NameError",
          "evalue": "name 'conn' is not defined",
          "traceback": [
            "\u001b[0;31m---------------------------------------------------------------------------\u001b[0m",
            "\u001b[0;31mNameError\u001b[0m                                 Traceback (most recent call last)",
            "Cell \u001b[0;32mIn[11], line 5\u001b[0m\n\u001b[1;32m      2\u001b[0m insertQuery \u001b[38;5;241m=\u001b[39m \u001b[38;5;124m\"\u001b[39m\u001b[38;5;124m...\u001b[39m\u001b[38;5;124m\"\u001b[39m\n\u001b[1;32m      4\u001b[0m \u001b[38;5;66;03m#execute the insert statement\u001b[39;00m\n\u001b[0;32m----> 5\u001b[0m insertStmt \u001b[38;5;241m=\u001b[39m ibm_db\u001b[38;5;241m.\u001b[39mexec_immediate(conn, insertQuery)\n",
            "\u001b[0;31mNameError\u001b[0m: name 'conn' is not defined"
          ]
        }
      ]
    },
    {
      "cell_type": "markdown",
      "source": [
        "use a single query to insert the remaining two rows of data"
      ],
      "metadata": {
        "id": "caVgslOvyEWU"
      }
    },
    {
      "cell_type": "code",
      "source": [
        "#replace ... with the insert statement that inerts the remaining two rows of data\n",
        "insertQuery2 = \"...\"\n",
        "\n",
        "#execute the statement\n",
        "insertStmt2 = ibm_db.exec_immediate(conn, insertQuery2)"
      ],
      "metadata": {
        "id": "k62JOXyJx_mG"
      },
      "execution_count": null,
      "outputs": []
    },
    {
      "cell_type": "markdown",
      "source": [
        "##Query data in the table\n"
      ],
      "metadata": {
        "id": "0c4S8fkIyHYs"
      }
    },
    {
      "cell_type": "code",
      "source": [
        "#Construct the query that retrieves all rows from the INSTRUCTOR table\n",
        "selectQuery = \"select * from INSTRUCTOR\"\n",
        "\n",
        "#Execute the statement\n",
        "selectStmt = ibm_db.exec_immediate(conn, selectQuery)\n",
        "\n",
        "#Fetch the Dictionary (for the first row only)\n",
        "ibm_db.fetch_both(selectStmt)\n"
      ],
      "metadata": {
        "colab": {
          "base_uri": "https://localhost:8080/",
          "height": 211
        },
        "id": "s0qE05NcyHwh",
        "outputId": "ab561e45-5334-4700-fb65-6aa03ec93719"
      },
      "execution_count": 12,
      "outputs": [
        {
          "output_type": "error",
          "ename": "NameError",
          "evalue": "name 'conn' is not defined",
          "traceback": [
            "\u001b[0;31m---------------------------------------------------------------------------\u001b[0m",
            "\u001b[0;31mNameError\u001b[0m                                 Traceback (most recent call last)",
            "Cell \u001b[0;32mIn[12], line 5\u001b[0m\n\u001b[1;32m      2\u001b[0m selectQuery \u001b[38;5;241m=\u001b[39m \u001b[38;5;124m\"\u001b[39m\u001b[38;5;124mselect * from INSTRUCTOR\u001b[39m\u001b[38;5;124m\"\u001b[39m\n\u001b[1;32m      4\u001b[0m \u001b[38;5;66;03m#Execute the statement\u001b[39;00m\n\u001b[0;32m----> 5\u001b[0m selectStmt \u001b[38;5;241m=\u001b[39m ibm_db\u001b[38;5;241m.\u001b[39mexec_immediate(conn, selectQuery)\n\u001b[1;32m      7\u001b[0m \u001b[38;5;66;03m#Fetch the Dictionary (for the first row only)\u001b[39;00m\n\u001b[1;32m      8\u001b[0m ibm_db\u001b[38;5;241m.\u001b[39mfetch_both(selectStmt)\n",
            "\u001b[0;31mNameError\u001b[0m: name 'conn' is not defined"
          ]
        }
      ]
    },
    {
      "cell_type": "code",
      "source": [
        "#Fetch the rest of the rows and print the ID and FNAME for those rows\n",
        "while ibm_db.fetch_row(selectStmt) != False:\n",
        "    print (\" ID:\",  ibm_db.result(selectStmt, 0), \" FNAME:\",  ibm_db.result(selectStmt, \"FNAME\"))"
      ],
      "metadata": {
        "colab": {
          "base_uri": "https://localhost:8080/",
          "height": 176
        },
        "id": "h0DuVk2JyKjE",
        "outputId": "d38fc2db-bd27-4d1d-8aea-d5034289aab8"
      },
      "execution_count": 13,
      "outputs": [
        {
          "output_type": "error",
          "ename": "NameError",
          "evalue": "name 'selectStmt' is not defined",
          "traceback": [
            "\u001b[0;31m---------------------------------------------------------------------------\u001b[0m",
            "\u001b[0;31mNameError\u001b[0m                                 Traceback (most recent call last)",
            "Cell \u001b[0;32mIn[13], line 2\u001b[0m\n\u001b[1;32m      1\u001b[0m \u001b[38;5;66;03m#Fetch the rest of the rows and print the ID and FNAME for those rows\u001b[39;00m\n\u001b[0;32m----> 2\u001b[0m \u001b[38;5;28;01mwhile\u001b[39;00m ibm_db\u001b[38;5;241m.\u001b[39mfetch_row(selectStmt) \u001b[38;5;241m!=\u001b[39m \u001b[38;5;28;01mFalse\u001b[39;00m:\n\u001b[1;32m      3\u001b[0m     \u001b[38;5;28mprint\u001b[39m (\u001b[38;5;124m\"\u001b[39m\u001b[38;5;124m ID:\u001b[39m\u001b[38;5;124m\"\u001b[39m,  ibm_db\u001b[38;5;241m.\u001b[39mresult(selectStmt, \u001b[38;5;241m0\u001b[39m), \u001b[38;5;124m\"\u001b[39m\u001b[38;5;124m FNAME:\u001b[39m\u001b[38;5;124m\"\u001b[39m,  ibm_db\u001b[38;5;241m.\u001b[39mresult(selectStmt, \u001b[38;5;124m\"\u001b[39m\u001b[38;5;124mFNAME\u001b[39m\u001b[38;5;124m\"\u001b[39m))\n",
            "\u001b[0;31mNameError\u001b[0m: name 'selectStmt' is not defined"
          ]
        }
      ]
    },
    {
      "cell_type": "markdown",
      "source": [
        "now write and execute an update statement that changes the Rav's CITY to MOOSETOWN"
      ],
      "metadata": {
        "id": "TdpjNbz0yQwO"
      }
    },
    {
      "cell_type": "code",
      "source": [
        "updateQuery = \"update INSTRUCTOR set CITY='MOOSETOWN' where FNAME='Rav'\"\n",
        "updateStmt = ibm_db.exec_immediate(conn, updateQuery)"
      ],
      "metadata": {
        "colab": {
          "base_uri": "https://localhost:8080/",
          "height": 159
        },
        "id": "-zxV5uYbyOHs",
        "outputId": "2573b419-7870-4ade-a33f-ce09e96aa577"
      },
      "execution_count": 14,
      "outputs": [
        {
          "output_type": "error",
          "ename": "NameError",
          "evalue": "name 'conn' is not defined",
          "traceback": [
            "\u001b[0;31m---------------------------------------------------------------------------\u001b[0m",
            "\u001b[0;31mNameError\u001b[0m                                 Traceback (most recent call last)",
            "Cell \u001b[0;32mIn[14], line 2\u001b[0m\n\u001b[1;32m      1\u001b[0m updateQuery \u001b[38;5;241m=\u001b[39m \u001b[38;5;124m\"\u001b[39m\u001b[38;5;124mupdate INSTRUCTOR set CITY=\u001b[39m\u001b[38;5;124m'\u001b[39m\u001b[38;5;124mMOOSETOWN\u001b[39m\u001b[38;5;124m'\u001b[39m\u001b[38;5;124m where FNAME=\u001b[39m\u001b[38;5;124m'\u001b[39m\u001b[38;5;124mRav\u001b[39m\u001b[38;5;124m'\u001b[39m\u001b[38;5;124m\"\u001b[39m\n\u001b[0;32m----> 2\u001b[0m updateStmt \u001b[38;5;241m=\u001b[39m ibm_db\u001b[38;5;241m.\u001b[39mexec_immediate(conn, updateQuery)\n",
            "\u001b[0;31mNameError\u001b[0m: name 'conn' is not defined"
          ]
        }
      ]
    },
    {
      "cell_type": "markdown",
      "source": [
        "##Retrieve data into Pandas"
      ],
      "metadata": {
        "id": "OwmD8nJcyTNh"
      }
    },
    {
      "cell_type": "code",
      "source": [
        "!pip install pandas\n",
        "import pandas\n",
        "import ibm_db_dbi"
      ],
      "metadata": {
        "colab": {
          "base_uri": "https://localhost:8080/"
        },
        "id": "IYUQZPAGySs6",
        "outputId": "37e7a32f-3dff-4962-a4fd-7b67d3fc1798"
      },
      "execution_count": 15,
      "outputs": [
        {
          "output_type": "stream",
          "name": "stdout",
          "text": [
            "Requirement already satisfied: pandas in /opt/anaconda3/lib/python3.12/site-packages (2.2.3)\r\n",
            "Requirement already satisfied: numpy>=1.26.0 in /opt/anaconda3/lib/python3.12/site-packages (from pandas) (1.26.4)\r\n",
            "Requirement already satisfied: python-dateutil>=2.8.2 in /opt/anaconda3/lib/python3.12/site-packages (from pandas) (2.9.0.post0)\r\n",
            "Requirement already satisfied: pytz>=2020.1 in /opt/anaconda3/lib/python3.12/site-packages (from pandas) (2024.1)\r\n",
            "Requirement already satisfied: tzdata>=2022.7 in /opt/anaconda3/lib/python3.12/site-packages (from pandas) (2023.3)\r\n",
            "Requirement already satisfied: six>=1.5 in /opt/anaconda3/lib/python3.12/site-packages (from python-dateutil>=2.8.2->pandas) (1.16.0)\r\n"
          ]
        }
      ]
    },
    {
      "cell_type": "code",
      "source": [
        "#connection for pandas\n",
        "pconn = ibm_db_dbi.Connection(conn)"
      ],
      "metadata": {
        "colab": {
          "base_uri": "https://localhost:8080/",
          "height": 159
        },
        "id": "CoiUI1l7yW8_",
        "outputId": "9ac1e383-5889-47be-c65d-eaf76cedfd16"
      },
      "execution_count": 16,
      "outputs": [
        {
          "output_type": "error",
          "ename": "NameError",
          "evalue": "name 'conn' is not defined",
          "traceback": [
            "\u001b[0;31m---------------------------------------------------------------------------\u001b[0m",
            "\u001b[0;31mNameError\u001b[0m                                 Traceback (most recent call last)",
            "Cell \u001b[0;32mIn[16], line 2\u001b[0m\n\u001b[1;32m      1\u001b[0m \u001b[38;5;66;03m#connection for pandas\u001b[39;00m\n\u001b[0;32m----> 2\u001b[0m pconn \u001b[38;5;241m=\u001b[39m ibm_db_dbi\u001b[38;5;241m.\u001b[39mConnection(conn)\n",
            "\u001b[0;31mNameError\u001b[0m: name 'conn' is not defined"
          ]
        }
      ]
    },
    {
      "cell_type": "code",
      "source": [
        "#query statement to retrieve all rows in INSTRUCTOR table\n",
        "selectQuery = \"select * from INSTRUCTOR\"\n",
        "\n",
        "#retrieve the query results into a pandas dataframe\n",
        "pdf = pandas.read_sql(selectQuery, pconn)\n",
        "\n",
        "#print just the LNAME for first row in the pandas data frame\n",
        "pdf.LNAME[0]"
      ],
      "metadata": {
        "colab": {
          "base_uri": "https://localhost:8080/",
          "height": 211
        },
        "id": "gPrE4CzMyYmy",
        "outputId": "cc01144f-5332-4c8e-e6a4-7e85892c2986"
      },
      "execution_count": 17,
      "outputs": [
        {
          "output_type": "error",
          "ename": "NameError",
          "evalue": "name 'pconn' is not defined",
          "traceback": [
            "\u001b[0;31m---------------------------------------------------------------------------\u001b[0m",
            "\u001b[0;31mNameError\u001b[0m                                 Traceback (most recent call last)",
            "Cell \u001b[0;32mIn[17], line 5\u001b[0m\n\u001b[1;32m      2\u001b[0m selectQuery \u001b[38;5;241m=\u001b[39m \u001b[38;5;124m\"\u001b[39m\u001b[38;5;124mselect * from INSTRUCTOR\u001b[39m\u001b[38;5;124m\"\u001b[39m\n\u001b[1;32m      4\u001b[0m \u001b[38;5;66;03m#retrieve the query results into a pandas dataframe\u001b[39;00m\n\u001b[0;32m----> 5\u001b[0m pdf \u001b[38;5;241m=\u001b[39m pandas\u001b[38;5;241m.\u001b[39mread_sql(selectQuery, pconn)\n\u001b[1;32m      7\u001b[0m \u001b[38;5;66;03m#print just the LNAME for first row in the pandas data frame\u001b[39;00m\n\u001b[1;32m      8\u001b[0m pdf\u001b[38;5;241m.\u001b[39mLNAME[\u001b[38;5;241m0\u001b[39m]\n",
            "\u001b[0;31mNameError\u001b[0m: name 'pconn' is not defined"
          ]
        }
      ]
    },
    {
      "cell_type": "code",
      "source": [
        "#print the entire data frame\n",
        "pdf"
      ],
      "metadata": {
        "colab": {
          "base_uri": "https://localhost:8080/",
          "height": 159
        },
        "id": "xtnsg2fVyaA5",
        "outputId": "e202a336-8113-467c-b4b5-0c8487d6b87e"
      },
      "execution_count": 18,
      "outputs": [
        {
          "output_type": "error",
          "ename": "NameError",
          "evalue": "name 'pdf' is not defined",
          "traceback": [
            "\u001b[0;31m---------------------------------------------------------------------------\u001b[0m",
            "\u001b[0;31mNameError\u001b[0m                                 Traceback (most recent call last)",
            "Cell \u001b[0;32mIn[18], line 2\u001b[0m\n\u001b[1;32m      1\u001b[0m \u001b[38;5;66;03m#print the entire data frame\u001b[39;00m\n\u001b[0;32m----> 2\u001b[0m pdf\n",
            "\u001b[0;31mNameError\u001b[0m: name 'pdf' is not defined"
          ]
        }
      ]
    },
    {
      "cell_type": "code",
      "source": [
        "pdf.shape"
      ],
      "metadata": {
        "colab": {
          "base_uri": "https://localhost:8080/",
          "height": 141
        },
        "id": "jI3jkigGyhHr",
        "outputId": "4d1aba2c-ee64-4097-9cc6-702301d23f99"
      },
      "execution_count": 19,
      "outputs": [
        {
          "output_type": "error",
          "ename": "NameError",
          "evalue": "name 'pdf' is not defined",
          "traceback": [
            "\u001b[0;31m---------------------------------------------------------------------------\u001b[0m",
            "\u001b[0;31mNameError\u001b[0m                                 Traceback (most recent call last)",
            "Cell \u001b[0;32mIn[19], line 1\u001b[0m\n\u001b[0;32m----> 1\u001b[0m pdf\u001b[38;5;241m.\u001b[39mshape\n",
            "\u001b[0;31mNameError\u001b[0m: name 'pdf' is not defined"
          ]
        }
      ]
    },
    {
      "cell_type": "markdown",
      "source": [
        "##Close conenction"
      ],
      "metadata": {
        "id": "dcIpYU3qycyr"
      }
    },
    {
      "cell_type": "code",
      "source": [
        "ibm_db.close(conn)"
      ],
      "metadata": {
        "id": "EP45nkWWycOR"
      },
      "execution_count": null,
      "outputs": []
    }
  ]
}