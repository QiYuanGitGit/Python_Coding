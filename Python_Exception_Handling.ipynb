{
  "nbformat": 4,
  "nbformat_minor": 0,
  "metadata": {
    "colab": {
      "provenance": []
    },
    "kernelspec": {
      "name": "python3",
      "display_name": "Python 3"
    },
    "language_info": {
      "name": "python"
    }
  },
  "cells": [
    {
      "cell_type": "markdown",
      "source": [
        "# Check Error"
      ],
      "metadata": {
        "id": "B5vC7Qhdz1Dz"
      }
    },
    {
      "cell_type": "code",
      "execution_count": 1,
      "metadata": {
        "colab": {
          "base_uri": "https://localhost:8080/",
          "height": 141
        },
        "id": "SfEwJJHwzkGL",
        "outputId": "0c5450e6-9fe3-41f4-919f-7feb2eab0b84"
      },
      "outputs": [
        {
          "output_type": "error",
          "ename": "ZeroDivisionError",
          "evalue": "division by zero",
          "traceback": [
            "\u001b[31m---------------------------------------------------------------------------\u001b[39m",
            "\u001b[31mZeroDivisionError\u001b[39m                         Traceback (most recent call last)",
            "\u001b[36mCell\u001b[39m\u001b[36m \u001b[39m\u001b[32mIn[1]\u001b[39m\u001b[32m, line 1\u001b[39m\n\u001b[32m----> \u001b[39m\u001b[32m1\u001b[39m \u001b[32m1\u001b[39m/\u001b[32m0\u001b[39m\n",
            "\u001b[31mZeroDivisionError\u001b[39m: division by zero"
          ]
        }
      ],
      "source": [
        "1/0"
      ]
    },
    {
      "cell_type": "code",
      "source": [
        "y = a + 5"
      ],
      "metadata": {
        "colab": {
          "base_uri": "https://localhost:8080/",
          "height": 141
        },
        "id": "xXVqNjz-z5bS",
        "outputId": "c037f1f5-cfc7-442e-ac4c-4e2387213f76"
      },
      "execution_count": 2,
      "outputs": [
        {
          "output_type": "error",
          "ename": "NameError",
          "evalue": "name 'a' is not defined",
          "traceback": [
            "\u001b[31m---------------------------------------------------------------------------\u001b[39m",
            "\u001b[31mNameError\u001b[39m                                 Traceback (most recent call last)",
            "\u001b[36mCell\u001b[39m\u001b[36m \u001b[39m\u001b[32mIn[2]\u001b[39m\u001b[32m, line 1\u001b[39m\n\u001b[32m----> \u001b[39m\u001b[32m1\u001b[39m y = a + \u001b[32m5\u001b[39m\n",
            "\u001b[31mNameError\u001b[39m: name 'a' is not defined"
          ]
        }
      ]
    },
    {
      "cell_type": "code",
      "source": [
        "a = [1, 2, 3]\n",
        "a[10]"
      ],
      "metadata": {
        "colab": {
          "base_uri": "https://localhost:8080/",
          "height": 159
        },
        "id": "5WlKtQQ0z7Hd",
        "outputId": "ee60ea39-a080-4080-add5-477e6990f3a5"
      },
      "execution_count": 3,
      "outputs": [
        {
          "output_type": "error",
          "ename": "IndexError",
          "evalue": "list index out of range",
          "traceback": [
            "\u001b[31m---------------------------------------------------------------------------\u001b[39m",
            "\u001b[31mIndexError\u001b[39m                                Traceback (most recent call last)",
            "\u001b[36mCell\u001b[39m\u001b[36m \u001b[39m\u001b[32mIn[3]\u001b[39m\u001b[32m, line 2\u001b[39m\n\u001b[32m      1\u001b[39m a = [\u001b[32m1\u001b[39m, \u001b[32m2\u001b[39m, \u001b[32m3\u001b[39m]\n\u001b[32m----> \u001b[39m\u001b[32m2\u001b[39m a[\u001b[32m10\u001b[39m]\n",
            "\u001b[31mIndexError\u001b[39m: list index out of range"
          ]
        }
      ]
    },
    {
      "cell_type": "markdown",
      "source": [
        "#Try Except"
      ],
      "metadata": {
        "id": "7OAyphiez-PY"
      }
    },
    {
      "cell_type": "code",
      "source": [
        "a = 1\n",
        "\n",
        "try:\n",
        "    b = int(input(\"Please enter a number to divide a\"))\n",
        "    a = a/b\n",
        "    print(\"Success a=\",a)\n",
        "except ZeroDivisionError:\n",
        "    print(\"The number you provided cant divide 1 because it is 0\")\n",
        "except ValueError:\n",
        "    print(\"You did not provide a number\")\n",
        "except:\n",
        "    print(\"Something went wrong\")"
      ],
      "metadata": {
        "colab": {
          "base_uri": "https://localhost:8080/"
        },
        "id": "AVUhwJ05z8gx",
        "outputId": "fdf1c056-5dfd-4cdb-bd61-2b39458323bd"
      },
      "execution_count": 7,
      "outputs": [
        {
          "output_type": "stream",
          "name": "stdout",
          "text": [
            "Please enter a number to divide a0\n",
            "The number you provided cant divide 1 because it is 0\n"
          ]
        }
      ]
    },
    {
      "cell_type": "markdown",
      "source": [
        "# Try Else Finally"
      ],
      "metadata": {
        "id": "p36rDpNN0QeL"
      }
    },
    {
      "cell_type": "code",
      "source": [
        "a = 1\n",
        "\n",
        "try:\n",
        "    b = int(input(\"Please enter a number to divide a\"))\n",
        "    a = a/b\n",
        "except ZeroDivisionError:\n",
        "    print(\"The number you provided cant divide 1 because it is 0\")\n",
        "except ValueError:\n",
        "    print(\"You did not provide a number\")\n",
        "except:\n",
        "    print(\"Something went wrong\")\n",
        "else:\n",
        "    print(\"success a=\",a)"
      ],
      "metadata": {
        "colab": {
          "base_uri": "https://localhost:8080/"
        },
        "id": "DxTWZlT70EFl",
        "outputId": "847ffc7e-a853-4b7a-ea0d-5c79b150e24a"
      },
      "execution_count": 12,
      "outputs": [
        {
          "output_type": "stream",
          "name": "stdout",
          "text": [
            "Please enter a number to divide a-11111\n",
            "success a= -9.000090000900009e-05\n"
          ]
        }
      ]
    },
    {
      "cell_type": "code",
      "source": [
        "def safe_divide(numerator, denominator):\n",
        "    try:\n",
        "        result = numerator/denominator\n",
        "        return result\n",
        "    except ZeroDivisionError:\n",
        "        print(\"Error: Cannot divide by zero.\")\n",
        "        return None\n",
        "\n",
        "numerator=int(input(\"Enter the numerator value:-\"))\n",
        "denominator=int(input(\"Enter the denominator value:-\"))\n",
        "print(safe_divide(numerator,denominator))\n",
        ""
      ],
      "metadata": {
        "colab": {
          "base_uri": "https://localhost:8080/"
        },
        "id": "RMziI1hN0TiO",
        "outputId": "f945afd3-461b-4eb0-df66-9a76dbd3c386"
      },
      "execution_count": 13,
      "outputs": [
        {
          "output_type": "stream",
          "name": "stdout",
          "text": [
            "Enter the numerator value:-5\n",
            "Enter the denominator value:-2\n",
            "2.5\n"
          ]
        }
      ]
    },
    {
      "cell_type": "code",
      "source": [
        "import math\n",
        "\n",
        "def perform_calculation(number1):\n",
        "    try:\n",
        "        result = math.sqrt(number1)\n",
        "        print(f\"Result:{result}\")\n",
        "    except ValueError:\n",
        "        print(\"Error: Invalid input! Please enter a positive integer or a float value.\")\n",
        "\n",
        "number1=float(input(\"Enter the number:-\"))\n",
        "perform_calculation(number1)"
      ],
      "metadata": {
        "colab": {
          "base_uri": "https://localhost:8080/"
        },
        "id": "P6wbpgZE0h32",
        "outputId": "aa2f27ee-cb13-4304-db8f-2210efaf0b10"
      },
      "execution_count": 25,
      "outputs": [
        {
          "output_type": "stream",
          "name": "stdout",
          "text": [
            "Enter the number:--1\n",
            "Error: Invalid input! Please enter a positive integer or a float value.\n"
          ]
        }
      ]
    },
    {
      "cell_type": "code",
      "source": [
        "def complex_calculation(num):\n",
        "    try:\n",
        "        result=num/(num-5)\n",
        "        print(f\"Result: {result}\")\n",
        "    except Exception as e:\n",
        "        print(\"An error occured during calculation.\")\n",
        "\n",
        "user_input=float(input(\"Enter a number: \"))\n",
        "complex_calculation(user_input)"
      ],
      "metadata": {
        "colab": {
          "base_uri": "https://localhost:8080/"
        },
        "id": "Jlmr7mkr0koj",
        "outputId": "ac0ec2a4-584f-454c-dd42-03704d5f3181"
      },
      "execution_count": 23,
      "outputs": [
        {
          "output_type": "stream",
          "name": "stdout",
          "text": [
            "Enter a number: 5\n",
            "An error occured during calculation.\n"
          ]
        }
      ]
    },
    {
      "cell_type": "code",
      "source": [],
      "metadata": {
        "id": "SV_nY-4P0o6I"
      },
      "execution_count": null,
      "outputs": []
    }
  ]
}