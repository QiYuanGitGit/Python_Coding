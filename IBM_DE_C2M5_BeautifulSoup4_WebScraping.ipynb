{
  "nbformat": 4,
  "nbformat_minor": 0,
  "metadata": {
    "colab": {
      "provenance": []
    },
    "kernelspec": {
      "name": "python3",
      "display_name": "Python 3"
    },
    "language_info": {
      "name": "python"
    }
  },
  "cells": [
    {
      "cell_type": "markdown",
      "source": [
        "#BeautifulSoup"
      ],
      "metadata": {
        "id": "WcpiXFKcwmUv"
      }
    },
    {
      "cell_type": "code",
      "execution_count": 61,
      "metadata": {
        "colab": {
          "base_uri": "https://localhost:8080/"
        },
        "id": "rB3mEA8lhVjI",
        "outputId": "47d1f71b-8c0b-4bbc-ae45-3e6678ddd3e0"
      },
      "outputs": [
        {
          "output_type": "stream",
          "name": "stdout",
          "text": [
            "Requirement already satisfied: bs4 in /opt/anaconda3/lib/python3.12/site-packages (0.0.2)\r\n",
            "Requirement already satisfied: beautifulsoup4 in /opt/anaconda3/lib/python3.12/site-packages (from bs4) (4.12.3)\r\n",
            "Requirement already satisfied: soupsieve>1.2 in /opt/anaconda3/lib/python3.12/site-packages (from beautifulsoup4->bs4) (2.5)\n",
            "Requirement already satisfied: requests in /opt/anaconda3/lib/python3.12/site-packages (2.32.3)\n",
            "Requirement already satisfied: pandas in /opt/anaconda3/lib/python3.12/site-packages (2.2.3)\n",
            "Requirement already satisfied: charset-normalizer<4,>=2 in /opt/anaconda3/lib/python3.12/site-packages (from requests) (3.3.2)\n",
            "Requirement already satisfied: idna<4,>=2.5 in /opt/anaconda3/lib/python3.12/site-packages (from requests) (3.7)\n",
            "Requirement already satisfied: urllib3<3,>=1.21.1 in /opt/anaconda3/lib/python3.12/site-packages (from requests) (2.2.3)\n",
            "Requirement already satisfied: certifi>=2017.4.17 in /opt/anaconda3/lib/python3.12/site-packages (from requests) (2024.8.30)\n",
            "Requirement already satisfied: numpy>=1.26.0 in /opt/anaconda3/lib/python3.12/site-packages (from pandas) (1.26.4)\n",
            "Requirement already satisfied: python-dateutil>=2.8.2 in /opt/anaconda3/lib/python3.12/site-packages (from pandas) (2.9.0.post0)\n",
            "Requirement already satisfied: pytz>=2020.1 in /opt/anaconda3/lib/python3.12/site-packages (from pandas) (2024.1)\n",
            "Requirement already satisfied: tzdata>=2022.7 in /opt/anaconda3/lib/python3.12/site-packages (from pandas) (2023.3)\n",
            "Requirement already satisfied: six>=1.5 in /opt/anaconda3/lib/python3.12/site-packages (from python-dateutil>=2.8.2->pandas) (1.16.0)\n"
          ]
        }
      ],
      "source": [
        "!pip install bs4\n",
        "!pip install requests pandas"
      ]
    },
    {
      "cell_type": "code",
      "source": [
        "from bs4 import BeautifulSoup # this module helps in web scrapping.\n",
        "import requests  # this module to download a web page"
      ],
      "metadata": {
        "id": "EX8KwG96vzgf"
      },
      "execution_count": 62,
      "outputs": []
    },
    {
      "cell_type": "code",
      "source": [
        "%%html\n",
        "<!DOCTYPE html>\n",
        "<html>\n",
        "<head>\n",
        "<title>Page Title</title>\n",
        "</head>\n",
        "<body>\n",
        "<h3><b id='boldest'>Lebron James</b></h3>\n",
        "<p> Salary: $ 92,000,000 </p>\n",
        "<h3> Stephen Curry</h3>\n",
        "<p> Salary: $85,000, 000 </p>\n",
        "<h3> Kevin Durant </h3>\n",
        "<p> Salary: $73,200, 000</p>\n",
        "</body>\n",
        "</html>"
      ],
      "metadata": {
        "colab": {
          "base_uri": "https://localhost:8080/",
          "height": 203
        },
        "id": "KHs0Kd9ow8Kq",
        "outputId": "82461ce1-7ecf-4cd8-ee20-f09fcb1931d6"
      },
      "execution_count": 63,
      "outputs": [
        {
          "output_type": "display_data",
          "data": {
            "text/plain": [
              "<IPython.core.display.HTML object>"
            ],
            "text/html": [
              "<!DOCTYPE html>\n",
              "<html>\n",
              "<head>\n",
              "<title>Page Title</title>\n",
              "</head>\n",
              "<body>\n",
              "<h3><b id='boldest'>Lebron James</b></h3>\n",
              "<p> Salary: $ 92,000,000 </p>\n",
              "<h3> Stephen Curry</h3>\n",
              "<p> Salary: $85,000, 000 </p>\n",
              "<h3> Kevin Durant </h3>\n",
              "<p> Salary: $73,200, 000</p>\n",
              "</body>\n",
              "</html>\n"
            ]
          },
          "metadata": {}
        }
      ]
    },
    {
      "cell_type": "markdown",
      "source": [
        "Store it as a string in the variable HTML"
      ],
      "metadata": {
        "id": "f5VyRQD3xGaB"
      }
    },
    {
      "cell_type": "code",
      "source": [
        "html=\"<!DOCTYPE html><html><head><title>Page Title</title></head><body><h3><b id='boldest'>Lebron James</b></h3><p> Salary: $ 92,000,000 </p><h3> Stephen Curry</h3><p> Salary: $85,000, 000 </p><h3> Kevin Durant </h3><p> Salary: $73,200, 000</p></body></html>\""
      ],
      "metadata": {
        "id": "nSjZ5_6BxBZC"
      },
      "execution_count": 64,
      "outputs": []
    },
    {
      "cell_type": "markdown",
      "source": [
        "To parse it, pass it into the BeautifulSoup constructor, represents the document as a nested data structure"
      ],
      "metadata": {
        "id": "qMUjYiBZxcB_"
      }
    },
    {
      "cell_type": "code",
      "source": [
        "soup = BeautifulSoup(html, 'html.parser')"
      ],
      "metadata": {
        "id": "hvD-7AhZxKWo"
      },
      "execution_count": 65,
      "outputs": []
    },
    {
      "cell_type": "markdown",
      "source": [
        "Use prettify() to display the HTML in the nested structure:"
      ],
      "metadata": {
        "id": "aDTHQ0rJ3Pvr"
      }
    },
    {
      "cell_type": "markdown",
      "source": [
        "###Prettify()"
      ],
      "metadata": {
        "id": "qJd1O-rr3XdX"
      }
    },
    {
      "cell_type": "code",
      "source": [
        "soup.prettify()"
      ],
      "metadata": {
        "colab": {
          "base_uri": "https://localhost:8080/"
        },
        "id": "AZ-LiZj-xk1Q",
        "outputId": "e2810ec7-6ccb-44e9-8fae-ab9640bdacdc"
      },
      "execution_count": 66,
      "outputs": [
        {
          "output_type": "execute_result",
          "data": {
            "text/plain": [
              "'<!DOCTYPE html>\\n<html>\\n <head>\\n  <title>\\n   Page Title\\n  </title>\\n </head>\\n <body>\\n  <h3>\\n   <b id=\"boldest\">\\n    Lebron James\\n   </b>\\n  </h3>\\n  <p>\\n   Salary: $ 92,000,000\\n  </p>\\n  <h3>\\n   Stephen Curry\\n  </h3>\\n  <p>\\n   Salary: $85,000, 000\\n  </p>\\n  <h3>\\n   Kevin Durant\\n  </h3>\\n  <p>\\n   Salary: $73,200, 000\\n  </p>\\n </body>\\n</html>\\n'"
            ]
          },
          "metadata": {},
          "execution_count": 66
        }
      ]
    },
    {
      "cell_type": "markdown",
      "source": [
        "#Tag"
      ],
      "metadata": {
        "id": "CFdVubVE3fcw"
      }
    },
    {
      "cell_type": "markdown",
      "source": [
        "Tag object corresponds to an HTML tag in the original document"
      ],
      "metadata": {
        "id": "nrA56-Rx3kVC"
      }
    },
    {
      "cell_type": "code",
      "source": [
        "tag_object=soup.title\n",
        "tag_object"
      ],
      "metadata": {
        "colab": {
          "base_uri": "https://localhost:8080/"
        },
        "id": "uiFzuzsn3VVL",
        "outputId": "9503ff16-06ab-43b6-d30a-db94f085407c"
      },
      "execution_count": 67,
      "outputs": [
        {
          "output_type": "execute_result",
          "data": {
            "text/plain": [
              "<title>Page Title</title>"
            ]
          },
          "metadata": {},
          "execution_count": 67
        }
      ]
    },
    {
      "cell_type": "code",
      "source": [
        "type(tag_object)"
      ],
      "metadata": {
        "colab": {
          "base_uri": "https://localhost:8080/"
        },
        "id": "W2KtV2Of3x75",
        "outputId": "6710bd81-8ba7-46ff-b4fb-19f10c5fc180"
      },
      "execution_count": 68,
      "outputs": [
        {
          "output_type": "execute_result",
          "data": {
            "text/plain": [
              "bs4.element.Tag"
            ]
          },
          "metadata": {},
          "execution_count": 68
        }
      ]
    },
    {
      "cell_type": "markdown",
      "source": [
        "If more than one Tag with the same name, the first element with that Tag name is called. This corresponds to the most paid player:"
      ],
      "metadata": {
        "id": "snH_hg44353y"
      }
    },
    {
      "cell_type": "code",
      "source": [
        "tag_object2=soup.h3\n",
        "tag_object2"
      ],
      "metadata": {
        "colab": {
          "base_uri": "https://localhost:8080/"
        },
        "id": "55uP4ypk30kl",
        "outputId": "86ab3420-7af6-4ca0-dc75-499c624787c7"
      },
      "execution_count": 69,
      "outputs": [
        {
          "output_type": "execute_result",
          "data": {
            "text/plain": [
              "<h3><b id=\"boldest\">Lebron James</b></h3>"
            ]
          },
          "metadata": {},
          "execution_count": 69
        }
      ]
    },
    {
      "cell_type": "markdown",
      "source": [
        "##Children, Parents, and Siblings"
      ],
      "metadata": {
        "id": "ozTXyr4q4GZs"
      }
    },
    {
      "cell_type": "markdown",
      "source": [
        "Tag object is a tree of objects, access the child of the tag or navigate down the branch:"
      ],
      "metadata": {
        "id": "m_Ev3Ik54PG4"
      }
    },
    {
      "cell_type": "code",
      "source": [
        "tag_child =tag_object2.b\n",
        "tag_child"
      ],
      "metadata": {
        "colab": {
          "base_uri": "https://localhost:8080/"
        },
        "id": "qZN1d7jR4BBQ",
        "outputId": "ed8289b8-da80-4112-b17a-73167cdb50e4"
      },
      "execution_count": 70,
      "outputs": [
        {
          "output_type": "execute_result",
          "data": {
            "text/plain": [
              "<b id=\"boldest\">Lebron James</b>"
            ]
          },
          "metadata": {},
          "execution_count": 70
        }
      ]
    },
    {
      "cell_type": "markdown",
      "source": [
        "Access the parent:"
      ],
      "metadata": {
        "id": "LlohW3SH4VaB"
      }
    },
    {
      "cell_type": "code",
      "source": [
        "parent_tag=tag_child.parent\n",
        "parent_tag"
      ],
      "metadata": {
        "colab": {
          "base_uri": "https://localhost:8080/"
        },
        "id": "02Pjnq0V4LRY",
        "outputId": "0f877e51-8dd2-4821-f917-b3e030b5c957"
      },
      "execution_count": 71,
      "outputs": [
        {
          "output_type": "execute_result",
          "data": {
            "text/plain": [
              "<h3><b id=\"boldest\">Lebron James</b></h3>"
            ]
          },
          "metadata": {},
          "execution_count": 71
        }
      ]
    },
    {
      "cell_type": "markdown",
      "source": [
        "same as:"
      ],
      "metadata": {
        "id": "Jc-PKek-4iun"
      }
    },
    {
      "cell_type": "code",
      "source": [
        "tag_object2"
      ],
      "metadata": {
        "colab": {
          "base_uri": "https://localhost:8080/"
        },
        "id": "68nh7Eaw4Z-h",
        "outputId": "14d9d0f1-2a85-42f9-e0be-3ec5d0226303"
      },
      "execution_count": 72,
      "outputs": [
        {
          "output_type": "execute_result",
          "data": {
            "text/plain": [
              "<h3><b id=\"boldest\">Lebron James</b></h3>"
            ]
          },
          "metadata": {},
          "execution_count": 72
        }
      ]
    },
    {
      "cell_type": "markdown",
      "source": [
        "Parent of tag_object is the body element:"
      ],
      "metadata": {
        "id": "T12H3AJt4nvD"
      }
    },
    {
      "cell_type": "code",
      "source": [
        "tag_object2.parent"
      ],
      "metadata": {
        "colab": {
          "base_uri": "https://localhost:8080/"
        },
        "id": "jOyjcZML4jvD",
        "outputId": "c27ca455-e0a5-41d7-85dc-104e99a45560"
      },
      "execution_count": 73,
      "outputs": [
        {
          "output_type": "execute_result",
          "data": {
            "text/plain": [
              "<body><h3><b id=\"boldest\">Lebron James</b></h3><p> Salary: $ 92,000,000 </p><h3> Stephen Curry</h3><p> Salary: $85,000, 000 </p><h3> Kevin Durant </h3><p> Salary: $73,200, 000</p></body>"
            ]
          },
          "metadata": {},
          "execution_count": 73
        }
      ]
    },
    {
      "cell_type": "markdown",
      "source": [
        "tag_object2 sibling is the paragraph element:"
      ],
      "metadata": {
        "id": "Q4B_kxVW4332"
      }
    },
    {
      "cell_type": "markdown",
      "source": [
        "##HTML Attributes"
      ],
      "metadata": {
        "id": "D5BApkUX-Tm8"
      }
    },
    {
      "cell_type": "markdown",
      "source": [
        "If the tag has attributes, the tag id=\"boldest\", attribute id, value is boldest, access tag’s attributes by treating the tag like a dictionary:"
      ],
      "metadata": {
        "id": "wnD0P-Nm-YgK"
      }
    },
    {
      "cell_type": "code",
      "source": [
        "tag_child"
      ],
      "metadata": {
        "colab": {
          "base_uri": "https://localhost:8080/"
        },
        "id": "hRYI3ptI4pGB",
        "outputId": "cae0a13b-2973-4342-b97d-06d41bc25f7c"
      },
      "execution_count": 74,
      "outputs": [
        {
          "output_type": "execute_result",
          "data": {
            "text/plain": [
              "<b id=\"boldest\">Lebron James</b>"
            ]
          },
          "metadata": {},
          "execution_count": 74
        }
      ]
    },
    {
      "cell_type": "code",
      "source": [
        "tag_child['id']"
      ],
      "metadata": {
        "colab": {
          "base_uri": "https://localhost:8080/"
        },
        "id": "UNOCVx9s-tYa",
        "outputId": "4e5db43c-efbf-4d77-cc25-1bdc4e2a7c45"
      },
      "execution_count": 75,
      "outputs": [
        {
          "output_type": "execute_result",
          "data": {
            "text/plain": [
              "'boldest'"
            ]
          },
          "metadata": {},
          "execution_count": 75
        }
      ]
    },
    {
      "cell_type": "code",
      "source": [
        "tag_child.attrs"
      ],
      "metadata": {
        "colab": {
          "base_uri": "https://localhost:8080/"
        },
        "id": "P0791kZB-t-M",
        "outputId": "e13c5039-56e8-47f3-9d7b-55bbc4f931bd"
      },
      "execution_count": 76,
      "outputs": [
        {
          "output_type": "execute_result",
          "data": {
            "text/plain": [
              "{'id': 'boldest'}"
            ]
          },
          "metadata": {},
          "execution_count": 76
        }
      ]
    },
    {
      "cell_type": "markdown",
      "source": [
        "Check attribute of the tag using the Python get() method:"
      ],
      "metadata": {
        "id": "LHs2DgUS-2Hh"
      }
    },
    {
      "cell_type": "code",
      "source": [
        "tag_child.get('id')"
      ],
      "metadata": {
        "colab": {
          "base_uri": "https://localhost:8080/"
        },
        "id": "T7YoCvw7-zVM",
        "outputId": "8adc2365-006a-4fc0-f752-f932853c0a21"
      },
      "execution_count": 77,
      "outputs": [
        {
          "output_type": "execute_result",
          "data": {
            "text/plain": [
              "'boldest'"
            ]
          },
          "metadata": {},
          "execution_count": 77
        }
      ]
    },
    {
      "cell_type": "markdown",
      "source": [
        "##.string"
      ],
      "metadata": {
        "id": "CWkfO0xh_A_7"
      }
    },
    {
      "cell_type": "code",
      "source": [
        "tag_child"
      ],
      "metadata": {
        "colab": {
          "base_uri": "https://localhost:8080/"
        },
        "id": "xIFTstTK-1oV",
        "outputId": "fd8cba37-87e2-4812-bcb6-be111ff565d3"
      },
      "execution_count": 78,
      "outputs": [
        {
          "output_type": "execute_result",
          "data": {
            "text/plain": [
              "<b id=\"boldest\">Lebron James</b>"
            ]
          },
          "metadata": {},
          "execution_count": 78
        }
      ]
    },
    {
      "cell_type": "code",
      "source": [
        "tag_string=tag_child.string\n",
        "tag_string"
      ],
      "metadata": {
        "colab": {
          "base_uri": "https://localhost:8080/"
        },
        "id": "UcQVIxwV_Ec8",
        "outputId": "8a03dea0-a1da-42b1-fa15-fc9bf054f5c7"
      },
      "execution_count": 79,
      "outputs": [
        {
          "output_type": "execute_result",
          "data": {
            "text/plain": [
              "'Lebron James'"
            ]
          },
          "metadata": {},
          "execution_count": 79
        }
      ]
    },
    {
      "cell_type": "markdown",
      "source": [
        "type is navigate string:"
      ],
      "metadata": {
        "id": "_MiR0R7i_Nyc"
      }
    },
    {
      "cell_type": "code",
      "source": [
        "type(tag_string)"
      ],
      "metadata": {
        "colab": {
          "base_uri": "https://localhost:8080/"
        },
        "id": "qjbcFnaN_GAS",
        "outputId": "9ea86e44-8908-43a0-e71a-232ad65e57f8"
      },
      "execution_count": 80,
      "outputs": [
        {
          "output_type": "execute_result",
          "data": {
            "text/plain": [
              "bs4.element.NavigableString"
            ]
          },
          "metadata": {},
          "execution_count": 80
        }
      ]
    },
    {
      "cell_type": "markdown",
      "source": [
        "Convert it to string object in Python:"
      ],
      "metadata": {
        "id": "x8vKYt_l_UlI"
      }
    },
    {
      "cell_type": "code",
      "source": [
        "str(tag_string)"
      ],
      "metadata": {
        "colab": {
          "base_uri": "https://localhost:8080/"
        },
        "id": "LqWnGfdt_NZJ",
        "outputId": "604fd673-de57-4593-dce1-b04155258ae6"
      },
      "execution_count": 81,
      "outputs": [
        {
          "output_type": "execute_result",
          "data": {
            "text/plain": [
              "'Lebron James'"
            ]
          },
          "metadata": {},
          "execution_count": 81
        }
      ]
    },
    {
      "cell_type": "markdown",
      "source": [
        "##Filter"
      ],
      "metadata": {
        "id": "s24N7Yup_ZfR"
      }
    },
    {
      "cell_type": "markdown",
      "source": [
        "HTML of rocket launches:"
      ],
      "metadata": {
        "id": "wQCXFOYy_k12"
      }
    },
    {
      "cell_type": "code",
      "source": [
        "%%html\n",
        "<table>\n",
        "  <tr>\n",
        "    <td id='flight' >Flight No</td>\n",
        "    <td>Launch site</td>\n",
        "    <td>Payload mass</td>\n",
        "   </tr>\n",
        "  <tr>\n",
        "    <td>1</td>\n",
        "    <td><a href='https://en.wikipedia.org/wiki/Florida'>Florida</a></td>\n",
        "    <td>300 kg</td>\n",
        "  </tr>\n",
        "  <tr>\n",
        "    <td>2</td>\n",
        "    <td><a href='https://en.wikipedia.org/wiki/Texas'>Texas</a></td>\n",
        "    <td>94 kg</td>\n",
        "  </tr>\n",
        "  <tr>\n",
        "    <td>3</td>\n",
        "    <td><a href='https://en.wikipedia.org/wiki/Florida'>Florida<a> </td>\n",
        "    <td>80 kg</td>\n",
        "  </tr>\n",
        "</table>"
      ],
      "metadata": {
        "colab": {
          "base_uri": "https://localhost:8080/",
          "height": 103
        },
        "id": "zDia5Unz_X4p",
        "outputId": "d7e4f4f0-3d21-4e3c-a4e9-0fa48e074b7c"
      },
      "execution_count": 82,
      "outputs": [
        {
          "output_type": "display_data",
          "data": {
            "text/plain": [
              "<IPython.core.display.HTML object>"
            ],
            "text/html": [
              "<table>\n",
              "  <tr>\n",
              "    <td id='flight' >Flight No</td>\n",
              "    <td>Launch site</td> \n",
              "    <td>Payload mass</td>\n",
              "   </tr>\n",
              "  <tr> \n",
              "    <td>1</td>\n",
              "    <td><a href='https://en.wikipedia.org/wiki/Florida'>Florida</a></td>\n",
              "    <td>300 kg</td>\n",
              "  </tr>\n",
              "  <tr>\n",
              "    <td>2</td>\n",
              "    <td><a href='https://en.wikipedia.org/wiki/Texas'>Texas</a></td>\n",
              "    <td>94 kg</td>\n",
              "  </tr>\n",
              "  <tr>\n",
              "    <td>3</td>\n",
              "    <td><a href='https://en.wikipedia.org/wiki/Florida'>Florida<a> </td>\n",
              "    <td>80 kg</td>\n",
              "  </tr>\n",
              "</table>\n"
            ]
          },
          "metadata": {}
        }
      ]
    },
    {
      "cell_type": "markdown",
      "source": [
        "Store it as a string in the variable table:"
      ],
      "metadata": {
        "id": "1hEsz7YW_qI4"
      }
    },
    {
      "cell_type": "code",
      "source": [
        "table=\"<table><tr><td id='flight'>Flight No</td><td>Launch site</td> <td>Payload mass</td></tr><tr> <td>1</td><td><a href='https://en.wikipedia.org/wiki/Florida'>Florida<a></td><td>300 kg</td></tr><tr><td>2</td><td><a href='https://en.wikipedia.org/wiki/Texas'>Texas</a></td><td>94 kg</td></tr><tr><td>3</td><td><a href='https://en.wikipedia.org/wiki/Florida'>Florida<a> </td><td>80 kg</td></tr></table>\""
      ],
      "metadata": {
        "id": "ACJwgmjD_nbm"
      },
      "execution_count": 83,
      "outputs": []
    },
    {
      "cell_type": "code",
      "source": [
        "table_bs = BeautifulSoup(table, 'html.parser')"
      ],
      "metadata": {
        "id": "sw4pbqWR_tot"
      },
      "execution_count": 84,
      "outputs": []
    },
    {
      "cell_type": "code",
      "source": [
        "table_bs"
      ],
      "metadata": {
        "colab": {
          "base_uri": "https://localhost:8080/"
        },
        "id": "TqfP4I5MAGOk",
        "outputId": "d3660330-04bd-4f2e-ecf5-1c0771311477"
      },
      "execution_count": 85,
      "outputs": [
        {
          "output_type": "execute_result",
          "data": {
            "text/plain": [
              "<table><tr><td id=\"flight\">Flight No</td><td>Launch site</td> <td>Payload mass</td></tr><tr> <td>1</td><td><a href=\"https://en.wikipedia.org/wiki/Florida\">Florida<a></a></a></td><td>300 kg</td></tr><tr><td>2</td><td><a href=\"https://en.wikipedia.org/wiki/Texas\">Texas</a></td><td>94 kg</td></tr><tr><td>3</td><td><a href=\"https://en.wikipedia.org/wiki/Florida\">Florida<a> </a></a></td><td>80 kg</td></tr></table>"
            ]
          },
          "metadata": {},
          "execution_count": 85
        }
      ]
    },
    {
      "cell_type": "markdown",
      "source": [
        "##.findall('')"
      ],
      "metadata": {
        "id": "v8hS427VA2g1"
      }
    },
    {
      "cell_type": "markdown",
      "source": [
        "**.find_all() method** looks through a tag’s descendants and retrieves all descendants."
      ],
      "metadata": {
        "id": "QbE0NW3oA-mS"
      }
    },
    {
      "cell_type": "markdown",
      "source": [
        ".find_all(name, attrs, recursive, string, limit, **kwargs)"
      ],
      "metadata": {
        "id": "xXM4hrEqBGHG"
      }
    },
    {
      "cell_type": "code",
      "source": [
        "table_bs.find_all('tr')"
      ],
      "metadata": {
        "colab": {
          "base_uri": "https://localhost:8080/"
        },
        "id": "oFmyO-9fAHLo",
        "outputId": "786c51b5-9e0c-4507-9789-a98d05b12d8f"
      },
      "execution_count": 86,
      "outputs": [
        {
          "output_type": "execute_result",
          "data": {
            "text/plain": [
              "[<tr><td id=\"flight\">Flight No</td><td>Launch site</td> <td>Payload mass</td></tr>,\n",
              " <tr> <td>1</td><td><a href=\"https://en.wikipedia.org/wiki/Florida\">Florida<a></a></a></td><td>300 kg</td></tr>,\n",
              " <tr><td>2</td><td><a href=\"https://en.wikipedia.org/wiki/Texas\">Texas</a></td><td>94 kg</td></tr>,\n",
              " <tr><td>3</td><td><a href=\"https://en.wikipedia.org/wiki/Florida\">Florida<a> </a></a></td><td>80 kg</td></tr>]"
            ]
          },
          "metadata": {},
          "execution_count": 86
        }
      ]
    },
    {
      "cell_type": "markdown",
      "source": [
        "The result is a Python Iterable just like a list, each element is a tag object."
      ],
      "metadata": {
        "id": "9R_1nMX8BpyE"
      }
    },
    {
      "cell_type": "code",
      "source": [
        "table_bs.find_all('tr')[0]"
      ],
      "metadata": {
        "colab": {
          "base_uri": "https://localhost:8080/"
        },
        "id": "H4YFSOKaBk8y",
        "outputId": "ded4cc9f-3d4c-4b3f-88b2-b53b21c5097f"
      },
      "execution_count": 87,
      "outputs": [
        {
          "output_type": "execute_result",
          "data": {
            "text/plain": [
              "<tr><td id=\"flight\">Flight No</td><td>Launch site</td> <td>Payload mass</td></tr>"
            ]
          },
          "metadata": {},
          "execution_count": 87
        }
      ]
    },
    {
      "cell_type": "code",
      "source": [
        "type(table_bs.find_all('tr'))"
      ],
      "metadata": {
        "colab": {
          "base_uri": "https://localhost:8080/"
        },
        "id": "Jdj5HfYtB78f",
        "outputId": "5764b2f8-7b2b-45bd-9ad1-6fe8dc707411"
      },
      "execution_count": 88,
      "outputs": [
        {
          "output_type": "execute_result",
          "data": {
            "text/plain": [
              "bs4.element.ResultSet"
            ]
          },
          "metadata": {},
          "execution_count": 88
        }
      ]
    },
    {
      "cell_type": "code",
      "source": [
        "type(table_bs.find_all('tr')[0])"
      ],
      "metadata": {
        "colab": {
          "base_uri": "https://localhost:8080/"
        },
        "id": "M8BCJvpwBt45",
        "outputId": "29f32e8e-0c57-4edb-e972-091ca3a56cc1"
      },
      "execution_count": 89,
      "outputs": [
        {
          "output_type": "execute_result",
          "data": {
            "text/plain": [
              "bs4.element.Tag"
            ]
          },
          "metadata": {},
          "execution_count": 89
        }
      ]
    },
    {
      "cell_type": "markdown",
      "source": [
        "####Each row"
      ],
      "metadata": {
        "id": "eQyEEjW9C29S"
      }
    },
    {
      "cell_type": "code",
      "source": [
        "#Try iterate\n",
        "\n",
        "table_rows = table_bs.find_all('tr')\n",
        "for i,row in enumerate(table_rows):\n",
        "    print(\"row\",i,\"is\",row)"
      ],
      "metadata": {
        "colab": {
          "base_uri": "https://localhost:8080/"
        },
        "id": "JARq4rrGB0YM",
        "outputId": "a7a0e184-4dbf-4e75-b1bb-a24dd4412e1b"
      },
      "execution_count": 90,
      "outputs": [
        {
          "output_type": "stream",
          "name": "stdout",
          "text": [
            "row 0 is <tr><td id=\"flight\">Flight No</td><td>Launch site</td> <td>Payload mass</td></tr>\n",
            "row 1 is <tr> <td>1</td><td><a href=\"https://en.wikipedia.org/wiki/Florida\">Florida<a></a></a></td><td>300 kg</td></tr>\n",
            "row 2 is <tr><td>2</td><td><a href=\"https://en.wikipedia.org/wiki/Texas\">Texas</a></td><td>94 kg</td></tr>\n",
            "row 3 is <tr><td>3</td><td><a href=\"https://en.wikipedia.org/wiki/Florida\">Florida<a> </a></a></td><td>80 kg</td></tr>\n"
          ]
        }
      ]
    },
    {
      "cell_type": "markdown",
      "source": [
        "####Each row and each column's data"
      ],
      "metadata": {
        "id": "APN3dYOMC5oi"
      }
    },
    {
      "cell_type": "code",
      "source": [
        "trow = table_bs.find_all('tr')\n",
        "\n",
        "for i,row in enumerate(trow):\n",
        "    print(\"row\",i)\n",
        "    tdata=row.find_all('td')\n",
        "    for j,cell in enumerate(tdata):\n",
        "        print('colunm',j,\"cell\",cell)"
      ],
      "metadata": {
        "colab": {
          "base_uri": "https://localhost:8080/"
        },
        "id": "Awba2kgJCD1Q",
        "outputId": "e65747cd-e590-401d-f7b4-71336819f2a8"
      },
      "execution_count": 91,
      "outputs": [
        {
          "output_type": "stream",
          "name": "stdout",
          "text": [
            "row 0\n",
            "colunm 0 cell <td id=\"flight\">Flight No</td>\n",
            "colunm 1 cell <td>Launch site</td>\n",
            "colunm 2 cell <td>Payload mass</td>\n",
            "row 1\n",
            "colunm 0 cell <td>1</td>\n",
            "colunm 1 cell <td><a href=\"https://en.wikipedia.org/wiki/Florida\">Florida<a></a></a></td>\n",
            "colunm 2 cell <td>300 kg</td>\n",
            "row 2\n",
            "colunm 0 cell <td>2</td>\n",
            "colunm 1 cell <td><a href=\"https://en.wikipedia.org/wiki/Texas\">Texas</a></td>\n",
            "colunm 2 cell <td>94 kg</td>\n",
            "row 3\n",
            "colunm 0 cell <td>3</td>\n",
            "colunm 1 cell <td><a href=\"https://en.wikipedia.org/wiki/Florida\">Florida<a> </a></a></td>\n",
            "colunm 2 cell <td>80 kg</td>\n"
          ]
        }
      ]
    },
    {
      "cell_type": "markdown",
      "source": [
        "Match against any item in that list:"
      ],
      "metadata": {
        "id": "2Beg-4bwD6wS"
      }
    },
    {
      "cell_type": "code",
      "source": [
        "list_input=table_bs .find_all(name=[\"tr\", \"td\"])\n",
        "list_input"
      ],
      "metadata": {
        "colab": {
          "base_uri": "https://localhost:8080/"
        },
        "id": "4--oy2-9DHvK",
        "outputId": "c39f1a27-ac64-49bb-bf54-8d870a88c5a6"
      },
      "execution_count": 92,
      "outputs": [
        {
          "output_type": "execute_result",
          "data": {
            "text/plain": [
              "[<tr><td id=\"flight\">Flight No</td><td>Launch site</td> <td>Payload mass</td></tr>,\n",
              " <td id=\"flight\">Flight No</td>,\n",
              " <td>Launch site</td>,\n",
              " <td>Payload mass</td>,\n",
              " <tr> <td>1</td><td><a href=\"https://en.wikipedia.org/wiki/Florida\">Florida<a></a></a></td><td>300 kg</td></tr>,\n",
              " <td>1</td>,\n",
              " <td><a href=\"https://en.wikipedia.org/wiki/Florida\">Florida<a></a></a></td>,\n",
              " <td>300 kg</td>,\n",
              " <tr><td>2</td><td><a href=\"https://en.wikipedia.org/wiki/Texas\">Texas</a></td><td>94 kg</td></tr>,\n",
              " <td>2</td>,\n",
              " <td><a href=\"https://en.wikipedia.org/wiki/Texas\">Texas</a></td>,\n",
              " <td>94 kg</td>,\n",
              " <tr><td>3</td><td><a href=\"https://en.wikipedia.org/wiki/Florida\">Florida<a> </a></a></td><td>80 kg</td></tr>,\n",
              " <td>3</td>,\n",
              " <td><a href=\"https://en.wikipedia.org/wiki/Florida\">Florida<a> </a></a></td>,\n",
              " <td>80 kg</td>]"
            ]
          },
          "metadata": {},
          "execution_count": 92
        }
      ]
    },
    {
      "cell_type": "markdown",
      "source": [
        "##Attributes"
      ],
      "metadata": {
        "id": "OPs3P5GiEDgr"
      }
    },
    {
      "cell_type": "markdown",
      "source": [
        "filter based on that id value:"
      ],
      "metadata": {
        "id": "Ue5eCe4AERZn"
      }
    },
    {
      "cell_type": "code",
      "source": [
        "table_bs.find_all(id=\"flight\")"
      ],
      "metadata": {
        "colab": {
          "base_uri": "https://localhost:8080/"
        },
        "id": "kF808jyhD8dO",
        "outputId": "16fb8f76-dc3c-450d-c71a-9419046d807d"
      },
      "execution_count": 93,
      "outputs": [
        {
          "output_type": "execute_result",
          "data": {
            "text/plain": [
              "[<td id=\"flight\">Flight No</td>]"
            ]
          },
          "metadata": {},
          "execution_count": 93
        }
      ]
    },
    {
      "cell_type": "markdown",
      "source": [
        "find all the elements that have links to the Florida Wikipedia page:"
      ],
      "metadata": {
        "id": "FEugeEyZEXyL"
      }
    },
    {
      "cell_type": "code",
      "source": [
        "table_bs.find_all(href=\"https://en.wikipedia.org/wiki/Florida\")"
      ],
      "metadata": {
        "colab": {
          "base_uri": "https://localhost:8080/"
        },
        "id": "L5KioUBTETu7",
        "outputId": "c729e485-39f4-4b1a-84f4-2a7565d6fa13"
      },
      "execution_count": 94,
      "outputs": [
        {
          "output_type": "execute_result",
          "data": {
            "text/plain": [
              "[<a href=\"https://en.wikipedia.org/wiki/Florida\">Florida<a></a></a>,\n",
              " <a href=\"https://en.wikipedia.org/wiki/Florida\">Florida<a> </a></a>]"
            ]
          },
          "metadata": {},
          "execution_count": 94
        }
      ]
    },
    {
      "cell_type": "markdown",
      "source": [
        "finds all tags with href value:"
      ],
      "metadata": {
        "id": "gE3hdt2UEeiM"
      }
    },
    {
      "cell_type": "code",
      "source": [
        "table_bs.find_all(href=True)"
      ],
      "metadata": {
        "colab": {
          "base_uri": "https://localhost:8080/"
        },
        "id": "c9Rg2JUREa8x",
        "outputId": "9e5a2083-ae9d-4b59-fa33-5c34688decf3"
      },
      "execution_count": 95,
      "outputs": [
        {
          "output_type": "execute_result",
          "data": {
            "text/plain": [
              "[<a href=\"https://en.wikipedia.org/wiki/Florida\">Florida<a></a></a>,\n",
              " <a href=\"https://en.wikipedia.org/wiki/Texas\">Texas</a>,\n",
              " <a href=\"https://en.wikipedia.org/wiki/Florida\">Florida<a> </a></a>]"
            ]
          },
          "metadata": {},
          "execution_count": 95
        }
      ]
    },
    {
      "cell_type": "markdown",
      "source": [
        "#Exercise"
      ],
      "metadata": {
        "id": "xuC6q3MYEjA3"
      }
    },
    {
      "cell_type": "markdown",
      "source": [
        "Find all the `<a>` tags without href value:"
      ],
      "metadata": {
        "id": "M0in2C1SEmo9"
      }
    },
    {
      "cell_type": "code",
      "source": [
        "table_bs.find_all(lambda tag: tag.name == \"a\" and not tag.has_attr(\"href\"))"
      ],
      "metadata": {
        "colab": {
          "base_uri": "https://localhost:8080/"
        },
        "id": "OXgOROIWEgxg",
        "outputId": "f332f1f1-f377-4db2-8aaf-f38cd0ec3a8d"
      },
      "execution_count": 96,
      "outputs": [
        {
          "output_type": "execute_result",
          "data": {
            "text/plain": [
              "[<a></a>, <a> </a>]"
            ]
          },
          "metadata": {},
          "execution_count": 96
        }
      ]
    },
    {
      "cell_type": "markdown",
      "source": [
        "Find all the elements that do not contain any links:"
      ],
      "metadata": {
        "id": "ZbQWSNu5E-hw"
      }
    },
    {
      "cell_type": "code",
      "source": [
        "table_bs.find_all(lambda tag: tag.name != \"a\" and not tag.find('a'))"
      ],
      "metadata": {
        "colab": {
          "base_uri": "https://localhost:8080/"
        },
        "id": "HO9ikd64E7dY",
        "outputId": "635202ed-0083-44e7-de7b-9d48bec2f445"
      },
      "execution_count": 97,
      "outputs": [
        {
          "output_type": "execute_result",
          "data": {
            "text/plain": [
              "[<tr><td id=\"flight\">Flight No</td><td>Launch site</td> <td>Payload mass</td></tr>,\n",
              " <td id=\"flight\">Flight No</td>,\n",
              " <td>Launch site</td>,\n",
              " <td>Payload mass</td>,\n",
              " <td>1</td>,\n",
              " <td>300 kg</td>,\n",
              " <td>2</td>,\n",
              " <td>94 kg</td>,\n",
              " <td>3</td>,\n",
              " <td>80 kg</td>]"
            ]
          },
          "metadata": {},
          "execution_count": 97
        }
      ]
    },
    {
      "cell_type": "markdown",
      "source": [
        "Using soup, find the element with the id attribute content set to \"boldest\":"
      ],
      "metadata": {
        "id": "0DFaUCKKFFKN"
      }
    },
    {
      "cell_type": "code",
      "source": [
        "soup.find_all(id=\"boldest\")"
      ],
      "metadata": {
        "colab": {
          "base_uri": "https://localhost:8080/"
        },
        "id": "Y-SV15pJFBoj",
        "outputId": "1d83987d-5e22-474a-a241-7e168282f651"
      },
      "execution_count": 98,
      "outputs": [
        {
          "output_type": "execute_result",
          "data": {
            "text/plain": [
              "[<b id=\"boldest\">Lebron James</b>]"
            ]
          },
          "metadata": {},
          "execution_count": 98
        }
      ]
    },
    {
      "cell_type": "markdown",
      "source": [
        "###String"
      ],
      "metadata": {
        "id": "p7kJT0acFPiN"
      }
    },
    {
      "cell_type": "markdown",
      "source": [
        "Can search for strings instead of tags, where we find all the elments with Florida:"
      ],
      "metadata": {
        "id": "k0aLfDEnFUE1"
      }
    },
    {
      "cell_type": "code",
      "source": [
        "table_bs.find_all(string=\"Florida\")"
      ],
      "metadata": {
        "colab": {
          "base_uri": "https://localhost:8080/"
        },
        "id": "4jjojiqLFJ-x",
        "outputId": "5fe1861e-f0b8-4017-d79d-c124a63931f3"
      },
      "execution_count": 99,
      "outputs": [
        {
          "output_type": "execute_result",
          "data": {
            "text/plain": [
              "['Florida', 'Florida']"
            ]
          },
          "metadata": {},
          "execution_count": 99
        }
      ]
    },
    {
      "cell_type": "markdown",
      "source": [
        "#Downloading And Scraping The Contents Of A Web Page"
      ],
      "metadata": {
        "id": "TlWjIXDYFkgU"
      }
    },
    {
      "cell_type": "code",
      "source": [
        "#Download the contents of the web page:\n",
        "url = \"http://www.ibm.com\"\n",
        "\n",
        "#use `.get` to download the contents of the webpage in text format and store in a variable called data:\n",
        "data  = requests.get(url).text\n",
        "\n",
        "# create a soup object using the variable 'data'\n",
        "soup = BeautifulSoup(data,\"html.parser\")"
      ],
      "metadata": {
        "id": "WEkzg7r6FXMg"
      },
      "execution_count": 100,
      "outputs": []
    },
    {
      "cell_type": "markdown",
      "source": [
        "Scrape all links:"
      ],
      "metadata": {
        "id": "qeGTTmuBGEoS"
      }
    },
    {
      "cell_type": "code",
      "source": [
        "for link in soup.find_all('a',href=True):  # in html anchor/link is represented by the tag <a>\n",
        "\n",
        "    print(link.get('href'))"
      ],
      "metadata": {
        "colab": {
          "base_uri": "https://localhost:8080/"
        },
        "id": "O6tlkcQ6GD5T",
        "outputId": "44bab48f-483f-4294-c1b7-a8128e496d22"
      },
      "execution_count": 101,
      "outputs": [
        {
          "output_type": "stream",
          "name": "stdout",
          "text": [
            "https://www.ibm.com/think/insights/lets-create-smarter-business?lnk=hpls1us\n",
            "https://www.ibm.com/thought-leadership/institute-business-value/report/2025-coo?lnk=hpls2us\n",
            "https://www.ibm.com/case-studies?lnk=hprc1us\n",
            "https://www.ibm.com/solutions/hybrid-cloud?lnk=hprc2us\n",
            "https://www.ibm.com/campaign/gen-ai-for-business?lnk=hprc3us\n",
            "https://www.ibm.com/new/announcements/ibm-named-a-leader-in-the-forrester-wave-integration-platform-as-a-service?lnk=hprc4us\n",
            "https://www.ibm.com/community/ibm-techxchange-conference/?lnk=hpdev1us\n",
            "https://github.com/ibm-granite-community/granite-snack-cookbook?lnk=hpdev2us\n",
            "https://developer.ibm.com/technologies/artificial-intelligence/?lnk=hpdev3us\n",
            "https://www.ibm.com/account/reg/signup?formid=urx-51898&lnk=hpdev4us\n",
            "https://www.ibm.com/new/announcements/openai-s-open-source-models-available-on-ibm-watsonx-ai?lnk=hpdev5us\n",
            "https://research.ibm.com/blog/granite-vision-ocr-leaderboard?lnk=hpdev6us\n",
            "https://www.ibm.com/new/announcements/governing-ai-with-confidence-our-journey-with-watsonx-governance?lnk=hpdev7us\n",
            "https://www.ibm.com/products/watsonx-code-assistant/pricing?lnk=hpdev8us\n",
            "https://www.ibm.com/products/offers-and-discounts?lnk=hpdo1us\n",
            "https://www.ibm.com/software?lnk=hpfp1us\n",
            "https://www.ibm.com/solutions/ai-agents?lnk=hpfp2us\n",
            "https://www.ibm.com/solutions/data-and-ai?lnk=hpfp3us\n",
            "https://www.ibm.com/solutions/automation?lnk=hpfp4us\n",
            "https://www.ibm.com/solutions/hybrid-cloud?lnk=hpfp5us\n",
            "https://www.ibm.com/solutions/ai-models?lnk=hpfp6us\n",
            "https://www.ibm.com/solutions/analytics?lnk=hpfp7us\n",
            "https://www.ibm.com/solutions/security?lnk=hpfp8us\n",
            "https://www.ibm.com/consulting?lnk=hpfp9us\n",
            "https://www.ibm.com/about?lnk=hpii1us\n",
            "https://www.ibm.com/history?lnk=hpii1us\n",
            "https://research.ibm.com?lnk=hpii1us\n",
            "https://www.ibm.com/quantum?lnk=hpii1us\n",
            "https://www.ibm.com/careers?lnk=hpii1us\n",
            "https://skillsbuild.org?lnk=hpii1us\n"
          ]
        }
      ]
    },
    {
      "cell_type": "code",
      "source": [],
      "metadata": {
        "id": "s4r8nirkGIj1"
      },
      "execution_count": 101,
      "outputs": []
    }
  ]
}