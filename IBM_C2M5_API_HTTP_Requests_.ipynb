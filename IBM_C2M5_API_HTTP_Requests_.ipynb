{
  "nbformat": 4,
  "nbformat_minor": 0,
  "metadata": {
    "colab": {
      "provenance": []
    },
    "kernelspec": {
      "name": "python3",
      "display_name": "Python 3"
    },
    "language_info": {
      "name": "python"
    }
  },
  "cells": [
    {
      "cell_type": "markdown",
      "source": [
        "Pandas is an API"
      ],
      "metadata": {
        "id": "0AvcJuX81Bv5"
      }
    },
    {
      "cell_type": "markdown",
      "source": [
        "<img src=\"https://cf-courses-data.s3.us.cloud-object-storage.appdomain.cloud/IBMDeveloperSkillsNetwork-PY0101EN-SkillsNetwork/labs/Module%205/images/pandas_api.png\" width=\"800,\" align=\"center\" alt=\"logistic regression block diagram\">\n"
      ],
      "metadata": {
        "id": "cuk355Zc1Dg0"
      }
    },
    {
      "cell_type": "markdown",
      "source": [
        "Rest APIs function by sending a request, the request is communicated via HTTP message. The HTTP message usually contains a JSON file."
      ],
      "metadata": {
        "id": "WimjAgQw1NMy"
      }
    },
    {
      "cell_type": "markdown",
      "source": [
        "The information can be stored locally in the API."
      ],
      "metadata": {
        "id": "yP4tGbp51eV3"
      }
    },
    {
      "cell_type": "markdown",
      "source": [
        "Below is example of download the dataframe from the API call for Golden State and run the rest like a video."
      ],
      "metadata": {
        "id": "Z5iiuzq81xzf"
      }
    },
    {
      "cell_type": "code",
      "source": [
        "import pandas as pd\n",
        "import matplotlib.pyplot as plt"
      ],
      "metadata": {
        "id": "TBEQ-qXK2A6p"
      },
      "execution_count": 56,
      "outputs": []
    },
    {
      "cell_type": "code",
      "execution_count": 57,
      "metadata": {
        "id": "metVduuR0q2_"
      },
      "outputs": [],
      "source": [
        "import requests\n",
        "\n",
        "filename = \"https://s3-api.us-geo.objectstorage.softlayer.net/cf-courses-data/CognitiveClass/PY0101EN/Chapter%205/Labs/Golden_State.pkl\"\n",
        "\n",
        "def download(url, filename):\n",
        "    response = requests.get(url)\n",
        "    if response.status_code == 200:\n",
        "        with open(filename, \"wb\") as f:\n",
        "            f.write(response.content)\n",
        "\n",
        "download(filename, \"Golden_State.pkl\")"
      ]
    },
    {
      "cell_type": "code",
      "source": [
        "file_name = \"Golden_State.pkl\"\n",
        "games = pd.read_pickle(file_name)\n",
        "games.head()"
      ],
      "metadata": {
        "colab": {
          "base_uri": "https://localhost:8080/",
          "height": 235
        },
        "id": "7cZV3wpO16F2",
        "outputId": "df753aeb-2536-426a-f93d-f1ede99fc243"
      },
      "execution_count": 58,
      "outputs": [
        {
          "output_type": "execute_result",
          "data": {
            "text/plain": [
              "  SEASON_ID     TEAM_ID TEAM_ABBREVIATION              TEAM_NAME     GAME_ID  \\\n",
              "0     22019  1610612744               GSW  Golden State Warriors  1521900066   \n",
              "1     22019  1610612744               GSW  Golden State Warriors  1521900058   \n",
              "2     22019  1610612744               GSW  Golden State Warriors  1521900039   \n",
              "3     22019  1610612744               GSW  Golden State Warriors  1521900020   \n",
              "4     22019  1610612744               GSW  Golden State Warriors  1521900007   \n",
              "\n",
              "    GAME_DATE      MATCHUP WL  MIN  PTS  ...  FT_PCT  OREB  DREB   REB  AST  \\\n",
              "0  2019-07-12  GSW vs. LAL  L  200   87  ...   0.800  13.0  29.0  42.0   13   \n",
              "1  2019-07-10    GSW @ DEN  W  201   73  ...   0.867   7.0  27.0  34.0   10   \n",
              "2  2019-07-08    GSW @ LAL  W  200   88  ...   0.621   8.0  29.0  37.0   21   \n",
              "3  2019-07-07  GSW vs. TOR  W  201   80  ...   0.923   6.0  37.0  43.0   18   \n",
              "4  2019-07-05  GSW vs. CHA  L  200   85  ...   0.889   8.0  28.0  36.0   19   \n",
              "\n",
              "    STL  BLK   TOV  PF  PLUS_MINUS  \n",
              "0  10.0    3  11.0  21         3.2  \n",
              "1  11.0    7  20.0  20        -8.0  \n",
              "2  10.0    4  13.0  22         8.0  \n",
              "3   8.0    3  20.0  25        10.0  \n",
              "4   9.0    3  13.0  15        -8.0  \n",
              "\n",
              "[5 rows x 28 columns]"
            ],
            "text/html": [
              "<div>\n",
              "<style scoped>\n",
              "    .dataframe tbody tr th:only-of-type {\n",
              "        vertical-align: middle;\n",
              "    }\n",
              "\n",
              "    .dataframe tbody tr th {\n",
              "        vertical-align: top;\n",
              "    }\n",
              "\n",
              "    .dataframe thead th {\n",
              "        text-align: right;\n",
              "    }\n",
              "</style>\n",
              "<table border=\"1\" class=\"dataframe\">\n",
              "  <thead>\n",
              "    <tr style=\"text-align: right;\">\n",
              "      <th></th>\n",
              "      <th>SEASON_ID</th>\n",
              "      <th>TEAM_ID</th>\n",
              "      <th>TEAM_ABBREVIATION</th>\n",
              "      <th>TEAM_NAME</th>\n",
              "      <th>GAME_ID</th>\n",
              "      <th>GAME_DATE</th>\n",
              "      <th>MATCHUP</th>\n",
              "      <th>WL</th>\n",
              "      <th>MIN</th>\n",
              "      <th>PTS</th>\n",
              "      <th>...</th>\n",
              "      <th>FT_PCT</th>\n",
              "      <th>OREB</th>\n",
              "      <th>DREB</th>\n",
              "      <th>REB</th>\n",
              "      <th>AST</th>\n",
              "      <th>STL</th>\n",
              "      <th>BLK</th>\n",
              "      <th>TOV</th>\n",
              "      <th>PF</th>\n",
              "      <th>PLUS_MINUS</th>\n",
              "    </tr>\n",
              "  </thead>\n",
              "  <tbody>\n",
              "    <tr>\n",
              "      <th>0</th>\n",
              "      <td>22019</td>\n",
              "      <td>1610612744</td>\n",
              "      <td>GSW</td>\n",
              "      <td>Golden State Warriors</td>\n",
              "      <td>1521900066</td>\n",
              "      <td>2019-07-12</td>\n",
              "      <td>GSW vs. LAL</td>\n",
              "      <td>L</td>\n",
              "      <td>200</td>\n",
              "      <td>87</td>\n",
              "      <td>...</td>\n",
              "      <td>0.800</td>\n",
              "      <td>13.0</td>\n",
              "      <td>29.0</td>\n",
              "      <td>42.0</td>\n",
              "      <td>13</td>\n",
              "      <td>10.0</td>\n",
              "      <td>3</td>\n",
              "      <td>11.0</td>\n",
              "      <td>21</td>\n",
              "      <td>3.2</td>\n",
              "    </tr>\n",
              "    <tr>\n",
              "      <th>1</th>\n",
              "      <td>22019</td>\n",
              "      <td>1610612744</td>\n",
              "      <td>GSW</td>\n",
              "      <td>Golden State Warriors</td>\n",
              "      <td>1521900058</td>\n",
              "      <td>2019-07-10</td>\n",
              "      <td>GSW @ DEN</td>\n",
              "      <td>W</td>\n",
              "      <td>201</td>\n",
              "      <td>73</td>\n",
              "      <td>...</td>\n",
              "      <td>0.867</td>\n",
              "      <td>7.0</td>\n",
              "      <td>27.0</td>\n",
              "      <td>34.0</td>\n",
              "      <td>10</td>\n",
              "      <td>11.0</td>\n",
              "      <td>7</td>\n",
              "      <td>20.0</td>\n",
              "      <td>20</td>\n",
              "      <td>-8.0</td>\n",
              "    </tr>\n",
              "    <tr>\n",
              "      <th>2</th>\n",
              "      <td>22019</td>\n",
              "      <td>1610612744</td>\n",
              "      <td>GSW</td>\n",
              "      <td>Golden State Warriors</td>\n",
              "      <td>1521900039</td>\n",
              "      <td>2019-07-08</td>\n",
              "      <td>GSW @ LAL</td>\n",
              "      <td>W</td>\n",
              "      <td>200</td>\n",
              "      <td>88</td>\n",
              "      <td>...</td>\n",
              "      <td>0.621</td>\n",
              "      <td>8.0</td>\n",
              "      <td>29.0</td>\n",
              "      <td>37.0</td>\n",
              "      <td>21</td>\n",
              "      <td>10.0</td>\n",
              "      <td>4</td>\n",
              "      <td>13.0</td>\n",
              "      <td>22</td>\n",
              "      <td>8.0</td>\n",
              "    </tr>\n",
              "    <tr>\n",
              "      <th>3</th>\n",
              "      <td>22019</td>\n",
              "      <td>1610612744</td>\n",
              "      <td>GSW</td>\n",
              "      <td>Golden State Warriors</td>\n",
              "      <td>1521900020</td>\n",
              "      <td>2019-07-07</td>\n",
              "      <td>GSW vs. TOR</td>\n",
              "      <td>W</td>\n",
              "      <td>201</td>\n",
              "      <td>80</td>\n",
              "      <td>...</td>\n",
              "      <td>0.923</td>\n",
              "      <td>6.0</td>\n",
              "      <td>37.0</td>\n",
              "      <td>43.0</td>\n",
              "      <td>18</td>\n",
              "      <td>8.0</td>\n",
              "      <td>3</td>\n",
              "      <td>20.0</td>\n",
              "      <td>25</td>\n",
              "      <td>10.0</td>\n",
              "    </tr>\n",
              "    <tr>\n",
              "      <th>4</th>\n",
              "      <td>22019</td>\n",
              "      <td>1610612744</td>\n",
              "      <td>GSW</td>\n",
              "      <td>Golden State Warriors</td>\n",
              "      <td>1521900007</td>\n",
              "      <td>2019-07-05</td>\n",
              "      <td>GSW vs. CHA</td>\n",
              "      <td>L</td>\n",
              "      <td>200</td>\n",
              "      <td>85</td>\n",
              "      <td>...</td>\n",
              "      <td>0.889</td>\n",
              "      <td>8.0</td>\n",
              "      <td>28.0</td>\n",
              "      <td>36.0</td>\n",
              "      <td>19</td>\n",
              "      <td>9.0</td>\n",
              "      <td>3</td>\n",
              "      <td>13.0</td>\n",
              "      <td>15</td>\n",
              "      <td>-8.0</td>\n",
              "    </tr>\n",
              "  </tbody>\n",
              "</table>\n",
              "<p>5 rows × 28 columns</p>\n",
              "</div>"
            ]
          },
          "metadata": {},
          "execution_count": 58
        }
      ]
    },
    {
      "cell_type": "code",
      "source": [
        "games_home=games[games['MATCHUP']=='GSW vs. TOR']\n",
        "games_away=games[games['MATCHUP']=='GSW @ TOR']"
      ],
      "metadata": {
        "id": "u6mL1NA21-ll"
      },
      "execution_count": 59,
      "outputs": []
    },
    {
      "cell_type": "code",
      "source": [
        "fig, ax = plt.subplots()\n",
        "\n",
        "games_away.plot(x='GAME_DATE',y='PLUS_MINUS', ax=ax)\n",
        "games_home.plot(x='GAME_DATE',y='PLUS_MINUS', ax=ax)\n",
        "ax.legend([\"away\", \"home\"])\n",
        "plt.show()"
      ],
      "metadata": {
        "colab": {
          "base_uri": "https://localhost:8080/",
          "height": 449
        },
        "id": "JT5Rz8xX7KAE",
        "outputId": "7c19da0d-89e3-4f5a-856a-2ae292766e89"
      },
      "execution_count": 60,
      "outputs": [
        {
          "output_type": "display_data",
          "data": {
            "text/plain": [
              "<Figure size 640x480 with 1 Axes>"
            ],
            "image/png": "[encoded data removed]"
          },
          "metadata": {}
        }
      ]
    },
    {
      "cell_type": "markdown",
      "source": [
        "#HTTP and Requests"
      ],
      "metadata": {
        "id": "fJ6kQZwoEGda"
      }
    },
    {
      "cell_type": "markdown",
      "source": [
        "<div class=\"alert alert-block alert-info\" style=\"margin-top: 20px\">\n",
        "         <img src=\"https://cf-courses-data.s3.us.cloud-object-storage.appdomain.cloud/IBMDeveloperSkillsNetwork-PY0101EN-SkillsNetwork/labs/Module%205/images/reqest_basics.png\" width=\"750\" align=\"center\">\n",
        "\n",
        "</div>\n"
      ],
      "metadata": {
        "id": "JkoKR0UeE5ly"
      }
    },
    {
      "cell_type": "markdown",
      "source": [
        "##URL"
      ],
      "metadata": {
        "id": "BjxxcdeRE-hN"
      }
    },
    {
      "cell_type": "markdown",
      "source": [
        "URL into three parts.\n",
        "\n",
        "<ul>\n",
        "    <li><b>Scheme</b>:- This is this protocol, for this lab it will always be <code>http://</code>  </li>\n",
        "    <li><b> Internet address or  Base URL </b>:- This will be used to find the location here are some examples: <code>www.ibm.com</code> and  <code> www.gitlab.com </code> </li>\n",
        "    <li><b>Route</b>:- Location on the web server for example: <code>/images/IDSNlogo.png</code> </li>\n",
        "</ul>\n"
      ],
      "metadata": {
        "id": "tUG9eNbgE_tO"
      }
    },
    {
      "cell_type": "markdown",
      "source": [
        "##Requests"
      ],
      "metadata": {
        "id": "J93BF-IcFMtB"
      }
    },
    {
      "cell_type": "markdown",
      "source": [
        "<div class=\"alert alert-block alert-info\" style=\"margin-top: 20px\">\n",
        "         <img src=\"https://cf-courses-data.s3.us.cloud-object-storage.appdomain.cloud/IBMDeveloperSkillsNetwork-PY0101EN-SkillsNetwork/labs/Module%205/images/reqest_messege.png\" width=\"400\" align=\"center\">\n",
        "</div>\n"
      ],
      "metadata": {
        "id": "NQvsjVjbFT7a"
      }
    },
    {
      "cell_type": "markdown",
      "source": [
        "<div class=\"alert alert-block alert-info\" style=\"margin-top: 20px\">\n",
        "         <img src=\"https://cf-courses-data.s3.us.cloud-object-storage.appdomain.cloud/IBMDeveloperSkillsNetwork-PY0101EN-SkillsNetwork/labs/Module%205/images/http_methods.png\" width=\"400\" align=\"center\">\n",
        "</div>\n"
      ],
      "metadata": {
        "id": "SJ7B1FG7FVEq"
      }
    },
    {
      "cell_type": "markdown",
      "source": [
        "##Response"
      ],
      "metadata": {
        "id": "jZt4TNy4Fjs3"
      }
    },
    {
      "cell_type": "markdown",
      "source": [
        "###Status Code"
      ],
      "metadata": {
        "id": "VkEqx6yuFaen"
      }
    },
    {
      "cell_type": "markdown",
      "source": [
        "<div class=\"alert alert-block alert-info\" style=\"margin-top: 20px\">\n",
        "         <img src=\"https://cf-courses-data.s3.us.cloud-object-storage.appdomain.cloud/IBMDeveloperSkillsNetwork-PY0101EN-SkillsNetwork/labs/Module%205/images/status_code.png\" width=\"300\" align=\"center\">\n",
        "</div>\n"
      ],
      "metadata": {
        "id": "6iD0c6sjFdhi"
      }
    },
    {
      "cell_type": "markdown",
      "source": [
        "##Requests in Python"
      ],
      "metadata": {
        "id": "ymqC0H9EFzCn"
      }
    },
    {
      "cell_type": "markdown",
      "source": [
        "Requests is a Python Library that allows you to send HTTP/1.1 requests easily."
      ],
      "metadata": {
        "id": "SwF2EajgGGWA"
      }
    },
    {
      "cell_type": "code",
      "source": [
        "import requests"
      ],
      "metadata": {
        "id": "9wXTfTU87M2Z"
      },
      "execution_count": 61,
      "outputs": []
    },
    {
      "cell_type": "code",
      "source": [
        "import os             #(Operating System) module\n",
        "from PIL import Image #Python Imaging Library (now known as Pillow) #Image is a core class in PIL for opening, manipulating, and saving image files\n",
        "from IPython.display import IFrame  #enhanced interactive Python shell  #display utility for showing embedded content in Jupyter notebooks, for Display a webpage"
      ],
      "metadata": {
        "id": "jQKu0LJMGJG9"
      },
      "execution_count": 62,
      "outputs": []
    },
    {
      "cell_type": "code",
      "source": [
        "url='https://www.ibm.com/'\n",
        "r=requests.get(url)"
      ],
      "metadata": {
        "id": "FVF_SIUrGMcw"
      },
      "execution_count": 63,
      "outputs": []
    },
    {
      "cell_type": "code",
      "source": [
        "r.status_code"
      ],
      "metadata": {
        "colab": {
          "base_uri": "https://localhost:8080/"
        },
        "id": "OgC7oc0ZGvON",
        "outputId": "037c4294-671c-4c09-bf23-8c3978359202"
      },
      "execution_count": 64,
      "outputs": [
        {
          "output_type": "execute_result",
          "data": {
            "text/plain": [
              "200"
            ]
          },
          "metadata": {},
          "execution_count": 64
        }
      ]
    },
    {
      "cell_type": "markdown",
      "source": [
        "View request headers."
      ],
      "metadata": {
        "id": "Umc2EvbhG0h5"
      }
    },
    {
      "cell_type": "code",
      "source": [
        "print(r.request.headers)"
      ],
      "metadata": {
        "colab": {
          "base_uri": "https://localhost:8080/"
        },
        "id": "iFmlNPDbGxpM",
        "outputId": "612abb1a-9067-4524-abd2-2a039be78595"
      },
      "execution_count": 65,
      "outputs": [
        {
          "output_type": "stream",
          "name": "stdout",
          "text": [
            "{'User-Agent': 'python-requests/2.32.3', 'Accept-Encoding': 'gzip, deflate, br, zstd', 'Accept': '*/*', 'Connection': 'keep-alive', 'Cookie': '_abck=638F7E41D1B56A379540AA5227D480DB~-1~YAAQXZ42Fw9JLfOYAQAAiC41MQ5CWezrkK5mElj6PSQpHFaOK0oDDv0Y0vUi4LbGkGFa47n7jP4+icrfzqsigTmZO1pq65Ax63pB9O5Kq6zKUFPrpPbDhodPgfwkRUxK68uCUezXlWpKZIJrPsmt/4h5TBo5mhjDfag3VqnP2QsZhEHhO4ma4v42MkbNf4hsq4SOeA4Cm1umoDtlOKbNSaTNJCjhw6bd0HfynLut8TympdlJorUHh+D1dAluyGPnJZi6sBFqpBJBz+2WmAlG9QNNpw6AAg2GWMXvd6nikJVe1CnUY8gyCDUUTLDfbz127sBl4+h+NcxXPt3P2sM+Ju3+Jljr0dCOlesA0N2/RGvfNLwOK99hgN83GG4R+o0EdP3P1uGArbH+RmJQL85Gi7I1G7opmzwfgAfwEVzH3XAH7mjGR4o+d6L93qo/TYp5mnY=~-1~-1~-1~-1~-1; bm_sz=5910676B7AC80DD3FD041207D31E3D50~YAAQXZ42FxBJLfOYAQAAiC41MR1cvx+yBR6ouliSLdkRNUlqSw9gMwHC+yuPEdeQiQUGzYe3AycbIusy9Gx8ByRJOkwrrZb7jT1FbQYKtGtDXi4eQegXyCipDojzUqw4iFSqJm8m+WNOG6zjvv0iynEUGNLwnr+kWPNxNee9DwOZPTVMoyvy7uyjYXhSQWVHHYifEjJwRLF9PC1A7mSSpVA5mvPTNvMUaMW/dcCnwXUrEwSupS5iprEb7tf5OzeYx1acB1EkZp4rljGxsgXxuNRrdVrRCt4B0FhpXgXRj/I2HkiBjxmkiueOw1lMHLQWgHzOXtDPTfAWQXjEbg5uG7oxTgk60RuwMVmTsQ==~3687735~3422530'}\n"
          ]
        }
      ]
    },
    {
      "cell_type": "code",
      "source": [
        "print(\"request body:\", r.request.body)  #View request body"
      ],
      "metadata": {
        "colab": {
          "base_uri": "https://localhost:8080/"
        },
        "id": "HojS1bPaG5Y-",
        "outputId": "16514c59-8574-4d3d-bce0-98edf75026b2"
      },
      "execution_count": 66,
      "outputs": [
        {
          "output_type": "stream",
          "name": "stdout",
          "text": [
            "request body: None\n"
          ]
        }
      ]
    },
    {
      "cell_type": "code",
      "source": [
        "header=r.headers\n",
        "print(r.headers)"
      ],
      "metadata": {
        "colab": {
          "base_uri": "https://localhost:8080/"
        },
        "id": "qnXwwXiLHIZ6",
        "outputId": "eb8860ba-ff7c-4249-9938-9743180648c2"
      },
      "execution_count": 67,
      "outputs": [
        {
          "output_type": "stream",
          "name": "stdout",
          "text": [
            "{'Content-Security-Policy': 'upgrade-insecure-requests', 'x-frame-options': 'SAMEORIGIN', 'Last-Modified': 'Wed, 10 Sep 2025 01:02:00 GMT', 'ETag': 'W/\"2e6e0-63e67f7d31a02-gzip\"', 'Accept-Ranges': 'bytes', 'Content-Type': 'text/html;charset=utf-8', 'X-Content-Type-Options': 'nosniff', 'Cache-Control': 'max-age=600', 'Expires': 'Wed, 10 Sep 2025 01:29:53 GMT', 'X-Akamai-Transformed': '0 - 0 -', 'Content-Encoding': 'gzip', 'Date': 'Wed, 10 Sep 2025 01:19:53 GMT', 'Content-Length': '37146', 'Connection': 'keep-alive', 'Vary': 'Accept-Encoding', 'Strict-Transport-Security': 'max-age=31536000'}\n"
          ]
        }
      ]
    },
    {
      "cell_type": "code",
      "source": [
        "print(header['Date'])\n",
        "print(header['Content-Type'])"
      ],
      "metadata": {
        "colab": {
          "base_uri": "https://localhost:8080/"
        },
        "id": "mdItIwOKG_TM",
        "outputId": "794376c5-2180-4943-96ad-5cdb00cae4de"
      },
      "execution_count": 68,
      "outputs": [
        {
          "output_type": "stream",
          "name": "stdout",
          "text": [
            "Wed, 10 Sep 2025 01:19:53 GMT\n",
            "text/html;charset=utf-8\n"
          ]
        }
      ]
    },
    {
      "cell_type": "code",
      "source": [
        " r.encoding #check encoding"
      ],
      "metadata": {
        "colab": {
          "base_uri": "https://localhost:8080/"
        },
        "id": "m8dA0SEgHDKw",
        "outputId": "4b8f50a5-663c-403a-ebf9-c165a7aae537"
      },
      "execution_count": 69,
      "outputs": [
        {
          "output_type": "execute_result",
          "data": {
            "text/plain": [
              "'utf-8'"
            ]
          },
          "metadata": {},
          "execution_count": 69
        }
      ]
    },
    {
      "cell_type": "code",
      "source": [
        "r.text[0:100] #Snippet of first 100 characters"
      ],
      "metadata": {
        "colab": {
          "base_uri": "https://localhost:8080/"
        },
        "id": "tvSQ36KbHSlv",
        "outputId": "6167c655-0f65-459e-87e5-829eae9aed97"
      },
      "execution_count": 70,
      "outputs": [
        {
          "output_type": "execute_result",
          "data": {
            "text/plain": [
              "'\\n<!DOCTYPE HTML>\\n<html lang=\"en\">\\n<head>\\r\\n    \\r\\n    \\r\\n    \\r\\n    \\r\\n    \\r\\n    \\r\\n    \\r\\n      \\r\\n    \\r\\n  '"
            ]
          },
          "metadata": {},
          "execution_count": 70
        }
      ]
    },
    {
      "cell_type": "code",
      "source": [
        "#make a get request\n",
        "r=requests.get(url)"
      ],
      "metadata": {
        "id": "RE7NuGfdHZDD"
      },
      "execution_count": 71,
      "outputs": []
    },
    {
      "cell_type": "code",
      "source": [
        "#see response header\n",
        "print(r.headers)"
      ],
      "metadata": {
        "colab": {
          "base_uri": "https://localhost:8080/"
        },
        "id": "UTpquw8ZHp6w",
        "outputId": "670df9a7-621f-48ad-bb29-e7cfcd50ab03"
      },
      "execution_count": 72,
      "outputs": [
        {
          "output_type": "stream",
          "name": "stdout",
          "text": [
            "{'Content-Security-Policy': 'upgrade-insecure-requests', 'x-frame-options': 'SAMEORIGIN', 'Last-Modified': 'Wed, 10 Sep 2025 01:02:00 GMT', 'ETag': 'W/\"2e6e0-63e67f7d31a02-gzip\"', 'Accept-Ranges': 'bytes', 'Content-Type': 'text/html;charset=utf-8', 'X-Content-Type-Options': 'nosniff', 'Cache-Control': 'max-age=600', 'Expires': 'Wed, 10 Sep 2025 01:29:53 GMT', 'X-Akamai-Transformed': '0 - 0 -', 'Content-Encoding': 'gzip', 'Date': 'Wed, 10 Sep 2025 01:19:53 GMT', 'Content-Length': '37146', 'Connection': 'keep-alive', 'Vary': 'Accept-Encoding', 'Strict-Transport-Security': 'max-age=31536000'}\n"
          ]
        }
      ]
    },
    {
      "cell_type": "code",
      "source": [
        "r.headers['Content-Type'] #One of the response header"
      ],
      "metadata": {
        "colab": {
          "base_uri": "https://localhost:8080/"
        },
        "id": "8K-4KdQ5HzYf",
        "outputId": "0f823032-19be-49ed-df3a-9935eadb5181"
      },
      "execution_count": 73,
      "outputs": [
        {
          "output_type": "execute_result",
          "data": {
            "text/plain": [
              "'text/html;charset=utf-8'"
            ]
          },
          "metadata": {},
          "execution_count": 73
        }
      ]
    },
    {
      "cell_type": "markdown",
      "source": [
        "An image is a response object that contains the image as a bytes-like object. So must save it using a file object. First, specify the file path and name."
      ],
      "metadata": {
        "id": "n28CCcfhIlGr"
      }
    },
    {
      "cell_type": "code",
      "source": [
        "path=os.path.join(os.getcwd(),'image.png')"
      ],
      "metadata": {
        "id": "z2l_ZwnbH7Hp"
      },
      "execution_count": 74,
      "outputs": []
    },
    {
      "cell_type": "markdown",
      "source": [
        "- os.getcwd() gets the current directory\n",
        "- os.path.join() creates a platform-independent file path"
      ],
      "metadata": {
        "id": "OvKSZYxjI-To"
      }
    },
    {
      "cell_type": "markdown",
      "source": [
        "- Windows uses backslash \\\n",
        "- macOS and Linux use forward slash /"
      ],
      "metadata": {
        "id": "0Zyvivf9Je3K"
      }
    },
    {
      "cell_type": "markdown",
      "source": [
        "Save the file, in order to access the body of the response, use the attribute content then save it using the open function and write method:"
      ],
      "metadata": {
        "id": "cltJ4FIOKB1l"
      }
    },
    {
      "cell_type": "code",
      "source": [
        "with open(path,'wb') as f:\n",
        "    f.write(r.content)"
      ],
      "metadata": {
        "id": "TrIc2LMfItCf"
      },
      "execution_count": 75,
      "outputs": []
    },
    {
      "cell_type": "code",
      "source": [
        "#view image\n",
        "Image.open(path)"
      ],
      "metadata": {
        "colab": {
          "base_uri": "https://localhost:8080/",
          "height": 548
        },
        "id": "wCQLmShwKLXM",
        "outputId": "8a8ed301-fd8b-44a5-defd-008e9b6a4a9e"
      },
      "execution_count": 77,
      "outputs": [
        {
          "output_type": "execute_result",
          "data": {
            "text/plain": [
              "<PIL.PngImagePlugin.PngImageFile image mode=RGBA size=1880x656>"
            ],
            "image/png": "[encoded data removed]"
          },
          "metadata": {},
          "execution_count": 77
        }
      ]
    },
    {
      "cell_type": "markdown",
      "source": [
        "###Get Request with URL Parameters"
      ],
      "metadata": {
        "id": "Z7StYDUdLt_3"
      }
    },
    {
      "cell_type": "markdown",
      "source": [
        "Base URL is for http://httpbin.org/"
      ],
      "metadata": {
        "id": "0PRwVy4oLzzK"
      }
    },
    {
      "cell_type": "markdown",
      "source": [
        "url_get='http://httpbin.org/get'"
      ],
      "metadata": {
        "id": "xkIB0boSL0j0"
      }
    },
    {
      "cell_type": "code",
      "source": [
        "url_get='http://httpbin.org/get'"
      ],
      "metadata": {
        "id": "ZrmOk80XNqHk"
      },
      "execution_count": 81,
      "outputs": []
    },
    {
      "cell_type": "markdown",
      "source": [
        "<div class=\"alert alert-block alert-info\" style=\"margin-top: 20px\">\n",
        "         <img src=\"https://cf-courses-data.s3.us.cloud-object-storage.appdomain.cloud/IBMDeveloperSkillsNetwork-PY0101EN-SkillsNetwork/labs/Module%205/images/query_string.png\" width=\"500\" align=\"center\">\n",
        "</div>\n"
      ],
      "metadata": {
        "id": "mVd6qNQRL6Bb"
      }
    },
    {
      "cell_type": "markdown",
      "source": [
        "Create a Query string, add a dictionary, keys are the parameter names, values are the value of the Query string"
      ],
      "metadata": {
        "id": "r2yuPZFIMqpU"
      }
    },
    {
      "cell_type": "code",
      "source": [
        "payload={\"name\":\"Joseph\",\"ID\":\"123\"}"
      ],
      "metadata": {
        "id": "wJtovfWxKRkX"
      },
      "execution_count": 82,
      "outputs": []
    },
    {
      "cell_type": "code",
      "source": [
        "#passing the dictionary payload to the params parameter of the  get() function:\n",
        "r=requests.get(url_get,params=payload)"
      ],
      "metadata": {
        "id": "3jT2LmNOM14T"
      },
      "execution_count": 83,
      "outputs": []
    },
    {
      "cell_type": "code",
      "source": [
        "#print out the URL and see the name and values\n",
        "r.url"
      ],
      "metadata": {
        "colab": {
          "base_uri": "https://localhost:8080/"
        },
        "id": "vQ4DacqSNCtF",
        "outputId": "84b32ead-ba44-469b-9c98-a1907a992bd8"
      },
      "execution_count": 84,
      "outputs": [
        {
          "output_type": "execute_result",
          "data": {
            "text/plain": [
              "'http://httpbin.org/get?name=Joseph&ID=123'"
            ]
          },
          "metadata": {},
          "execution_count": 84
        }
      ]
    },
    {
      "cell_type": "code",
      "source": [
        "r.request.body  #no request body"
      ],
      "metadata": {
        "id": "a9SwYOHvNnsg"
      },
      "execution_count": 86,
      "outputs": []
    },
    {
      "cell_type": "code",
      "source": [
        "r.status_code"
      ],
      "metadata": {
        "colab": {
          "base_uri": "https://localhost:8080/"
        },
        "id": "C1Xy3j6lNyqc",
        "outputId": "4def34df-a6d8-43e5-e20d-e920cff5f817"
      },
      "execution_count": 87,
      "outputs": [
        {
          "output_type": "execute_result",
          "data": {
            "text/plain": [
              "200"
            ]
          },
          "metadata": {},
          "execution_count": 87
        }
      ]
    },
    {
      "cell_type": "code",
      "source": [
        "r.text"
      ],
      "metadata": {
        "colab": {
          "base_uri": "https://localhost:8080/"
        },
        "id": "gQqPbP4APiEw",
        "outputId": "a2d89c07-d1e0-46a7-dd4d-ca8464b880ed"
      },
      "execution_count": 88,
      "outputs": [
        {
          "output_type": "execute_result",
          "data": {
            "text/plain": [
              "'{\\n  \"args\": {\\n    \"ID\": \"123\", \\n    \"name\": \"Joseph\"\\n  }, \\n  \"headers\": {\\n    \"Accept\": \"*/*\", \\n    \"Accept-Encoding\": \"gzip, deflate, br, zstd\", \\n    \"Host\": \"httpbin.org\", \\n    \"User-Agent\": \"python-requests/2.32.3\", \\n    \"X-Amzn-Trace-Id\": \"Root=1-68c0d2a3-376a11ff6bd532c4126037ef\"\\n  }, \\n  \"origin\": \"151.192.180.247\", \\n  \"url\": \"http://httpbin.org/get?name=Joseph&ID=123\"\\n}\\n'"
            ]
          },
          "metadata": {},
          "execution_count": 88
        }
      ]
    },
    {
      "cell_type": "code",
      "source": [
        "#check the content type\n",
        "r.headers['Content-Type']"
      ],
      "metadata": {
        "colab": {
          "base_uri": "https://localhost:8080/"
        },
        "id": "XPLzkgQ0PjyR",
        "outputId": "f6e01f87-e2a2-429f-e7d3-2412f487eaef"
      },
      "execution_count": 89,
      "outputs": [
        {
          "output_type": "execute_result",
          "data": {
            "text/plain": [
              "'application/json'"
            ]
          },
          "metadata": {},
          "execution_count": 89
        }
      ]
    },
    {
      "cell_type": "markdown",
      "source": [
        "Since is json type, we can use the method json(), it returns a Python dict."
      ],
      "metadata": {
        "id": "ntuoH4c5QlEq"
      }
    },
    {
      "cell_type": "code",
      "source": [
        "r.json()"
      ],
      "metadata": {
        "colab": {
          "base_uri": "https://localhost:8080/"
        },
        "id": "lYM24AymQkW-",
        "outputId": "68a056cb-0e27-44c5-c8a6-ac642230a4c2"
      },
      "execution_count": 90,
      "outputs": [
        {
          "output_type": "execute_result",
          "data": {
            "text/plain": [
              "{'args': {'ID': '123', 'name': 'Joseph'},\n",
              " 'headers': {'Accept': '*/*',\n",
              "  'Accept-Encoding': 'gzip, deflate, br, zstd',\n",
              "  'Host': 'httpbin.org',\n",
              "  'User-Agent': 'python-requests/2.32.3',\n",
              "  'X-Amzn-Trace-Id': 'Root=1-68c0d2a3-376a11ff6bd532c4126037ef'},\n",
              " 'origin': '151.192.180.247',\n",
              " 'url': 'http://httpbin.org/get?name=Joseph&ID=123'}"
            ]
          },
          "metadata": {},
          "execution_count": 90
        }
      ]
    },
    {
      "cell_type": "code",
      "source": [
        "r.json()['args']"
      ],
      "metadata": {
        "colab": {
          "base_uri": "https://localhost:8080/"
        },
        "id": "4qNJrd6AQvol",
        "outputId": "bdaa0090-04d4-4e99-bbe5-c851a4d86328"
      },
      "execution_count": 91,
      "outputs": [
        {
          "output_type": "execute_result",
          "data": {
            "text/plain": [
              "{'ID': '123', 'name': 'Joseph'}"
            ]
          },
          "metadata": {},
          "execution_count": 91
        }
      ]
    },
    {
      "cell_type": "markdown",
      "source": [
        "##Post Requests"
      ],
      "metadata": {
        "id": "UEGvAnMWQ5vo"
      }
    },
    {
      "cell_type": "code",
      "source": [
        "url_post='http://httpbin.org/post'"
      ],
      "metadata": {
        "id": "r37zdhbwQ0Tw"
      },
      "execution_count": 92,
      "outputs": []
    },
    {
      "cell_type": "code",
      "source": [
        "r_post=requests.post(url_post,data=payload)"
      ],
      "metadata": {
        "id": "1ttL7p38Rf9m"
      },
      "execution_count": 93,
      "outputs": []
    },
    {
      "cell_type": "code",
      "source": [
        "print(\"POST request URL:\", r_post.url)"
      ],
      "metadata": {
        "colab": {
          "base_uri": "https://localhost:8080/"
        },
        "id": "MwJBZ_g5RiED",
        "outputId": "eb004b19-153f-4ed0-de50-e0d8c819062e"
      },
      "execution_count": 94,
      "outputs": [
        {
          "output_type": "stream",
          "name": "stdout",
          "text": [
            "POST request URL: http://httpbin.org/post\n"
          ]
        }
      ]
    },
    {
      "cell_type": "code",
      "source": [
        "print(\"POST request body:\",r_post.request.body)\n",
        "print(\"GET request body:\",r.request.body)"
      ],
      "metadata": {
        "colab": {
          "base_uri": "https://localhost:8080/"
        },
        "id": "O9iRi5uBSHDI",
        "outputId": "97d83b3a-717a-4472-9286-c262f943a0ce"
      },
      "execution_count": 95,
      "outputs": [
        {
          "output_type": "stream",
          "name": "stdout",
          "text": [
            "POST request body: name=Joseph&ID=123\n",
            "GET request body: None\n"
          ]
        }
      ]
    },
    {
      "cell_type": "code",
      "source": [
        "r_post.json()['form']"
      ],
      "metadata": {
        "colab": {
          "base_uri": "https://localhost:8080/"
        },
        "id": "epoTOK-5Si_h",
        "outputId": "4f334243-b847-49b1-934e-a31c5744d055"
      },
      "execution_count": 96,
      "outputs": [
        {
          "output_type": "execute_result",
          "data": {
            "text/plain": [
              "{'ID': '123', 'name': 'Joseph'}"
            ]
          },
          "metadata": {},
          "execution_count": 96
        }
      ]
    },
    {
      "cell_type": "code",
      "source": [],
      "metadata": {
        "id": "xJJNm2SKSmrr"
      },
      "execution_count": null,
      "outputs": []
    }
  ]
}