{
  "nbformat": 4,
  "nbformat_minor": 0,
  "metadata": {
    "colab": {
      "provenance": []
    },
    "kernelspec": {
      "name": "python3",
      "display_name": "Python 3"
    },
    "language_info": {
      "name": "python"
    }
  },
  "cells": [
    {
      "cell_type": "code",
      "execution_count": 1,
      "metadata": {
        "id": "k0pG2KnxwM4h"
      },
      "outputs": [],
      "source": [
        "import sqlite3\n",
        "import pandas as pd\n",
        "conn = sqlite3.connect('STAFF.db')  #use SQLite3 to create and connect process to a new database STAFF"
      ]
    },
    {
      "cell_type": "markdown",
      "source": [
        "#Create and Load the table"
      ],
      "metadata": {
        "id": "qUTIG0bq1ITN"
      }
    },
    {
      "cell_type": "code",
      "source": [
        "table_name = 'INSTRUCTOR'\n",
        "attribute_list = ['ID', 'FNAME', 'LNAME', 'CITY', 'CCODE']"
      ],
      "metadata": {
        "id": "s_A-pyO01Cb7"
      },
      "execution_count": 2,
      "outputs": []
    },
    {
      "cell_type": "markdown",
      "source": [
        "#Read CSV file"
      ],
      "metadata": {
        "id": "FJshjWDB1WuP"
      }
    },
    {
      "cell_type": "code",
      "source": [
        "file_path = 'INSTRUCTOR.csv'\n",
        "df = pd.read_csv(file_path, names = attribute_list)"
      ],
      "metadata": {
        "id": "c2U2xhyV1JRh"
      },
      "execution_count": 5,
      "outputs": []
    },
    {
      "cell_type": "code",
      "source": [
        "df.head(2)"
      ],
      "metadata": {
        "colab": {
          "base_uri": "https://localhost:8080/",
          "height": 112
        },
        "id": "N0pIVk0d15f4",
        "outputId": "217a3a24-cedd-43b0-aa66-5f7fd8f451b9"
      },
      "execution_count": 7,
      "outputs": [
        {
          "output_type": "execute_result",
          "data": {
            "text/plain": [
              "   ID FNAME  LNAME     CITY CCODE\n",
              "0   1   Rav  Ahuja  TORONTO    CA\n",
              "1   2  Raul  Chong  Markham    CA"
            ],
            "text/html": [
              "<div>\n",
              "<style scoped>\n",
              "    .dataframe tbody tr th:only-of-type {\n",
              "        vertical-align: middle;\n",
              "    }\n",
              "\n",
              "    .dataframe tbody tr th {\n",
              "        vertical-align: top;\n",
              "    }\n",
              "\n",
              "    .dataframe thead th {\n",
              "        text-align: right;\n",
              "    }\n",
              "</style>\n",
              "<table border=\"1\" class=\"dataframe\">\n",
              "  <thead>\n",
              "    <tr style=\"text-align: right;\">\n",
              "      <th></th>\n",
              "      <th>ID</th>\n",
              "      <th>FNAME</th>\n",
              "      <th>LNAME</th>\n",
              "      <th>CITY</th>\n",
              "      <th>CCODE</th>\n",
              "    </tr>\n",
              "  </thead>\n",
              "  <tbody>\n",
              "    <tr>\n",
              "      <th>0</th>\n",
              "      <td>1</td>\n",
              "      <td>Rav</td>\n",
              "      <td>Ahuja</td>\n",
              "      <td>TORONTO</td>\n",
              "      <td>CA</td>\n",
              "    </tr>\n",
              "    <tr>\n",
              "      <th>1</th>\n",
              "      <td>2</td>\n",
              "      <td>Raul</td>\n",
              "      <td>Chong</td>\n",
              "      <td>Markham</td>\n",
              "      <td>CA</td>\n",
              "    </tr>\n",
              "  </tbody>\n",
              "</table>\n",
              "</div>"
            ]
          },
          "metadata": {},
          "execution_count": 7
        }
      ]
    },
    {
      "cell_type": "markdown",
      "source": [
        "#Loading the data to a table"
      ],
      "metadata": {
        "id": "DPIMkTuc1ysZ"
      }
    },
    {
      "cell_type": "code",
      "source": [
        "df.to_sql(table_name, conn, if_exists = 'replace', index =False)\n",
        "print('Table is ready')"
      ],
      "metadata": {
        "colab": {
          "base_uri": "https://localhost:8080/"
        },
        "id": "UZZ5utox1ZEf",
        "outputId": "b1d0ecb5-327c-4dda-b5e3-9e24035e7f44"
      },
      "execution_count": 6,
      "outputs": [
        {
          "output_type": "stream",
          "name": "stdout",
          "text": [
            "Table is ready\n"
          ]
        }
      ]
    },
    {
      "cell_type": "markdown",
      "source": [
        "#1. Viewing all the data in the table.\n"
      ],
      "metadata": {
        "id": "D7xLBTsu19Jc"
      }
    },
    {
      "cell_type": "code",
      "source": [
        "query_statement = f\"SELECT * FROM {table_name}\"\n",
        "query_output = pd.read_sql(query_statement, conn)\n",
        "print(query_statement)\n",
        "print(query_output)"
      ],
      "metadata": {
        "colab": {
          "base_uri": "https://localhost:8080/"
        },
        "id": "GKsTANqO10ck",
        "outputId": "39dbd066-c203-4e1a-9d55-0f5cb8af24d5"
      },
      "execution_count": 8,
      "outputs": [
        {
          "output_type": "stream",
          "name": "stdout",
          "text": [
            "SELECT * FROM INSTRUCTOR\n",
            "    ID    FNAME      LNAME      CITY CCODE\n",
            "0    1      Rav      Ahuja   TORONTO    CA\n",
            "1    2     Raul      Chong   Markham    CA\n",
            "2    3     Hima  Vasudevan   Chicago    US\n",
            "3    4     John     Thomas  Illinois    US\n",
            "4    5    Alice      James  Illinois    US\n",
            "5    6    Steve      Wells  Illinois    US\n",
            "6    7  Santosh      Kumar  Illinois    US\n",
            "7    8    Ahmed    Hussain  Illinois    US\n",
            "8    9    Nancy      Allen  Illinois    US\n",
            "9   10     Mary     Thomas  Illinois    US\n",
            "10  11  Bharath      Gupta  Illinois    US\n",
            "11  12   Andrea      Jones  Illinois    US\n",
            "12  13      Ann      Jacob  Illinois    US\n",
            "13  14     Amit      Kumar  NewDelhi    IN\n"
          ]
        }
      ]
    },
    {
      "cell_type": "markdown",
      "source": [
        "#2. Viewing only FNAME column of data."
      ],
      "metadata": {
        "id": "41adR9JH2CMy"
      }
    },
    {
      "cell_type": "code",
      "source": [
        "query_statement = f\"SELECT FNAME FROM {table_name}\"\n",
        "query_output = pd.read_sql(query_statement, conn)\n",
        "print(query_statement)\n",
        "print(query_output)"
      ],
      "metadata": {
        "colab": {
          "base_uri": "https://localhost:8080/"
        },
        "id": "0k9lfSDv1-z5",
        "outputId": "4f326c41-38e2-4bc4-84ab-de7f4b4b9577"
      },
      "execution_count": 9,
      "outputs": [
        {
          "output_type": "stream",
          "name": "stdout",
          "text": [
            "SELECT FNAME FROM INSTRUCTOR\n",
            "      FNAME\n",
            "0       Rav\n",
            "1      Raul\n",
            "2      Hima\n",
            "3      John\n",
            "4     Alice\n",
            "5     Steve\n",
            "6   Santosh\n",
            "7     Ahmed\n",
            "8     Nancy\n",
            "9      Mary\n",
            "10  Bharath\n",
            "11   Andrea\n",
            "12      Ann\n",
            "13     Amit\n"
          ]
        }
      ]
    },
    {
      "cell_type": "markdown",
      "source": [
        "#3. Viewing the total number of entries in the table."
      ],
      "metadata": {
        "id": "HXE7JMHG2LlI"
      }
    },
    {
      "cell_type": "code",
      "source": [
        "query_statement = f\"SELECT COUNT(*) FROM {table_name}\"\n",
        "query_output = pd.read_sql(query_statement, conn)\n",
        "print(query_statement)\n",
        "print(query_output)"
      ],
      "metadata": {
        "colab": {
          "base_uri": "https://localhost:8080/"
        },
        "id": "BHReJhnU2JN7",
        "outputId": "d4d2ef7d-e281-4c34-8490-1145d115ea4b"
      },
      "execution_count": 10,
      "outputs": [
        {
          "output_type": "stream",
          "name": "stdout",
          "text": [
            "SELECT COUNT(*) FROM INSTRUCTOR\n",
            "   COUNT(*)\n",
            "0        14\n"
          ]
        }
      ]
    },
    {
      "cell_type": "markdown",
      "source": [
        "#4. Append a new data"
      ],
      "metadata": {
        "id": "rFhOgxA-2UzB"
      }
    },
    {
      "cell_type": "code",
      "source": [
        "data_dict = {'ID' : [100],\n",
        "            'FNAME' : ['John'],\n",
        "            'LNAME' : ['Doe'],\n",
        "            'CITY' : ['Paris'],\n",
        "            'CCODE' : ['FR']}\n",
        "data_append = pd.DataFrame(data_dict)"
      ],
      "metadata": {
        "id": "BfS5WuCn2Oye"
      },
      "execution_count": 11,
      "outputs": []
    },
    {
      "cell_type": "code",
      "source": [
        "data_append.to_sql(table_name, conn, if_exists = 'append', index =False)\n",
        "print('Data appended successfully')"
      ],
      "metadata": {
        "colab": {
          "base_uri": "https://localhost:8080/"
        },
        "id": "F-rJw1CM2Wiz",
        "outputId": "3371bbb2-118f-40d9-ba5e-94414475c76e"
      },
      "execution_count": 12,
      "outputs": [
        {
          "output_type": "stream",
          "name": "stdout",
          "text": [
            "Data appended successfully\n"
          ]
        }
      ]
    },
    {
      "cell_type": "code",
      "source": [
        "query_statement = f\"SELECT COUNT(*) FROM {table_name}\"\n",
        "query_output = pd.read_sql(query_statement, conn)\n",
        "print(query_statement)\n",
        "print(query_output)"
      ],
      "metadata": {
        "colab": {
          "base_uri": "https://localhost:8080/"
        },
        "id": "8CtXyVfH2azL",
        "outputId": "3c87e402-d10a-4c2a-e7b7-e0e9fbfecf34"
      },
      "execution_count": 13,
      "outputs": [
        {
          "output_type": "stream",
          "name": "stdout",
          "text": [
            "SELECT COUNT(*) FROM INSTRUCTOR\n",
            "   COUNT(*)\n",
            "0        15\n"
          ]
        }
      ]
    },
    {
      "cell_type": "code",
      "source": [
        "conn.close()  # Close the connection"
      ],
      "metadata": {
        "id": "R_r-CMq42X86"
      },
      "execution_count": 15,
      "outputs": []
    },
    {
      "cell_type": "code",
      "source": [],
      "metadata": {
        "id": "XuGRmDcH2eL_"
      },
      "execution_count": null,
      "outputs": []
    }
  ]
}