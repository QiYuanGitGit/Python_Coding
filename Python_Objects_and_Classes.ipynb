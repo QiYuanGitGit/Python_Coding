{
  "nbformat": 4,
  "nbformat_minor": 0,
  "metadata": {
    "colab": {
      "provenance": []
    },
    "kernelspec": {
      "name": "python3",
      "display_name": "Python 3"
    },
    "language_info": {
      "name": "python"
    }
  },
  "cells": [
    {
      "cell_type": "markdown",
      "source": [
        "## Introduction to Classes and Objects\n"
      ],
      "metadata": {
        "id": "rcY_9LxHIWVL"
      }
    },
    {
      "cell_type": "markdown",
      "source": [
        "### Creating a Class\n"
      ],
      "metadata": {
        "id": "9RZuAhzeIWVL"
      }
    },
    {
      "cell_type": "markdown",
      "source": [
        "The first step in creating a class is giving it a name. In this notebook, we will create two classes: Circle and Rectangle. We need to determine all the data that make up that class, which we call <em>attributes</em>. Think about this step as creating a blue print that we will use to create objects. In figure 1 we see two classes, Circle and Rectangle. Each has their attributes, which are variables. The class Circle has the attribute radius and color, while the Rectangle class has the attribute height and width. Let’s use the visual examples of these shapes before we get to the code, as this will help you get accustomed to the vocabulary.\n"
      ],
      "metadata": {
        "id": "XR-9xVdkIWVM"
      }
    },
    {
      "cell_type": "markdown",
      "source": [
        "<img src=\"https://cf-courses-data.s3.us.cloud-object-storage.appdomain.cloud/IBMDeveloperSkillsNetwork-PY0101EN-SkillsNetwork/labs/Module%203/images/ClassesClass.png\" width=\"500\">\n"
      ],
      "metadata": {
        "id": "9bo1CbguIWVM"
      }
    },
    {
      "cell_type": "markdown",
      "source": [
        "<i>Figure 1: Classes circle and rectangle, and each has their own attributes. The class Circle has the attribute radius and colour, the class Rectangle has the attributes height and width.</i>\n"
      ],
      "metadata": {
        "id": "VAFh5ePAIWVM"
      }
    },
    {
      "cell_type": "markdown",
      "source": [
        "### Instances of a Class: Objects and Attributes\n"
      ],
      "metadata": {
        "id": "Iz0YZO9MIWVM"
      }
    },
    {
      "cell_type": "markdown",
      "source": [
        "An instance of an object is the realisation of a class, and in Figure 2 we see three instances of the class circle. We give each object a name: red circle, yellow circle, and green circle. Each object has different attributes, so let's focus on the color attribute for each object.\n"
      ],
      "metadata": {
        "id": "0a7xDrzzIWVN"
      }
    },
    {
      "cell_type": "markdown",
      "source": [
        "<img src=\"https://cf-courses-data.s3.us.cloud-object-storage.appdomain.cloud/IBMDeveloperSkillsNetwork-PY0101EN-SkillsNetwork/labs/Module%203/images/ClassesObj.png\" width=\"500\">\n"
      ],
      "metadata": {
        "id": "VBujC4KoIWVN"
      }
    },
    {
      "cell_type": "markdown",
      "source": [
        "<i>Figure 2: Three instances of the class Circle, or three objects of type Circle.</i>\n"
      ],
      "metadata": {
        "id": "s0PmLJQuIWVN"
      }
    },
    {
      "cell_type": "markdown",
      "source": [
        "The colour attribute for the red Circle is the colour red, for the green Circle object the colour attribute is green, and for the yellow Circle the colour attribute is yellow.\n"
      ],
      "metadata": {
        "id": "mCI4IihdIWVN"
      }
    },
    {
      "cell_type": "markdown",
      "source": [
        "### Methods\n"
      ],
      "metadata": {
        "id": "74if2sqcIWVN"
      }
    },
    {
      "cell_type": "markdown",
      "source": [
        "Methods give you a way to change or interact with the object; they are functions that interact with objects. For example, let’s say we would like to increase the radius of a circle by a specified amount. We can create a method called **add_radius(r)** that increases the radius by **r**. This is shown in figure 3, where after applying the method to the \"orange circle object\", the radius of the object increases accordingly. The “dot” notation means to apply the method to the object, which is essentially applying a function to the information in the object.\n"
      ],
      "metadata": {
        "id": "UmL4fIk2IWVN"
      }
    },
    {
      "cell_type": "markdown",
      "source": [
        "<img src=\"https://cf-courses-data.s3.us.cloud-object-storage.appdomain.cloud/IBMDeveloperSkillsNetwork-PY0101EN-SkillsNetwork/labs/Module%203/images/ClassesMethod.png\" width=\"500\">\n"
      ],
      "metadata": {
        "id": "m6KeUepUIWVO"
      }
    },
    {
      "cell_type": "markdown",
      "source": [
        "<i>Figure 3: Applying the method “add_radius” to the object orange circle object.</i>\n"
      ],
      "metadata": {
        "id": "zz3MTun6IWVO"
      }
    },
    {
      "cell_type": "markdown",
      "source": [
        "<img src=\"https://cf-courses-data.s3.us.cloud-object-storage.appdomain.cloud/IBMDeveloperSkillsNetwork-PY0101EN-SkillsNetwork/labs/Module%203/images/ClassesDefine.png\" width=\"400\">\n"
      ],
      "metadata": {
        "id": "gBTLhV1NIWVP"
      }
    },
    {
      "cell_type": "markdown",
      "source": [
        "<img src=\"https://cf-courses-data.s3.us.cloud-object-storage.appdomain.cloud/IBMDeveloperSkillsNetwork-PY0101EN-SkillsNetwork/labs/Module%203/images/ClassesCircle.png\" width=\"600\">\n"
      ],
      "metadata": {
        "id": "nOXYU5POIWVP"
      }
    },
    {
      "cell_type": "markdown",
      "source": [
        "#Lab"
      ],
      "metadata": {
        "id": "BQwPOCs0Id9k"
      }
    },
    {
      "cell_type": "code",
      "source": [
        "# Import the library\n",
        "\n",
        "import matplotlib.pyplot as plt\n",
        "%matplotlib inline"
      ],
      "metadata": {
        "id": "7MQ5j3enIfFc"
      },
      "execution_count": 12,
      "outputs": []
    },
    {
      "cell_type": "code",
      "source": [
        "# Create a class Circle\n",
        "\n",
        "class Circle(object):\n",
        "\n",
        "    # Constructor\n",
        "    def __init__(self, radius=3, color='blue'):\n",
        "        self.radius = radius\n",
        "        self.color = color\n",
        "\n",
        "    # Method\n",
        "    def add_radius(self, r):\n",
        "        self.radius = self.radius + r\n",
        "        return(self.radius)\n",
        "\n",
        "    # Method\n",
        "    def drawCircle(self):\n",
        "        plt.gca().add_patch(plt.Circle((0, 0), radius=self.radius, fc=self.color))\n",
        "        plt.axis('scaled')\n",
        "        plt.show()"
      ],
      "metadata": {
        "trusted": true,
        "id": "0LPU8kQ-IWVP"
      },
      "outputs": [],
      "execution_count": 13
    },
    {
      "cell_type": "code",
      "source": [
        "# Create an object RedCircle\n",
        "\n",
        "RedCircle = Circle(10, 'red')"
      ],
      "metadata": {
        "trusted": true,
        "id": "CuiPVY5AIWVQ"
      },
      "outputs": [],
      "execution_count": 14
    },
    {
      "cell_type": "code",
      "source": [
        "# Find out the methods can be used on the object RedCircle\n",
        "\n",
        "dir(RedCircle)"
      ],
      "metadata": {
        "trusted": true,
        "id": "uFwqZduhIWVQ",
        "outputId": "d000fec1-1cdb-47a9-b4d9-f85f09acc726",
        "colab": {
          "base_uri": "https://localhost:8080/"
        }
      },
      "outputs": [
        {
          "output_type": "execute_result",
          "data": {
            "text/plain": [
              "['__class__',\n",
              " '__delattr__',\n",
              " '__dict__',\n",
              " '__dir__',\n",
              " '__doc__',\n",
              " '__eq__',\n",
              " '__firstlineno__',\n",
              " '__format__',\n",
              " '__ge__',\n",
              " '__getattribute__',\n",
              " '__getstate__',\n",
              " '__gt__',\n",
              " '__hash__',\n",
              " '__init__',\n",
              " '__init_subclass__',\n",
              " '__le__',\n",
              " '__lt__',\n",
              " '__module__',\n",
              " '__ne__',\n",
              " '__new__',\n",
              " '__reduce__',\n",
              " '__reduce_ex__',\n",
              " '__repr__',\n",
              " '__setattr__',\n",
              " '__sizeof__',\n",
              " '__static_attributes__',\n",
              " '__str__',\n",
              " '__subclasshook__',\n",
              " '__weakref__',\n",
              " 'add_radius',\n",
              " 'color',\n",
              " 'drawCircle',\n",
              " 'radius']"
            ]
          },
          "metadata": {},
          "execution_count": 15
        }
      ],
      "execution_count": 15
    },
    {
      "cell_type": "markdown",
      "source": [
        "#Task"
      ],
      "metadata": {
        "id": "AoqAg41EJFsq"
      }
    },
    {
      "cell_type": "markdown",
      "source": [
        "### Task-1. You are tasked with creating a Python program to represent vehicles using a class. Each car should have attributes for maximum speed and mileage.\n"
      ],
      "metadata": {
        "id": "QJCvkN8AIWVW"
      }
    },
    {
      "cell_type": "code",
      "source": [
        "class Vehicle:\n",
        "    def __init__(self,max_speed, mileage):\n",
        "        self.max_speed=max_speed\n",
        "        self.mileage=mileage"
      ],
      "metadata": {
        "trusted": true,
        "id": "obu4DvDkIWVW"
      },
      "outputs": [],
      "execution_count": 16
    },
    {
      "cell_type": "markdown",
      "source": [
        "### Task-2. Update the class with the default color for all vehicles,\" white\".\n"
      ],
      "metadata": {
        "id": "hxQpqQ5-IWVW"
      }
    },
    {
      "cell_type": "code",
      "source": [
        "class Vehicle:\n",
        "    color=\"white\"\n",
        "\n",
        "    def __init__(self,max_speed, mileage):\n",
        "        self.max_speed=max_speed\n",
        "        self.mileage=mileage"
      ],
      "metadata": {
        "trusted": true,
        "id": "rjdAteqaIWVW"
      },
      "outputs": [],
      "execution_count": 17
    },
    {
      "cell_type": "markdown",
      "source": [
        "### Task-3. Additionally, you need to create methods in the Vehicle class to assign seating capacity to a vehicle.\n"
      ],
      "metadata": {
        "id": "DocSnGs2IWVX"
      }
    },
    {
      "cell_type": "code",
      "source": [
        "class Vehicle:\n",
        "    color=\"white\"\n",
        "\n",
        "    def __init__(self,max_speed, mileage):\n",
        "        self.max_speed=max_speed\n",
        "        self.mileage=mileage\n",
        "\n",
        "    def assign_seating_capacity(self,seating_capacity):\n",
        "        self.seating_capacity=seating_capacity"
      ],
      "metadata": {
        "trusted": true,
        "id": "JCppAPWMIWVX"
      },
      "outputs": [],
      "execution_count": 18
    },
    {
      "cell_type": "markdown",
      "source": [
        "### Task-4. Create a method to display all the properties of an object of the class.\n"
      ],
      "metadata": {
        "id": "4FBJjwXIIWVX"
      }
    },
    {
      "cell_type": "code",
      "source": [
        "class Vehicle:\n",
        "    color=\"white\"\n",
        "\n",
        "    def __init__(self,max_speed, mileage):\n",
        "        self.max_speed=max_speed\n",
        "        self.mileage=mileage\n",
        "\n",
        "    def assign_seating_capacity(self,seating_capacity):\n",
        "        self.seating_capacity=seating_capacity\n",
        "\n",
        "    def display_properties(self):\n",
        "        print(\"Properties of the Vehicle:\")\n",
        "        print(\"Color:\", self.color)\n",
        "        print(\"Maximum Speed:\", self.max_speed)\n",
        "        print(\"Mileage:\", self.mileage)\n",
        "        print(\"Seating Capacity:\", self.seating_capacity)"
      ],
      "metadata": {
        "trusted": true,
        "id": "-tRpgcfjIWVX"
      },
      "outputs": [],
      "execution_count": 19
    },
    {
      "cell_type": "markdown",
      "source": [
        "### Task-5. Additionally, you need to create two objects of the Vehicle class object that should have a max speed of 200kmph and mileage of 20kmpl with five seating capacities, and another car object should have a max speed of 180kmph and mileage of 25kmpl with four seating capacities.\n"
      ],
      "metadata": {
        "id": "bBECmgnmIWVX"
      }
    },
    {
      "cell_type": "code",
      "source": [
        "vehicle1=Vehicle(200, 20)\n",
        "vehicle1.assign_seating_capacity(5)\n",
        "vehicle1.display_properties()\n",
        "\n",
        "vehicle2=Vehicle(180, 25)\n",
        "vehicle2.assign_seating_capacity(4)\n",
        "vehicle2.display_properties()"
      ],
      "metadata": {
        "trusted": true,
        "id": "0wuqO3fsIWVX",
        "outputId": "18642111-a5d5-4e1e-d1cd-45c4bf558c03",
        "colab": {
          "base_uri": "https://localhost:8080/"
        }
      },
      "outputs": [
        {
          "output_type": "stream",
          "name": "stdout",
          "text": [
            "Properties of the Vehicle:\n",
            "Color: white\n",
            "Maximum Speed: 200\n",
            "Mileage: 20\n",
            "Seating Capacity: 5\n",
            "Properties of the Vehicle:\n",
            "Color: white\n",
            "Maximum Speed: 180\n",
            "Mileage: 25\n",
            "Seating Capacity: 4\n"
          ]
        }
      ],
      "execution_count": 20
    }
  ]
}