{
  "nbformat": 4,
  "nbformat_minor": 0,
  "metadata": {
    "colab": {
      "provenance": []
    },
    "kernelspec": {
      "name": "python3",
      "display_name": "Python 3"
    },
    "language_info": {
      "name": "python"
    }
  },
  "cells": [
    {
      "cell_type": "markdown",
      "source": [
        "#Check Data Types"
      ],
      "metadata": {
        "id": "S0NhzIR2Q3Sd"
      }
    },
    {
      "cell_type": "code",
      "execution_count": 1,
      "metadata": {
        "id": "d1J1rKXdAU_B",
        "colab": {
          "base_uri": "https://localhost:8080/"
        },
        "outputId": "5c12ee48-939f-4dc4-e3ef-0dc3c03261f2"
      },
      "outputs": [
        {
          "output_type": "stream",
          "name": "stdout",
          "text": [
            "<class 'int'>\n",
            "<class 'float'>\n",
            "<class 'str'>\n"
          ]
        }
      ],
      "source": [
        "print(type(12))\n",
        "print(type(2.14))\n",
        "print(type(\"Hello, Python 101!\"))"
      ]
    },
    {
      "cell_type": "markdown",
      "source": [
        "##Convert Data Types"
      ],
      "metadata": {
        "id": "n6eNQXyUSXv3"
      }
    },
    {
      "cell_type": "code",
      "source": [
        "print(type(2))\n",
        "float(2)  # Convert 2 to a float\n",
        "print(type(float(2)))\n",
        "print(type(True))"
      ],
      "metadata": {
        "colab": {
          "base_uri": "https://localhost:8080/"
        },
        "id": "LP1ijQTTSKxH",
        "outputId": "7c3778e5-348f-4d23-ccbc-9caea205fa49"
      },
      "execution_count": 7,
      "outputs": [
        {
          "output_type": "stream",
          "name": "stdout",
          "text": [
            "<class 'int'>\n",
            "<class 'float'>\n",
            "<class 'bool'>\n"
          ]
        }
      ]
    },
    {
      "cell_type": "code",
      "source": [
        "print(int('1')) # Convert a string into an integer\n",
        "print(int(1.1))"
      ],
      "metadata": {
        "colab": {
          "base_uri": "https://localhost:8080/"
        },
        "id": "_YeQholqS0MK",
        "outputId": "fa92e733-b7f9-4974-91bb-be7fb30dcddd"
      },
      "execution_count": 6,
      "outputs": [
        {
          "output_type": "stream",
          "name": "stdout",
          "text": [
            "1\n",
            "1\n"
          ]
        }
      ]
    },
    {
      "cell_type": "code",
      "source": [
        "#print(int('1 or 2 people')) #error, as string contain not only numerical, failed to convert"
      ],
      "metadata": {
        "id": "4gqiyY5CTcl_"
      },
      "execution_count": 8,
      "outputs": []
    },
    {
      "cell_type": "code",
      "source": [
        "type(6/2) # float"
      ],
      "metadata": {
        "colab": {
          "base_uri": "https://localhost:8080/"
        },
        "id": "qzuNdbOtTiKD",
        "outputId": "fa5b0925-4254-45f1-9c55-3ca374c08bf6"
      },
      "execution_count": 9,
      "outputs": [
        {
          "output_type": "execute_result",
          "data": {
            "text/plain": [
              "float"
            ]
          },
          "metadata": {},
          "execution_count": 9
        }
      ]
    },
    {
      "cell_type": "code",
      "source": [
        "type(6//2) # int, as the double slashes stand for integer division"
      ],
      "metadata": {
        "colab": {
          "base_uri": "https://localhost:8080/"
        },
        "id": "uu26wTCqUCdw",
        "outputId": "d665d986-68ed-4a8b-9049-792442642eb6"
      },
      "execution_count": 10,
      "outputs": [
        {
          "output_type": "execute_result",
          "data": {
            "text/plain": [
              "int"
            ]
          },
          "metadata": {},
          "execution_count": 10
        }
      ]
    },
    {
      "cell_type": "markdown",
      "source": [
        "#Expressions and Variables"
      ],
      "metadata": {
        "id": "54ln3dFxU2JF"
      }
    },
    {
      "cell_type": "code",
      "source": [
        "print(43 + 60 + 16 + 41)\n",
        "print(25 / 5)\n",
        "print(25 / 6)\n",
        "print(25 // 5)\n",
        "print(25 // 6)"
      ],
      "metadata": {
        "colab": {
          "base_uri": "https://localhost:8080/"
        },
        "id": "zptBCQVlUHWs",
        "outputId": "affc6e0f-a289-42f9-ae1a-30968eceb15e"
      },
      "execution_count": 12,
      "outputs": [
        {
          "output_type": "stream",
          "name": "stdout",
          "text": [
            "160\n",
            "5.0\n",
            "4.166666666666667\n",
            "5\n",
            "4\n"
          ]
        }
      ]
    },
    {
      "cell_type": "markdown",
      "source": [
        "#String Operations"
      ],
      "metadata": {
        "id": "siUnJC7mVNJm"
      }
    },
    {
      "cell_type": "code",
      "source": [
        "# Assign string to variable\n",
        "\n",
        "name = \"The BodyGuard\"\n",
        "name"
      ],
      "metadata": {
        "colab": {
          "base_uri": "https://localhost:8080/"
        },
        "id": "-0xDSnw4U4wS",
        "outputId": "7a6949f0-fc47-42a4-e1dd-c45f45db8169"
      },
      "execution_count": 13,
      "outputs": [
        {
          "output_type": "execute_result",
          "data": {
            "text/plain": [
              "'The BodyGuard'"
            ]
          },
          "metadata": {},
          "execution_count": 13
        }
      ]
    },
    {
      "cell_type": "code",
      "source": [
        "print(name[0])\n",
        "print(name[10])"
      ],
      "metadata": {
        "colab": {
          "base_uri": "https://localhost:8080/"
        },
        "id": "iUnVKdvqVZtz",
        "outputId": "0a5e3dc0-c470-4e5b-d749-899cac48f5e1"
      },
      "execution_count": 15,
      "outputs": [
        {
          "output_type": "stream",
          "name": "stdout",
          "text": [
            "T\n",
            "a\n"
          ]
        }
      ]
    },
    {
      "cell_type": "markdown",
      "source": [
        "##Indexing (+ve and -ve indexing)"
      ],
      "metadata": {
        "id": "fETOPWzDVyFL"
      }
    },
    {
      "cell_type": "markdown",
      "source": [
        "<img src=\"https://cf-courses-data.s3.us.cloud-object-storage.appdomain.cloud/VAdKOVUWpsM7hC7CjWmEdQ/IMG2.png\" width=\"600\" align=\"center\">"
      ],
      "metadata": {
        "id": "g7HSayj_Vljw"
      }
    },
    {
      "cell_type": "code",
      "source": [
        "print(name[-1])\n",
        "print(name[-13])\n",
        "len(\"The BodyGuard\")"
      ],
      "metadata": {
        "colab": {
          "base_uri": "https://localhost:8080/"
        },
        "id": "QGPmzLPUVmVF",
        "outputId": "9a9b347e-9c03-49fd-80ef-6d316981f601"
      },
      "execution_count": 16,
      "outputs": [
        {
          "output_type": "stream",
          "name": "stdout",
          "text": [
            "d\n",
            "T\n"
          ]
        },
        {
          "output_type": "execute_result",
          "data": {
            "text/plain": [
              "13"
            ]
          },
          "metadata": {},
          "execution_count": 16
        }
      ]
    },
    {
      "cell_type": "markdown",
      "source": [
        "##Slicing"
      ],
      "metadata": {
        "id": "v7MVW0pJV3gB"
      }
    },
    {
      "cell_type": "code",
      "source": [
        "print(name[0:4])\n",
        "print(name[8:12])"
      ],
      "metadata": {
        "colab": {
          "base_uri": "https://localhost:8080/"
        },
        "id": "vdWGoSnYVuIX",
        "outputId": "6a89d0cf-d503-4afe-c166-f3a89335ef2f"
      },
      "execution_count": 17,
      "outputs": [
        {
          "output_type": "stream",
          "name": "stdout",
          "text": [
            "The \n",
            "Guar\n"
          ]
        }
      ]
    },
    {
      "cell_type": "markdown",
      "source": [
        "##Stride"
      ],
      "metadata": {
        "id": "pe_ocgVcV_c9"
      }
    },
    {
      "cell_type": "markdown",
      "source": [
        "<img src=\"https://cf-courses-data.s3.us.cloud-object-storage.appdomain.cloud/SaORQ3bZLArgeix_9-jjRQ/IMG4.png\" width=\"600\" align=\"center\">"
      ],
      "metadata": {
        "id": "p2esqm_gWgZx"
      }
    },
    {
      "cell_type": "code",
      "source": [
        "print(name[::2])\n",
        "print(name[0:5:2])"
      ],
      "metadata": {
        "colab": {
          "base_uri": "https://localhost:8080/"
        },
        "id": "tyHlyQmdV-cx",
        "outputId": "cb87c0ce-d57d-436c-cb6d-1d976253caef"
      },
      "execution_count": 18,
      "outputs": [
        {
          "output_type": "stream",
          "name": "stdout",
          "text": [
            "TeBdGad\n",
            "TeB\n"
          ]
        }
      ]
    },
    {
      "cell_type": "markdown",
      "source": [
        "##Concatenate Strings"
      ],
      "metadata": {
        "id": "J-gXcYF4WxY_"
      }
    },
    {
      "cell_type": "code",
      "source": [
        "# Concatenate two strings\n",
        "\n",
        "statement = name + \" is the best album\"\n",
        "statement"
      ],
      "metadata": {
        "colab": {
          "base_uri": "https://localhost:8080/"
        },
        "id": "uqB6nirXWk4A",
        "outputId": "9ff4b487-9333-4bc3-9737-b94d1d81233b"
      },
      "execution_count": 19,
      "outputs": [
        {
          "output_type": "execute_result",
          "data": {
            "text/plain": [
              "'The BodyGuard is the best album'"
            ]
          },
          "metadata": {},
          "execution_count": 19
        }
      ]
    },
    {
      "cell_type": "code",
      "source": [
        "3 * \"The BodyGuard\""
      ],
      "metadata": {
        "colab": {
          "base_uri": "https://localhost:8080/"
        },
        "id": "CHhubX1YW2cy",
        "outputId": "e451e1a5-0163-4600-8a39-1dbbaa046286"
      },
      "execution_count": 20,
      "outputs": [
        {
          "output_type": "execute_result",
          "data": {
            "text/plain": [
              "'The BodyGuardThe BodyGuardThe BodyGuard'"
            ]
          },
          "metadata": {},
          "execution_count": 20
        }
      ]
    },
    {
      "cell_type": "code",
      "source": [
        "name = \"The BodyGuard\"\n",
        "name = name + \" is the best album\"\n",
        "name"
      ],
      "metadata": {
        "colab": {
          "base_uri": "https://localhost:8080/"
        },
        "id": "SH9XTtQdW4Cj",
        "outputId": "cba7fca6-4c10-4db4-9eb5-c22d7e37d2bd"
      },
      "execution_count": 21,
      "outputs": [
        {
          "output_type": "execute_result",
          "data": {
            "text/plain": [
              "'The BodyGuard is the best album'"
            ]
          },
          "metadata": {},
          "execution_count": 21
        }
      ]
    },
    {
      "cell_type": "markdown",
      "source": [
        "##Escape Sequences"
      ],
      "metadata": {
        "id": "pVyXjhfkW-k7"
      }
    },
    {
      "cell_type": "code",
      "source": [
        "print(\" The BodyGuard\\n is the best album\" )  #New line escape\n",
        "print(\" The BodyGuard \\t is the best album\" ) #Tab escape\n",
        "print(\" The BodyGuard \\\\ is the best album\" ) # Include back slash in string\n",
        "print(r\" The BodyGuard \\\\ is the best album\" ) # r will tell python that string will be display as raw string"
      ],
      "metadata": {
        "colab": {
          "base_uri": "https://localhost:8080/"
        },
        "id": "yc18FbqhW5Px",
        "outputId": "ac4331db-fb5f-4c0e-f165-90a974f08170"
      },
      "execution_count": 23,
      "outputs": [
        {
          "output_type": "stream",
          "name": "stdout",
          "text": [
            " The BodyGuard\n",
            " is the best album\n",
            " The BodyGuard \t is the best album\n",
            " The BodyGuard \\ is the best album\n",
            " The BodyGuard \\\\ is the best album\n"
          ]
        }
      ]
    },
    {
      "cell_type": "markdown",
      "source": [
        "##String Manipulation Operations"
      ],
      "metadata": {
        "id": "thqQH9HhXWig"
      }
    },
    {
      "cell_type": "markdown",
      "source": [
        "###Upper"
      ],
      "metadata": {
        "id": "AV2BO7seY2Zm"
      }
    },
    {
      "cell_type": "code",
      "source": [
        "a = \"Thriller is the sixth studio album\"\n",
        "print(a.upper())"
      ],
      "metadata": {
        "colab": {
          "base_uri": "https://localhost:8080/"
        },
        "id": "TcZwt6HTXPAp",
        "outputId": "77e46673-aa71-478c-8f66-59f9b6a5c058"
      },
      "execution_count": 26,
      "outputs": [
        {
          "output_type": "stream",
          "name": "stdout",
          "text": [
            "THRILLER IS THE SIXTH STUDIO ALBUM\n"
          ]
        }
      ]
    },
    {
      "cell_type": "markdown",
      "source": [
        "###Replace"
      ],
      "metadata": {
        "id": "pjMhwQJYY4RX"
      }
    },
    {
      "cell_type": "code",
      "source": [
        "a = \"The BodyGuard is the best album\"\n",
        "print(a.replace('BodyGuard', 'Janet'))"
      ],
      "metadata": {
        "colab": {
          "base_uri": "https://localhost:8080/"
        },
        "id": "SZ9npM9RYUFe",
        "outputId": "0e4e8ad1-b046-475c-86a3-4d0f80cf457f"
      },
      "execution_count": 27,
      "outputs": [
        {
          "output_type": "stream",
          "name": "stdout",
          "text": [
            "The Janet is the best album\n"
          ]
        }
      ]
    },
    {
      "cell_type": "markdown",
      "source": [
        "<img src=\"https://cf-courses-data.s3.us.cloud-object-storage.appdomain.cloud/eK6pP3xD4kLWk2vri9KA5A/IMG5.png\" width=\"600\" align=\"center\">\n"
      ],
      "metadata": {
        "id": "2tW2nR-7YgXi"
      }
    },
    {
      "cell_type": "markdown",
      "source": [
        "###Find"
      ],
      "metadata": {
        "id": "Lt0talKpY5r1"
      }
    },
    {
      "cell_type": "code",
      "source": [
        "name = \"The BodyGuard\"\n",
        "print(name.find('he'))\n",
        "print(name.find('Guard'))"
      ],
      "metadata": {
        "colab": {
          "base_uri": "https://localhost:8080/"
        },
        "id": "1h_9dbahYcAN",
        "outputId": "37e9a890-f6a9-45c9-d043-57f3fd833e58"
      },
      "execution_count": 29,
      "outputs": [
        {
          "output_type": "stream",
          "name": "stdout",
          "text": [
            "1\n",
            "8\n"
          ]
        }
      ]
    },
    {
      "cell_type": "code",
      "source": [
        "name.find('Jasdfasdasdf') # If cannot find the substring in the string"
      ],
      "metadata": {
        "colab": {
          "base_uri": "https://localhost:8080/"
        },
        "id": "6LERxxF2YlMM",
        "outputId": "5de778e8-d144-45be-9e77-d042e7089ce4"
      },
      "execution_count": 30,
      "outputs": [
        {
          "output_type": "execute_result",
          "data": {
            "text/plain": [
              "-1"
            ]
          },
          "metadata": {},
          "execution_count": 30
        }
      ]
    },
    {
      "cell_type": "markdown",
      "source": [
        "###Split"
      ],
      "metadata": {
        "id": "jCBYfzFHY74r"
      }
    },
    {
      "cell_type": "code",
      "source": [
        "name = \"The BodyGuard\"\n",
        "print(name.split())   #separator (optional), the default separator is any whitespace"
      ],
      "metadata": {
        "colab": {
          "base_uri": "https://localhost:8080/"
        },
        "id": "G0XWtG4wYs1f",
        "outputId": "5c1f5623-34cd-4072-a0de-d691d2b7a3b6"
      },
      "execution_count": 34,
      "outputs": [
        {
          "output_type": "stream",
          "name": "stdout",
          "text": [
            "['The', 'BodyGuard']\n"
          ]
        }
      ]
    },
    {
      "cell_type": "code",
      "source": [
        "tag=\"abbabbbaabababa\"\n",
        "print(tag.split(\"a\", maxsplit=2))"
      ],
      "metadata": {
        "colab": {
          "base_uri": "https://localhost:8080/"
        },
        "id": "tCRxG4TfZJSU",
        "outputId": "4e37f2a9-61df-4ac4-8e88-6a3a25f13906"
      },
      "execution_count": 41,
      "outputs": [
        {
          "output_type": "stream",
          "name": "stdout",
          "text": [
            "['', 'bb', 'bbbaabababa']\n"
          ]
        }
      ]
    },
    {
      "cell_type": "markdown",
      "source": [
        "##RegEx (Regular Expression)"
      ],
      "metadata": {
        "id": "LR4JC0HdZ4EI"
      }
    },
    {
      "cell_type": "code",
      "source": [
        "import re"
      ],
      "metadata": {
        "id": "YINT8UjiZK9f"
      },
      "execution_count": 42,
      "outputs": []
    },
    {
      "cell_type": "markdown",
      "source": [
        "###.search()"
      ],
      "metadata": {
        "id": "_El_ilzZauw1"
      }
    },
    {
      "cell_type": "code",
      "source": [
        "s1 = \"The BodyGuard is the best album\"\n",
        "result= re.search(r\"Body\", s1)\n",
        "\n",
        "# Check if a match was found\n",
        "if result:\n",
        "    print(\"Match found!\")\n",
        "else:\n",
        "    print(\"Match not found.\")"
      ],
      "metadata": {
        "colab": {
          "base_uri": "https://localhost:8080/"
        },
        "id": "e2KYXDbxZ_9U",
        "outputId": "22030dc8-54b6-4034-a26b-47a01915b894"
      },
      "execution_count": 45,
      "outputs": [
        {
          "output_type": "stream",
          "name": "stdout",
          "text": [
            "Match found!\n"
          ]
        }
      ]
    },
    {
      "cell_type": "markdown",
      "source": [
        "| Special Sequence | Meaning                 | \tExample             |\n",
        "| -----------  | ----------------------- | ----------------------|\n",
        "| \\d|Matches any digit character (0-9)|\"123\" matches \"\\d\\d\\d\"|\n",
        "|\\D|Matches any non-digit character|\"hello\" matches \"\\D\\D\\D\\D\\D\"|\n",
        "|\\w|Matches any word character (a-z, A-Z, 0-9, and _)|\"hello_world\" matches \"\\w\\w\\w\\w\\w\\w\\w\\w\\w\\w\\w\"|\n",
        "|\\W|Matches any non-word character|\t\"@#$%\" matches \"\\W\\W\\W\\W\"|\n",
        "|\\s|Matches any whitespace character (space, tab, newline, etc.)|\"hello world\" matches \"\\w\\w\\w\\w\\w\\s\\w\\w\\w\\w\\w\"|\n",
        "|\\S|Matches any non-whitespace character|\"hello_world\" matches \"\\S\\S\\S\\S\\S\\S\\S\\S\\S\\S\\S\"|\n",
        "|\\b|Matches the boundary between a word character and a non-word character|\"cat\" matches \"\\bcat\\b\" in \"The cat sat on the mat\"|\n",
        "|\\B|Matches any position that is not a word boundary|\"cat\" matches \"\\Bcat\\B\" in \"category\" but not in \"The cat sat on the mat\"|"
      ],
      "metadata": {
        "id": "FganiOoZa1du"
      }
    },
    {
      "cell_type": "code",
      "source": [
        "pattern = r\"\\d\\d\\d\\d\\d\\d\\d\\d\\d\\d\"  # Matches any ten consecutive digits\n",
        "text = \"My Phone number is 1234567890\"\n",
        "match = re.search(pattern, text)\n",
        "\n",
        "if match:\n",
        "    print(\"Phone number found:\", match.group())\n",
        "else:\n",
        "    print(\"No match\")"
      ],
      "metadata": {
        "colab": {
          "base_uri": "https://localhost:8080/"
        },
        "id": "0obMiv-taj7x",
        "outputId": "a7024681-c756-494b-d561-f1320588b07f"
      },
      "execution_count": 46,
      "outputs": [
        {
          "output_type": "stream",
          "name": "stdout",
          "text": [
            "Phone number found: 1234567890\n"
          ]
        }
      ]
    },
    {
      "cell_type": "code",
      "source": [
        "pattern = r\"\\W\"  # Matches any non-word character\n",
        "text = \"Hello, world!\"\n",
        "matches = re.findall(pattern, text)\n",
        "\n",
        "print(\"Matches:\", matches)"
      ],
      "metadata": {
        "colab": {
          "base_uri": "https://localhost:8080/"
        },
        "id": "IDR8l6P6a69m",
        "outputId": "459da182-c0c3-49b1-d234-a9f81766be8e"
      },
      "execution_count": 47,
      "outputs": [
        {
          "output_type": "stream",
          "name": "stdout",
          "text": [
            "Matches: [',', ' ', '!']\n"
          ]
        }
      ]
    },
    {
      "cell_type": "code",
      "source": [
        "s2 = \"The BodyGuard is the best album of 'Whitney Houston'.\"\n",
        "re.findall(\"st\", s2)"
      ],
      "metadata": {
        "colab": {
          "base_uri": "https://localhost:8080/"
        },
        "id": "WTxpI7RjbGEz",
        "outputId": "6bd52b46-a6ff-4886-c063-a9b0d637c93f"
      },
      "execution_count": 48,
      "outputs": [
        {
          "output_type": "execute_result",
          "data": {
            "text/plain": [
              "['st', 'st']"
            ]
          },
          "metadata": {},
          "execution_count": 48
        }
      ]
    },
    {
      "cell_type": "code",
      "source": [
        "str2= \"How much wood would a woodchuck chuck, if a woodchuck could chuck wood?\"\n",
        "# Use re.findall() to find all occurrences of \"woo\"\n",
        "matches = re.findall(r\"woo\", str2)\n",
        "\n",
        "print(matches)"
      ],
      "metadata": {
        "colab": {
          "base_uri": "https://localhost:8080/"
        },
        "id": "Uw6YzE78drF6",
        "outputId": "79eeef60-573b-4d7c-ab29-785579554c68"
      },
      "execution_count": 54,
      "outputs": [
        {
          "output_type": "stream",
          "name": "stdout",
          "text": [
            "['woo', 'woo', 'woo', 'woo']\n"
          ]
        }
      ]
    },
    {
      "cell_type": "code",
      "source": [
        "# Use the split function to split the string by the \"\\s\"\n",
        "split_array = re.split(r\"\\s\", s2)\n",
        "\n",
        "# The split_array contains all the substrings, split by whitespace characters\n",
        "print(split_array)"
      ],
      "metadata": {
        "colab": {
          "base_uri": "https://localhost:8080/"
        },
        "id": "uZrvJmyibK9L",
        "outputId": "cfaf9958-7c78-49d9-e9c1-6f1afc88cf96"
      },
      "execution_count": 49,
      "outputs": [
        {
          "output_type": "stream",
          "name": "stdout",
          "text": [
            "['The', 'BodyGuard', 'is', 'the', 'best', 'album', 'of', \"'Whitney\", \"Houston'.\"]\n"
          ]
        }
      ]
    },
    {
      "cell_type": "code",
      "source": [
        "str1= \"The quick brown fox jumps over the lazy dog.\"\n",
        "\n",
        "# Use re.sub() to replace \"fox\" with \"bear\"\n",
        "new_str1 = re.sub(r\"fox\", \"bear\", str1)\n",
        "print(str1)\n",
        "print(new_str1)"
      ],
      "metadata": {
        "colab": {
          "base_uri": "https://localhost:8080/"
        },
        "id": "4vL0fuEebU-2",
        "outputId": "9c58f119-20d8-4651-8408-d48b416b42d6"
      },
      "execution_count": 52,
      "outputs": [
        {
          "output_type": "stream",
          "name": "stdout",
          "text": [
            "The quick brown fox jumps over the lazy dog.\n",
            "The quick brown bear jumps over the lazy dog.\n"
          ]
        }
      ]
    },
    {
      "cell_type": "markdown",
      "source": [
        "r will tell python that string will be display as raw string\n",
        "\n"
      ],
      "metadata": {
        "id": "JpFl3n0edQCZ"
      }
    }
  ]
}
