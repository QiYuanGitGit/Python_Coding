{
  "nbformat": 4,
  "nbformat_minor": 0,
  "metadata": {
    "colab": {
      "provenance": []
    },
    "kernelspec": {
      "name": "python3",
      "display_name": "Python 3"
    },
    "language_info": {
      "name": "python"
    }
  },
  "cells": [
    {
      "cell_type": "markdown",
      "source": [
        "#List"
      ],
      "metadata": {
        "id": "_344-WiXaLmO"
      }
    },
    {
      "cell_type": "markdown",
      "source": [
        "##Indexing"
      ],
      "metadata": {
        "id": "NbxBUOz2aOfJ"
      }
    },
    {
      "cell_type": "markdown",
      "source": [
        "<img src=\"https://cf-courses-data.s3.us.cloud-object-storage.appdomain.cloud/IBMDeveloperSkillsNetwork-PY0101EN-SkillsNetwork/labs/Module%202/images/ListsIndex.png\" width=\"1000\">\n"
      ],
      "metadata": {
        "id": "q2YkdRRlaW8T"
      }
    },
    {
      "cell_type": "markdown",
      "source": [
        "<img src=\"https://cf-courses-data.s3.us.cloud-object-storage.appdomain.cloud/kkMiHZTtmXzY4BWInK5Azg/Slide1.PNG\" width=\"1000\">\n"
      ],
      "metadata": {
        "id": "WZ79OXW1aeN-"
      }
    },
    {
      "cell_type": "markdown",
      "source": [
        "Lists can contain strings, floats, and integers, and also nest other lists.\n",
        "\n",
        "[\"The Bodyguard\", 7.0, 1992, [1, 2], (\"A\", 1)]"
      ],
      "metadata": {
        "id": "FpWeK5sIai9P"
      }
    },
    {
      "cell_type": "code",
      "execution_count": 3,
      "metadata": {
        "colab": {
          "base_uri": "https://localhost:8080/"
        },
        "id": "oGHi1-w3Zv2f",
        "outputId": "7431b70e-4a21-4dad-fd41-d9c5c5ce6a2a"
      },
      "outputs": [
        {
          "output_type": "execute_result",
          "data": {
            "text/plain": [
              "['The Bodyguard', 7.0, 'pop', 10]"
            ]
          },
          "metadata": {},
          "execution_count": 3
        }
      ],
      "source": [
        "L = [ \"The Bodyguard\", 7.0]\n",
        "L.extend(['pop', 10])\n",
        "L"
      ]
    },
    {
      "cell_type": "code",
      "source": [
        "L = [ \"The Bodyguard\", 7.0]\n",
        "L.append(['pop', 10])\n",
        "L"
      ],
      "metadata": {
        "colab": {
          "base_uri": "https://localhost:8080/"
        },
        "id": "c3j45Ytia2hc",
        "outputId": "65ffcdbe-27d3-4a40-e76c-8258b43cacbf"
      },
      "execution_count": 4,
      "outputs": [
        {
          "output_type": "execute_result",
          "data": {
            "text/plain": [
              "['The Bodyguard', 7.0, ['pop', 10]]"
            ]
          },
          "metadata": {},
          "execution_count": 4
        }
      ]
    },
    {
      "cell_type": "markdown",
      "source": [
        "we apply append instead of extend, we add one element to the list."
      ],
      "metadata": {
        "id": "BFq8iie4bEkv"
      }
    },
    {
      "cell_type": "markdown",
      "source": [
        "#Tuples"
      ],
      "metadata": {
        "id": "k-6-yeNXdmrA"
      }
    },
    {
      "cell_type": "markdown",
      "source": [
        "Can be String, Integer, and Float."
      ],
      "metadata": {
        "id": "rmorWOModtL1"
      }
    },
    {
      "cell_type": "markdown",
      "source": [
        "<img src=\"https://cf-courses-data.s3.us.cloud-object-storage.appdomain.cloud/IBMDeveloperSkillsNetwork-PY0101EN-SkillsNetwork/labs/Module%202/images/TuplesNeg.png\" width=\"750\" align=\"center\">"
      ],
      "metadata": {
        "id": "1lylcBwzd3sz"
      }
    },
    {
      "cell_type": "code",
      "source": [
        "tuple1 = (\"disco\",10,1.2 )\n",
        "tuple2 = tuple1 + (\"hard rock\", 10)\n",
        "tuple2"
      ],
      "metadata": {
        "colab": {
          "base_uri": "https://localhost:8080/"
        },
        "id": "pIL24qs3a7_R",
        "outputId": "78ead85c-97f5-4883-d3c1-59342e3b2e8a"
      },
      "execution_count": 5,
      "outputs": [
        {
          "output_type": "execute_result",
          "data": {
            "text/plain": [
              "('disco', 10, 1.2, 'hard rock', 10)"
            ]
          },
          "metadata": {},
          "execution_count": 5
        }
      ]
    },
    {
      "cell_type": "code",
      "source": [
        "len(tuple2)"
      ],
      "metadata": {
        "colab": {
          "base_uri": "https://localhost:8080/"
        },
        "id": "zLtKhA_geBke",
        "outputId": "0c101f31-5c1a-4113-c999-ff541f2df147"
      },
      "execution_count": 6,
      "outputs": [
        {
          "output_type": "execute_result",
          "data": {
            "text/plain": [
              "5"
            ]
          },
          "metadata": {},
          "execution_count": 6
        }
      ]
    },
    {
      "cell_type": "code",
      "source": [
        "NestedT =(1, 2, (\"pop\", \"rock\") ,(3,4),(\"disco\",(1,2)))\n",
        "NestedT[2][1][0]"
      ],
      "metadata": {
        "colab": {
          "base_uri": "https://localhost:8080/"
        },
        "id": "pI9QkCDAeEvn",
        "outputId": "80dbcf7c-b65d-4470-9e84-99b224def163"
      },
      "execution_count": 8,
      "outputs": [
        {
          "output_type": "execute_result",
          "data": {
            "text/plain": [
              "'r'"
            ]
          },
          "metadata": {},
          "execution_count": 8
        }
      ]
    },
    {
      "cell_type": "markdown",
      "source": [
        "#Dict"
      ],
      "metadata": {
        "id": "GsBX0NZkealQ"
      }
    },
    {
      "cell_type": "code",
      "source": [
        "Dict = {\"key1\": 1, \"key2\": \"2\", \"key3\": [3, 3, 3], \"key4\": (4, 4, 4), ('key5'): 5, (0, 1): 6}\n",
        "Dict"
      ],
      "metadata": {
        "colab": {
          "base_uri": "https://localhost:8080/"
        },
        "id": "o2rhz_6seLle",
        "outputId": "5b4ed706-d12f-43e9-a440-30ec8f7ac7ff"
      },
      "execution_count": 9,
      "outputs": [
        {
          "output_type": "execute_result",
          "data": {
            "text/plain": [
              "{'key1': 1,\n",
              " 'key2': '2',\n",
              " 'key3': [3, 3, 3],\n",
              " 'key4': (4, 4, 4),\n",
              " 'key5': 5,\n",
              " (0, 1): 6}"
            ]
          },
          "metadata": {},
          "execution_count": 9
        }
      ]
    },
    {
      "cell_type": "code",
      "source": [
        "print(Dict[\"key1\"])\n",
        "print(Dict[(0, 1)])"
      ],
      "metadata": {
        "colab": {
          "base_uri": "https://localhost:8080/"
        },
        "id": "vx6eRwT8ecto",
        "outputId": "3dee447b-37c4-4cd4-c58e-bf7c346d5ac7"
      },
      "execution_count": 10,
      "outputs": [
        {
          "output_type": "stream",
          "name": "stdout",
          "text": [
            "1\n",
            "6\n"
          ]
        }
      ]
    },
    {
      "cell_type": "code",
      "source": [
        "Dict.keys()"
      ],
      "metadata": {
        "colab": {
          "base_uri": "https://localhost:8080/"
        },
        "id": "_ybodkp8eoR_",
        "outputId": "be9cf897-e47a-44a4-b29b-8787fb4cd03a"
      },
      "execution_count": 12,
      "outputs": [
        {
          "output_type": "execute_result",
          "data": {
            "text/plain": [
              "dict_keys(['key1', 'key2', 'key3', 'key4', 'key5', (0, 1)])"
            ]
          },
          "metadata": {},
          "execution_count": 12
        }
      ]
    },
    {
      "cell_type": "code",
      "source": [
        "Dict.values()"
      ],
      "metadata": {
        "colab": {
          "base_uri": "https://localhost:8080/"
        },
        "id": "favNrMATe2SK",
        "outputId": "8b658401-030e-4612-a2cf-603ca3a7cd23"
      },
      "execution_count": 13,
      "outputs": [
        {
          "output_type": "execute_result",
          "data": {
            "text/plain": [
              "dict_values([1, '2', [3, 3, 3], (4, 4, 4), 5, 6])"
            ]
          },
          "metadata": {},
          "execution_count": 13
        }
      ]
    },
    {
      "cell_type": "code",
      "source": [
        "del(Dict['key1'])\n",
        "Dict"
      ],
      "metadata": {
        "colab": {
          "base_uri": "https://localhost:8080/"
        },
        "id": "v4-lcWWAe5Eh",
        "outputId": "3150ad97-2be7-4f9f-c3c6-ae0807e2c4dc"
      },
      "execution_count": 14,
      "outputs": [
        {
          "output_type": "execute_result",
          "data": {
            "text/plain": [
              "{'key2': '2', 'key3': [3, 3, 3], 'key4': (4, 4, 4), 'key5': 5, (0, 1): 6}"
            ]
          },
          "metadata": {},
          "execution_count": 14
        }
      ]
    },
    {
      "cell_type": "markdown",
      "source": [
        "#Sets"
      ],
      "metadata": {
        "id": "GWIt1WJhfdu6"
      }
    },
    {
      "cell_type": "markdown",
      "source": [
        "With a pair of curly brackets {}. Python will automatically remove duplicate items."
      ],
      "metadata": {
        "id": "Z1X86kWFfsKN"
      }
    },
    {
      "cell_type": "code",
      "source": [
        "set1 = {\"pop\", \"rock\", \"soul\", \"hard rock\", \"rock\", \"R&B\", \"rock\", \"disco\"}\n",
        "set1"
      ],
      "metadata": {
        "colab": {
          "base_uri": "https://localhost:8080/"
        },
        "id": "KlRVq0KxfM4d",
        "outputId": "cdbefe62-7cc5-4bf6-c3f1-e10deb2e6230"
      },
      "execution_count": 15,
      "outputs": [
        {
          "output_type": "execute_result",
          "data": {
            "text/plain": [
              "{'R&B', 'disco', 'hard rock', 'pop', 'rock', 'soul'}"
            ]
          },
          "metadata": {},
          "execution_count": 15
        }
      ]
    },
    {
      "cell_type": "markdown",
      "source": [
        "<img src=\"https://cf-courses-data.s3.us.cloud-object-storage.appdomain.cloud/IBMDeveloperSkillsNetwork-PY0101EN-SkillsNetwork/labs/Module%202/images/SetsUnique.png\" width=\"1100\">\n"
      ],
      "metadata": {
        "id": "Bi8yz-6gfi8j"
      }
    },
    {
      "cell_type": "code",
      "source": [
        "# Convert list to set\n",
        "\n",
        "album_list = [ \"Michael Jackson\", \"Thriller\", 1982, \"00:42:19\", \\\n",
        "              \"Pop, Rock, R&B\", 46.0, 65, \"30-Nov-82\", None, 10.0]\n",
        "album_set = set(album_list)\n",
        "album_set"
      ],
      "metadata": {
        "colab": {
          "base_uri": "https://localhost:8080/"
        },
        "id": "fDlpOeeBfhWt",
        "outputId": "e2d1ba95-9955-4243-cf02-a32ff54cccac"
      },
      "execution_count": 16,
      "outputs": [
        {
          "output_type": "execute_result",
          "data": {
            "text/plain": [
              "{'00:42:19',\n",
              " 10.0,\n",
              " 1982,\n",
              " '30-Nov-82',\n",
              " 46.0,\n",
              " 65,\n",
              " 'Michael Jackson',\n",
              " None,\n",
              " 'Pop, Rock, R&B',\n",
              " 'Thriller'}"
            ]
          },
          "metadata": {},
          "execution_count": 16
        }
      ]
    },
    {
      "cell_type": "code",
      "source": [
        "A = set([\"Thriller\", \"Back in Black\", \"AC/DC\"])\n",
        "A"
      ],
      "metadata": {
        "colab": {
          "base_uri": "https://localhost:8080/"
        },
        "id": "4nMIKp4tfnSa",
        "outputId": "8facbc85-fb17-4629-8839-fa901f893909"
      },
      "execution_count": 17,
      "outputs": [
        {
          "output_type": "execute_result",
          "data": {
            "text/plain": [
              "{'AC/DC', 'Back in Black', 'Thriller'}"
            ]
          },
          "metadata": {},
          "execution_count": 17
        }
      ]
    },
    {
      "cell_type": "code",
      "source": [
        "A.add(\"NSYNC\")\n",
        "A"
      ],
      "metadata": {
        "colab": {
          "base_uri": "https://localhost:8080/"
        },
        "id": "HxyPE4OZf2d3",
        "outputId": "bfda9cca-866b-47ce-a086-7afd2934143d"
      },
      "execution_count": 18,
      "outputs": [
        {
          "output_type": "execute_result",
          "data": {
            "text/plain": [
              "{'AC/DC', 'Back in Black', 'NSYNC', 'Thriller'}"
            ]
          },
          "metadata": {},
          "execution_count": 18
        }
      ]
    },
    {
      "cell_type": "code",
      "source": [
        "A.remove(\"NSYNC\")\n",
        "A"
      ],
      "metadata": {
        "colab": {
          "base_uri": "https://localhost:8080/"
        },
        "id": "sVAnBzCEf36-",
        "outputId": "127352af-46ee-4659-88e9-b4f6d03e4dc4"
      },
      "execution_count": 19,
      "outputs": [
        {
          "output_type": "execute_result",
          "data": {
            "text/plain": [
              "{'AC/DC', 'Back in Black', 'Thriller'}"
            ]
          },
          "metadata": {},
          "execution_count": 19
        }
      ]
    },
    {
      "cell_type": "code",
      "source": [
        "# Verify if the element is in the set\n",
        "\n",
        "\"AC/DC\" in A"
      ],
      "metadata": {
        "colab": {
          "base_uri": "https://localhost:8080/"
        },
        "id": "FIXGP-74f5Y9",
        "outputId": "c8c862cb-996e-45d3-e59b-a18500eab5c1"
      },
      "execution_count": 20,
      "outputs": [
        {
          "output_type": "execute_result",
          "data": {
            "text/plain": [
              "True"
            ]
          },
          "metadata": {},
          "execution_count": 20
        }
      ]
    },
    {
      "cell_type": "code",
      "source": [
        "album_set1 = set([\"Thriller\", 'AC/DC', 'Back in Black'])\n",
        "album_set2 = set([ \"AC/DC\", \"Back in Black\", \"The Dark Side of the Moon\"])"
      ],
      "metadata": {
        "id": "tdYbFIy9f6e-"
      },
      "execution_count": 21,
      "outputs": []
    },
    {
      "cell_type": "code",
      "source": [
        "# Find the intersections\n",
        "\n",
        "intersection = album_set1 & album_set2\n",
        "intersection"
      ],
      "metadata": {
        "colab": {
          "base_uri": "https://localhost:8080/"
        },
        "id": "hQ7awOM9gEvy",
        "outputId": "820ed92f-73df-4c7d-870e-ad3e538fa52f"
      },
      "execution_count": 22,
      "outputs": [
        {
          "output_type": "execute_result",
          "data": {
            "text/plain": [
              "{'AC/DC', 'Back in Black'}"
            ]
          },
          "metadata": {},
          "execution_count": 22
        }
      ]
    },
    {
      "cell_type": "markdown",
      "source": [
        "<img src=\"https://cf-courses-data.s3.us.cloud-object-storage.appdomain.cloud/IBMDeveloperSkillsNetwork-PY0101EN-SkillsNetwork/labs/Module%202/images/SetsLogic.png\" width=\"650\">\n"
      ],
      "metadata": {
        "id": "ceNbdbQqgIqw"
      }
    },
    {
      "cell_type": "code",
      "source": [
        "# Find the difference in set1 but not set2\n",
        "\n",
        "album_set1.difference(album_set2)"
      ],
      "metadata": {
        "colab": {
          "base_uri": "https://localhost:8080/"
        },
        "id": "ybIQrPN4gIHU",
        "outputId": "0d82f496-e47a-44bb-e9ee-c6445849e80e"
      },
      "execution_count": 23,
      "outputs": [
        {
          "output_type": "execute_result",
          "data": {
            "text/plain": [
              "{'Thriller'}"
            ]
          },
          "metadata": {},
          "execution_count": 23
        }
      ]
    },
    {
      "cell_type": "markdown",
      "source": [
        "<img src=\"https://cf-courses-data.s3.us.cloud-object-storage.appdomain.cloud/IBMDeveloperSkillsNetwork-PY0101EN-SkillsNetwork/labs/Module%202/images/SetsLeft.png\" width=\"650\">\n"
      ],
      "metadata": {
        "id": "7SZytZcrgOvN"
      }
    },
    {
      "cell_type": "code",
      "source": [
        "album_set2.difference(album_set1)"
      ],
      "metadata": {
        "colab": {
          "base_uri": "https://localhost:8080/"
        },
        "id": "q9sOvA5PgNOb",
        "outputId": "c21de3f4-a1c9-43f2-a787-01b85ce405b7"
      },
      "execution_count": 24,
      "outputs": [
        {
          "output_type": "execute_result",
          "data": {
            "text/plain": [
              "{'The Dark Side of the Moon'}"
            ]
          },
          "metadata": {},
          "execution_count": 24
        }
      ]
    },
    {
      "cell_type": "markdown",
      "source": [
        "<img src=\"https://cf-courses-data.s3.us.cloud-object-storage.appdomain.cloud/IBMDeveloperSkillsNetwork-PY0101EN-SkillsNetwork/labs/Module%202/images/SetsRight.png\" width=\"650\">\n"
      ],
      "metadata": {
        "id": "aSCEj3AngSHC"
      }
    },
    {
      "cell_type": "code",
      "source": [
        "album_set1.intersection(album_set2)"
      ],
      "metadata": {
        "colab": {
          "base_uri": "https://localhost:8080/"
        },
        "id": "7t__aJLMgRrB",
        "outputId": "f066f7df-cd69-440f-c6f7-135d93dd480f"
      },
      "execution_count": 25,
      "outputs": [
        {
          "output_type": "execute_result",
          "data": {
            "text/plain": [
              "{'AC/DC', 'Back in Black'}"
            ]
          },
          "metadata": {},
          "execution_count": 25
        }
      ]
    },
    {
      "cell_type": "markdown",
      "source": [
        "<img src=\"https://cf-courses-data.s3.us.cloud-object-storage.appdomain.cloud/IBMDeveloperSkillsNetwork-PY0101EN-SkillsNetwork/labs/Module%202/images/SetsIntersect.png\" width=\"650\">\n"
      ],
      "metadata": {
        "id": "EEzd1qwAgb3g"
      }
    },
    {
      "cell_type": "code",
      "source": [
        "album_set1.union(album_set2)"
      ],
      "metadata": {
        "colab": {
          "base_uri": "https://localhost:8080/"
        },
        "id": "_Xt4xT4Jgbjr",
        "outputId": "c6707811-3d0c-4a5b-f017-db046ebed0cd"
      },
      "execution_count": 26,
      "outputs": [
        {
          "output_type": "execute_result",
          "data": {
            "text/plain": [
              "{'AC/DC', 'Back in Black', 'The Dark Side of the Moon', 'Thriller'}"
            ]
          },
          "metadata": {},
          "execution_count": 26
        }
      ]
    },
    {
      "cell_type": "markdown",
      "source": [
        "<img src=\"https://cf-courses-data.s3.us.cloud-object-storage.appdomain.cloud/IBMDeveloperSkillsNetwork-PY0101EN-SkillsNetwork/labs/Module%202/images/SetsUnion.png\" width=\"650\">\n"
      ],
      "metadata": {
        "id": "i5mMtzYEgfHv"
      }
    },
    {
      "cell_type": "code",
      "source": [
        "# Check if superset\n",
        "\n",
        "set(album_set1).issuperset(album_set2)"
      ],
      "metadata": {
        "colab": {
          "base_uri": "https://localhost:8080/"
        },
        "id": "MasjwAvlgerQ",
        "outputId": "2c22c778-42df-4adc-8b91-20ed2e8687d2"
      },
      "execution_count": 27,
      "outputs": [
        {
          "output_type": "execute_result",
          "data": {
            "text/plain": [
              "False"
            ]
          },
          "metadata": {},
          "execution_count": 27
        }
      ]
    },
    {
      "cell_type": "code",
      "source": [
        "# Check if subset\n",
        "\n",
        "set(album_set2).issubset(album_set1)"
      ],
      "metadata": {
        "colab": {
          "base_uri": "https://localhost:8080/"
        },
        "id": "GtjQtKjagljh",
        "outputId": "e92a9624-2222-4eee-fec2-d891b3cef35b"
      },
      "execution_count": 28,
      "outputs": [
        {
          "output_type": "execute_result",
          "data": {
            "text/plain": [
              "False"
            ]
          },
          "metadata": {},
          "execution_count": 28
        }
      ]
    },
    {
      "cell_type": "code",
      "source": [
        "# Check if subset\n",
        "\n",
        "set({\"Back in Black\", \"AC/DC\"}).issubset(album_set1)"
      ],
      "metadata": {
        "colab": {
          "base_uri": "https://localhost:8080/"
        },
        "id": "7DaBwTAqgm-m",
        "outputId": "81a09deb-7db4-4beb-fb58-6b85dda3ea60"
      },
      "execution_count": 29,
      "outputs": [
        {
          "output_type": "execute_result",
          "data": {
            "text/plain": [
              "True"
            ]
          },
          "metadata": {},
          "execution_count": 29
        }
      ]
    },
    {
      "cell_type": "code",
      "source": [
        "# Check if superset\n",
        "\n",
        "album_set1.issuperset({\"Back in Black\", \"AC/DC\"})"
      ],
      "metadata": {
        "colab": {
          "base_uri": "https://localhost:8080/"
        },
        "id": "lGvl3HxZgrJ9",
        "outputId": "3c9dee33-9098-4975-c7f6-4e79017ada6d"
      },
      "execution_count": 30,
      "outputs": [
        {
          "output_type": "execute_result",
          "data": {
            "text/plain": [
              "True"
            ]
          },
          "metadata": {},
          "execution_count": 30
        }
      ]
    },
    {
      "cell_type": "code",
      "source": [
        "A = [1, 2, 2, 1]\n",
        "B = set([1, 2, 2, 1])\n",
        "print(\"the sum of A is:\", sum(A))\n",
        "print(\"the sum of B is:\", sum(B))"
      ],
      "metadata": {
        "colab": {
          "base_uri": "https://localhost:8080/"
        },
        "id": "3IEDNbSlgvK7",
        "outputId": "edde76bc-8038-49e1-b328-597c402e6ef7"
      },
      "execution_count": 31,
      "outputs": [
        {
          "output_type": "stream",
          "name": "stdout",
          "text": [
            "the sum of A is: 6\n",
            "the sum of B is: 3\n"
          ]
        }
      ]
    },
    {
      "cell_type": "markdown",
      "source": [
        "sum(A) = 1 + 2 + 2 + 1 = 6\n",
        "\n",
        "set([1, 2, 2, 1]) becomes {1, 2}\n",
        "sum(B) = 1 + 2 = 3"
      ],
      "metadata": {
        "id": "X6dymbwghjWq"
      }
    }
  ]
}